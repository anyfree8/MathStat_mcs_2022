{
  "nbformat": 4,
  "nbformat_minor": 0,
  "metadata": {
    "colab": {
      "provenance": []
    },
    "kernelspec": {
      "name": "python3",
      "display_name": "Python 3"
    },
    "language_info": {
      "name": "python"
    }
  },
  "cells": [
    {
      "cell_type": "code",
      "execution_count": null,
      "metadata": {
        "colab": {
          "base_uri": "https://localhost:8080/"
        },
        "id": "ulm9pxu_xsNB",
        "outputId": "03aa1b11-090c-44c0-cb8d-a51f1947a55b"
      },
      "outputs": [
        {
          "output_type": "stream",
          "name": "stdout",
          "text": [
            "Looking in indexes: https://pypi.org/simple, https://us-python.pkg.dev/colab-wheels/public/simple/\n",
            "Collecting matplotlib_inline\n",
            "  Downloading matplotlib_inline-0.1.6-py3-none-any.whl (9.4 kB)\n",
            "Requirement already satisfied: traitlets in /usr/local/lib/python3.7/dist-packages (from matplotlib_inline) (5.1.1)\n",
            "Installing collected packages: matplotlib-inline\n",
            "Successfully installed matplotlib-inline-0.1.6\n"
          ]
        }
      ],
      "source": [
        "!pip install matplotlib_inline"
      ]
    },
    {
      "cell_type": "code",
      "source": [
        "! pip install statsmodels --upgrade"
      ],
      "metadata": {
        "colab": {
          "base_uri": "https://localhost:8080/"
        },
        "id": "6S2NhzpL6BYL",
        "outputId": "3ebccfc3-67f8-4424-937c-e7a4bec0ba62"
      },
      "execution_count": null,
      "outputs": [
        {
          "output_type": "stream",
          "name": "stdout",
          "text": [
            "Looking in indexes: https://pypi.org/simple, https://us-python.pkg.dev/colab-wheels/public/simple/\n",
            "Requirement already satisfied: statsmodels in /usr/local/lib/python3.7/dist-packages (0.12.2)\n",
            "Collecting statsmodels\n",
            "  Downloading statsmodels-0.13.5-cp37-cp37m-manylinux_2_17_x86_64.manylinux2014_x86_64.whl (9.9 MB)\n",
            "\u001b[K     |████████████████████████████████| 9.9 MB 22.5 MB/s \n",
            "\u001b[?25hRequirement already satisfied: scipy<1.8,>=1.3 in /usr/local/lib/python3.7/dist-packages (from statsmodels) (1.7.3)\n",
            "Requirement already satisfied: packaging>=21.3 in /usr/local/lib/python3.7/dist-packages (from statsmodels) (21.3)\n",
            "Requirement already satisfied: pandas>=0.25 in /usr/local/lib/python3.7/dist-packages (from statsmodels) (1.3.5)\n",
            "Requirement already satisfied: patsy>=0.5.2 in /usr/local/lib/python3.7/dist-packages (from statsmodels) (0.5.3)\n",
            "Requirement already satisfied: numpy>=1.17 in /usr/local/lib/python3.7/dist-packages (from statsmodels) (1.21.6)\n",
            "Requirement already satisfied: pyparsing!=3.0.5,>=2.0.2 in /usr/local/lib/python3.7/dist-packages (from packaging>=21.3->statsmodels) (3.0.9)\n",
            "Requirement already satisfied: pytz>=2017.3 in /usr/local/lib/python3.7/dist-packages (from pandas>=0.25->statsmodels) (2022.6)\n",
            "Requirement already satisfied: python-dateutil>=2.7.3 in /usr/local/lib/python3.7/dist-packages (from pandas>=0.25->statsmodels) (2.8.2)\n",
            "Requirement already satisfied: six in /usr/local/lib/python3.7/dist-packages (from patsy>=0.5.2->statsmodels) (1.15.0)\n",
            "Installing collected packages: statsmodels\n",
            "  Attempting uninstall: statsmodels\n",
            "    Found existing installation: statsmodels 0.12.2\n",
            "    Uninstalling statsmodels-0.12.2:\n",
            "      Successfully uninstalled statsmodels-0.12.2\n",
            "Successfully installed statsmodels-0.13.5\n"
          ]
        }
      ]
    },
    {
      "cell_type": "code",
      "source": [
        "import numpy as np\n",
        "import matplotlib\n",
        "from matplotlib import pyplot as plt\n",
        "from matplotlib_inline.backend_inline import set_matplotlib_formats\n",
        "set_matplotlib_formats('svg')\n",
        "import scipy.stats as ss\n",
        "from scipy import optimize\n",
        "from scipy.optimize import minimize, LinearConstraint, NonlinearConstraint\n",
        "import pandas as pd\n",
        "from scipy.integrate import quad\n",
        "from itertools import product\n",
        "import statsmodels.api as sm\n",
        "from statsmodels.sandbox.regression.predstd import wls_prediction_std"
      ],
      "metadata": {
        "id": "ugSvX2V1xuVl"
      },
      "execution_count": null,
      "outputs": []
    },
    {
      "cell_type": "markdown",
      "source": [
        "**Задание 1**"
      ],
      "metadata": {
        "id": "ac1OMr7QovDu"
      }
    },
    {
      "cell_type": "code",
      "source": [
        "data = pd.read_csv('Advertising.csv', index_col=0)\n",
        "data[\"TV*radio\"] = data['TV'] * data['radio']\n",
        "np.random.seed(1337)\n",
        "features = ['TV', 'radio','TV*radio']\n",
        "TARGET = 'sales'\n",
        "model = sm.OLS(data[TARGET], sm.add_constant(data[features])).fit() \n",
        "\n",
        "def max_sales(costs):\n",
        "  r = []\n",
        "  for cost in costs:\n",
        "    sum_equal_cost = LinearConstraint(np.ones(2), cost, cost)\n",
        "\n",
        "    bounds=[(0.000001, None) for _ in range(2)]\n",
        "    x0 = cost * np.ones(2) / 2\n",
        "\n",
        "    res = minimize(lambda x: -model.predict(pd.DataFrame(\n",
        "        {'const': [1], 'TV': [x[0]], 'radio': [x[1]], 'TV*radio': [x[0]*x[1]]}))[0],\n",
        "                  x0=x0, bounds=bounds, constraints=[sum_equal_cost])\n",
        "    r.append(res.x)\n",
        "  return np.array(r)\n",
        "\n",
        "\n",
        "costs = np.array(data[['TV', 'radio', 'newspaper']]).sum(axis=-1)\n",
        "redist = max_sales(costs)\n",
        "new_data = pd.DataFrame({'TV': redist.T[0], 'radio': redist.T[1]})\n",
        "new_data['TV*radio'] = new_data['TV'] * new_data['radio']\n",
        "\n",
        "prstd, iv_l, iv_u = wls_prediction_std(model, sm.add_constant(new_data))\n",
        "variances = prstd ** 2\n",
        "\n",
        "opt_sales = model.predict(sm.add_constant(new_data))\n",
        "t = ss.t(200 - 3 - 1).ppf(0.975)\n",
        "opt_sales.sum() + variances.sum()**(0.5) * np.array([-t, t])"
      ],
      "metadata": {
        "colab": {
          "base_uri": "https://localhost:8080/"
        },
        "id": "AS4zXs0uVQRJ",
        "outputId": "1986830e-c0ae-4ede-adcd-f1ea0a886f36"
      },
      "execution_count": null,
      "outputs": [
        {
          "output_type": "execute_result",
          "data": {
            "text/plain": [
              "array([4947.50579278, 5006.22824936])"
            ]
          },
          "metadata": {},
          "execution_count": 13
        }
      ]
    },
    {
      "cell_type": "markdown",
      "source": [
        "**Задание 2**"
      ],
      "metadata": {
        "id": "aiGQxvGuoylP"
      }
    },
    {
      "cell_type": "code",
      "source": [
        "data = pd.read_csv('Advertising.csv', index_col=0)\n",
        "data[\"TV*radio\"] = data['TV'] * data['radio']\n",
        "\n",
        "np.random.seed(1337)\n",
        "features = ['TV', 'radio','TV*radio']\n",
        "TARGET = 'sales'\n",
        "model = sm.OLS(data[TARGET], sm.add_constant(data[features])).fit() \n",
        "\n",
        "e_star = model.resid.values\n",
        "alpha = 0.05\n",
        "N = 10000\n",
        "n = 200\n",
        "ide = np.random.choice(n, size = (N, n))\n",
        "e_b = e_star[ide]\n",
        "\n",
        "xbeta = model.fittedvalues.values\n",
        "\n",
        "y_b = np.array([xbeta for i in range(N)]) + e_b\n",
        "\n",
        "radio_b = []\n",
        "for y in y_b:\n",
        "  beta = sm.OLS(y, sm.add_constant(data[features])).fit().params.values\n",
        "  radio_b.append(beta[2])\n",
        "\n",
        "np.quantile(np.array(radio_b), alpha/2), np.quantile(np.array(radio_b), 1- alpha/2)"
      ],
      "metadata": {
        "id": "SOPnqA1Vo1BG",
        "colab": {
          "base_uri": "https://localhost:8080/"
        },
        "outputId": "e40106ff-4c61-472b-f987-67ed6eebc9d1"
      },
      "execution_count": null,
      "outputs": [
        {
          "output_type": "execute_result",
          "data": {
            "text/plain": [
              "(0.01103169461042964, 0.04674395597269704)"
            ]
          },
          "metadata": {},
          "execution_count": 14
        }
      ]
    },
    {
      "cell_type": "markdown",
      "source": [
        "**Задание 3**"
      ],
      "metadata": {
        "id": "ZH-2Q7y8yQ4z"
      }
    },
    {
      "cell_type": "markdown",
      "source": [
        "$$\n",
        "H_0: \\gamma \\in \\mathbb{L}_0 ⊂ \\mathbb{L}_1\n",
        "$$\n",
        "\n",
        "$$\n",
        "\\mathbb{E}ɛ = 0\n",
        "$$\n",
        "\n",
        "Пусть $P_0$ - проекция на $\\mathbb{L}_0$, $P_1$ - проекция на $\\mathbb{L}_1$\n",
        "\n",
        "$D_0 = Y - P_0Y$\n",
        "\n",
        "$D_{01} = P_0Y - P_1Y$\n",
        "\n",
        "$(!) D_0 \\perp D_{01}$ и $\\mathbb{E}(D_0) = \\mathbb{E}(D_{01}) = 0$\n",
        "\n",
        "$$\n",
        "D_0 = Y - P_0Y = \\gamma + \\varepsilon - P_0\\gamma - P_0\\varepsilon = \n",
        "\\text{(т.к. $\\gamma \\in \\mathbb{L}_0 ⊂ \\mathbb{L}_1$)}\n",
        "= \\varepsilon - P_0\\varepsilon\n",
        "$$\n",
        "\n",
        "$$\n",
        "D_1 = P_0Y - P_1Y = P_0\\gamma + P_0\\varepsilon - P_1\\gamma - P_1\\varepsilon = \n",
        "\\text{(т.к. $\\gamma \\in \\mathbb{L}_0 ⊂ \\mathbb{L}_1$)}\n",
        "= P_0\\varepsilon - P_1\\varepsilon\n",
        "$$\n",
        "\n",
        "по свойству проекции: $(\\varepsilon - P_0\\varepsilon) \\perp \\mathbb{L}_0$\n",
        "\n",
        "$P_0\\varepsilon - P_1\\varepsilon = P_0(\\varepsilon - P_1\\varepsilon) \\in \\mathbb{L}_0 (P_0P_1 = P_1)$.\n",
        "\n",
        "$\\Rightarrow (\\varepsilon - P_0\\varepsilon) \\perp (P_0\\varepsilon - P_1\\varepsilon)$\n",
        "\n",
        "т.е. $D_0 \\perp D_{01}$\n",
        "\n",
        "$$\n",
        "\\mathbb{E}(D_0) = \\mathbb{E}(I - P_0)\\varepsilon = (I - P_0)\\mathbb{E}ɛ = 0\n",
        "$$\n",
        "\n",
        "$$\n",
        "\\mathbb{E}(D_1) = \\mathbb{E}(P_0 - P_1)\\varepsilon = (P_0 - P_1)\\mathbb{E}ɛ = 0\n",
        "$$\n",
        "\n"
      ],
      "metadata": {
        "id": "CH-N8FcpOTHs"
      }
    },
    {
      "cell_type": "markdown",
      "source": [
        "**Задание 4**"
      ],
      "metadata": {
        "id": "qVx2EHIEUuXi"
      }
    },
    {
      "cell_type": "markdown",
      "source": [
        "*1.*\n",
        "\n",
        "$(!) RSS = ||D_0||^2  \\sim \\sigma^2 \\chi^2(n - k - 1)$\n",
        "\n",
        "\n",
        "$D_0 = Y - P_0Y = Y - hY$, где $h = x(x^Tx)^{-1}x^T$(hat-matrix) - оператор ортогонального проектирования на\n",
        "линейную оболочку столбцов x ($\\mathbb{L}_0$).\n",
        "\n",
        "Причем, $hY = x\\beta^*$\n",
        "\n",
        "$RSS = ||Y - x\\beta^*||^2$ по определению.\n",
        "\n",
        "т.е. $RSS = ||Y - x\\beta^*||^2 = ||Y - hY||^2 = ||D_0||^2$\n",
        "\n",
        "Осталось понять почему $D_0^TD_0 \\sim \\sigma^2 \\chi^2(n - k - 1)$\n",
        "\n",
        "$D_0 = Y - hY = \\gamma + ɛ - \\gamma - hɛ = (I - h)ɛ$\n",
        "\n",
        "$\\frac{ɛ}{σ} \\sim N(0, I_n)$\n",
        "\n",
        "$(I - h)$ - проекция на оргогональное дополнение $\\mathbb{L}_0$ \n",
        "\n",
        "$dim(\\mathbb{L}_0^{\\perp}) = n - k - 1$ $\\Rightarrow$\n",
        "$(I - h)\\frac{ɛ}{σ} \\sim N(0, I_{n - k - 1})$\n",
        "\n",
        "Тогда по определению $\\chi^2$:\n",
        "\n",
        "$$\n",
        "((I - h)\\frac{ɛ}{σ})^T((I - h)\\frac{ɛ}{σ}) \\sim \\chi^2(n - k - 1)\n",
        "$$\n",
        "\n",
        "$$\n",
        "((I - h)ɛ)^T((I - h)ɛ) \\sim \\sigma^2\\chi^2(n - k - 1)\n",
        "$$\n",
        "$$\n",
        "||D_0||^2 = D_0^TD_0 = \\sigma^2\\chi^2(n - k - 1)\n",
        "$$"
      ],
      "metadata": {
        "id": "ejGlEIQZUxaw"
      }
    },
    {
      "cell_type": "markdown",
      "source": [
        "*2.*\n",
        "\n",
        "Рассмотрим базис $\\mathbb{R}^n: <1, x_{:,1}, \\dots, x_{:,k}> \\oplus <1, x_{:,1}, \\dots, x_{:,k}>^{\\perp}$ и замену базиса переводящую наш базис в этот $C$.\n",
        "\n",
        "Тогда $СhY = \\beta^{*}$.\n",
        "\n",
        "$D_0 = (I-h)Y$ и $hY$ - независимы $⇒$ $(I-h)Y$ и $СhY$ - независимы.\n",
        "\n",
        "Значит $D_0^TD_0$ и $\\beta^*$ - независимы."
      ],
      "metadata": {
        "id": "LQJrdMVoZXMk"
      }
    },
    {
      "cell_type": "markdown",
      "source": [
        "*3.*\n",
        "\n",
        "$$\n",
        "\\frac{c^T(\\beta^* - \\beta)}{\\hat\\sigma \\sqrt{c^T(x^Tx)^{-1}c}} \\sim T(n - k - 1)\n",
        "$$\n",
        "\n",
        "$$\n",
        "\\hat \\sigma = \\sqrt \\frac{RSS}{n - k - 1} = \\sigma \\sqrt \\frac{\\frac{RSS}{\\sigma^2}}{n - k - 1}\n",
        "$$\n",
        "\n",
        "$$\n",
        "Y := \\frac{RSS}{\\sigma^2} \\sim \\chi^2(n - k - 1)\n",
        "$$\n",
        "\n",
        "$$\n",
        "\\beta^* - \\beta = (x^Tx)^{-1}x^T\\varepsilon ⇒ (\\beta^*-\\beta) \\sim N(0, cov(\\beta^*))\n",
        "$$\n",
        "\n",
        "$$\n",
        "cov(\\beta^*) = \\sigma^2(x^Tx)^{-1}\n",
        "$$\n",
        "\n",
        "$$\n",
        "\\frac{c^T(\\beta^* - \\beta)}{\\hat\\sigma \\sqrt{c^T(x^Tx)^{-1}c}} =\n",
        "\\frac{1}{\\sqrt{\\frac{Y}{n - k - 1}}} \\frac{c^T(\\beta^* - \\beta)}{\\sigma\\sqrt{c^T(x^Tx)^{-1}c}}\n",
        "$$\n",
        "\n",
        "$$\n",
        "c^T(\\beta^* - \\beta) \\sim N(0, \\sigma^2c^T(x^Tx)^{-1}c) \\Rightarrow\n",
        "Z := \\frac{c^T(\\beta^* - \\beta)}{\\sigma\\sqrt{c^T(x^Tx)^{-1}c}} \\sim N(0, 1)\n",
        "$$\n",
        "\n",
        "по предыдущим пунктам $Z$ и $Y$ - независимы.\n",
        "\n",
        "$⇒ \\frac{Z}{\\sqrt\\frac{Y}{n - k -1}} \\sim T(n - k -1)$ по определению.\n"
      ],
      "metadata": {
        "id": "XMFBut-Srb7w"
      }
    }
  ]
}