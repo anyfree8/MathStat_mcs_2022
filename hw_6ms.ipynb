{
  "nbformat": 4,
  "nbformat_minor": 0,
  "metadata": {
    "colab": {
      "provenance": [],
      "collapsed_sections": []
    },
    "kernelspec": {
      "name": "python3",
      "display_name": "Python 3"
    },
    "language_info": {
      "name": "python"
    }
  },
  "cells": [
    {
      "cell_type": "code",
      "execution_count": 1,
      "metadata": {
        "colab": {
          "base_uri": "https://localhost:8080/"
        },
        "id": "ulm9pxu_xsNB",
        "outputId": "6c84e2f7-0dca-4023-ae49-90313f1bf58c"
      },
      "outputs": [
        {
          "output_type": "stream",
          "name": "stdout",
          "text": [
            "Looking in indexes: https://pypi.org/simple, https://us-python.pkg.dev/colab-wheels/public/simple/\n",
            "Collecting matplotlib_inline\n",
            "  Downloading matplotlib_inline-0.1.6-py3-none-any.whl (9.4 kB)\n",
            "Requirement already satisfied: traitlets in /usr/local/lib/python3.7/dist-packages (from matplotlib_inline) (5.1.1)\n",
            "Installing collected packages: matplotlib-inline\n",
            "Successfully installed matplotlib-inline-0.1.6\n"
          ]
        }
      ],
      "source": [
        "!pip install matplotlib_inline"
      ]
    },
    {
      "cell_type": "code",
      "source": [
        "import numpy as np\n",
        "import matplotlib\n",
        "from matplotlib import pyplot as plt\n",
        "from matplotlib_inline.backend_inline import set_matplotlib_formats\n",
        "set_matplotlib_formats('svg')\n",
        "import scipy.stats as ss\n",
        "from scipy import optimize\n",
        "from scipy.optimize import minimize, LinearConstraint, NonlinearConstraint\n",
        "import pandas as pd"
      ],
      "metadata": {
        "id": "ugSvX2V1xuVl"
      },
      "execution_count": 2,
      "outputs": []
    },
    {
      "cell_type": "markdown",
      "source": [
        "**Задание 1**"
      ],
      "metadata": {
        "id": "MrPaw1KN8EkN"
      }
    },
    {
      "cell_type": "code",
      "source": [
        "sample = np.array(list(map(float, input().strip().split())))\n",
        "n = len(sample)\n",
        "\n",
        "t = sample.mean() * np.sqrt(n) / sample.std(ddof=1)\n",
        "\n",
        "print(2 * (1 - ss.t(n-1).cdf(abs(t))))"
      ],
      "metadata": {
        "id": "aXVD9CCP8I4U"
      },
      "execution_count": null,
      "outputs": []
    },
    {
      "cell_type": "markdown",
      "source": [
        "**Задание 2**\n"
      ],
      "metadata": {
        "id": "dbGCP3exZVzX"
      }
    },
    {
      "cell_type": "code",
      "source": [
        "n = 1000000\n",
        "samples = ss.expon().rvs(size=(n,30), random_state=42)\n",
        "\n",
        "def t(sample):\n",
        "  return np.sqrt(30) * (sample.mean() - 1) / sample.std(ddof=1)\n",
        "\n",
        "(np.array([t(sample) for sample in samples]) > ss.norm().ppf(0.95)).mean()\n",
        "\n"
      ],
      "metadata": {
        "colab": {
          "base_uri": "https://localhost:8080/"
        },
        "id": "stI8ZZngZ94p",
        "outputId": "c288a42b-4be6-4fc1-a3ce-2a3f0cc497ad"
      },
      "execution_count": 3,
      "outputs": [
        {
          "output_type": "execute_result",
          "data": {
            "text/plain": [
              "0.026222"
            ]
          },
          "metadata": {},
          "execution_count": 3
        }
      ]
    },
    {
      "cell_type": "markdown",
      "source": [
        "**Задание 3**"
      ],
      "metadata": {
        "id": "S-e6usXvodX0"
      }
    },
    {
      "cell_type": "code",
      "source": [
        "n = 1000000\n",
        "samples = ss.expon().rvs(size=(n,30), random_state=42)\n",
        "\n",
        "def t(sample):\n",
        "  return np.sqrt(30) * (sample.mean() - 1) / sample.std(ddof=1)\n",
        "\n",
        "np.quantile(np.array([t(sample) for sample in samples]), 0.95)\n"
      ],
      "metadata": {
        "colab": {
          "base_uri": "https://localhost:8080/"
        },
        "id": "zAiVWiC_oc0J",
        "outputId": "e8bd1d78-a83f-4d58-8684-b900b7a11cd9"
      },
      "execution_count": 4,
      "outputs": [
        {
          "output_type": "execute_result",
          "data": {
            "text/plain": [
              "1.4088717357948108"
            ]
          },
          "metadata": {},
          "execution_count": 4
        }
      ]
    },
    {
      "cell_type": "markdown",
      "source": [
        "**Задание 4**"
      ],
      "metadata": {
        "id": "0r1IDduOuiqi"
      }
    },
    {
      "cell_type": "code",
      "source": [
        "with open('casino.txt', 'r') as file:\n",
        "    data = []\n",
        "    for row in file.readlines():\n",
        "        data.append(list(map(int, row.strip().split())))\n",
        "\n",
        "np.random.seed(7)\n",
        "\n",
        "def f(x, data):\n",
        "    p_win, p_go_after_win, p_go_after_lose = x\n",
        "    p_lose = 1 - p_win\n",
        "    res = 0\n",
        "    for d in data:\n",
        "      d_ = np.array(d)\n",
        "      ones = d_[:-1].sum()\n",
        "      zeros = (d_[:-1] == 0).sum()\n",
        "      res_ = ones * np.log(p_win * (1 - p_go_after_win)) + zeros * np.log(p_lose * (1 - p_go_after_lose))\n",
        "      if d[-1] == 1:\n",
        "        res_ += np.log(p_win * p_go_after_win)\n",
        "      else:\n",
        "        res_ += np.log(p_lose * p_go_after_lose)\n",
        "      res += res_\n",
        "    return -res\n",
        "\n",
        "bounds=[(0.0001, .999999) for _ in range(3)]\n",
        "def T(data):\n",
        "  res = minimize(lambda x: f(x, data), x0=np.array([1/2,1/2,1/2]), bounds=bounds)\n",
        "  return res.x[2] - res.x[1]\n",
        "\n",
        "# t = T(data)\n",
        "t = 0.41613186745756475\n",
        "N = 10\n",
        "n = len(data) #1000\n",
        "\n",
        "sample_k = ss.geom(0.55).rvs(size=(N,n))\n",
        "cnt = 0\n",
        "for sample in sample_k:\n",
        "  my_data = [ss.bernoulli(p=0.5).rvs(size=k) for k in sample]\n",
        "  if T(my_data) > t:\n",
        "    cnt += 1\n",
        "\n",
        "cnt/N"
      ],
      "metadata": {
        "colab": {
          "base_uri": "https://localhost:8080/"
        },
        "id": "52GEAYtqocHP",
        "outputId": "7e12367f-0f78-40f0-be42-e5a78da8030e"
      },
      "execution_count": 61,
      "outputs": [
        {
          "output_type": "execute_result",
          "data": {
            "text/plain": [
              "0.0"
            ]
          },
          "metadata": {},
          "execution_count": 61
        }
      ]
    },
    {
      "cell_type": "markdown",
      "source": [
        "**Задание 5**"
      ],
      "metadata": {
        "id": "znC_evh29L8l"
      }
    },
    {
      "cell_type": "code",
      "source": [
        "def T1(x, y):\n",
        "  return np.corrcoef(np.array([x, y]))[0,1]\n",
        "\n",
        "def T2(x, y):\n",
        "  return T1(ss.rankdata(x), ss.rankdata(y))\n",
        "\n",
        "rho_0 = 0\n",
        "rho_1 = 1/2\n",
        "n = 30\n",
        "N = 10000\n",
        "samples0_x, samples0_y = ss.multivariate_normal(cov=[[1, rho_0], [rho_0, 1]]).rvs(size=(N, n), random_state=42).T\n",
        "samples1_x, samples1_y = ss.multivariate_normal(cov=[[1, rho_1], [rho_1, 1]]).rvs(size=(N, n), random_state=42).T\n",
        "\n",
        "\n",
        "t1 = np.array([T1(sample0_x, sample0_y) for sample0_x, sample0_y in zip(samples0_x.T, samples0_y.T)])\n",
        "t2 = np.array([T2(sample0_x, sample0_y) for sample0_x, sample0_y in zip(samples0_x.T, samples0_y.T)])\n",
        "\n",
        "c1 = np.quantile(t1, 0.95)\n",
        "c2 = np.quantile(t2, 0.95)\n",
        "\n",
        "(np.array([T1(sample1_x, sample1_y) for sample1_x, sample1_y in zip(samples1_x.T, samples1_y.T)]) > c1).mean(), (np.array([T2(sample1_x, sample1_y) for sample1_x, sample1_y in zip(samples1_x.T, samples1_y.T)]) > c2).mean()"
      ],
      "metadata": {
        "colab": {
          "base_uri": "https://localhost:8080/"
        },
        "id": "EpI5nUGW9QVG",
        "outputId": "89bba279-5812-43e7-b803-0c3b8186d11e"
      },
      "execution_count": 59,
      "outputs": [
        {
          "output_type": "execute_result",
          "data": {
            "text/plain": [
              "(0.8961, 0.8511)"
            ]
          },
          "metadata": {},
          "execution_count": 59
        }
      ]
    }
  ]
}