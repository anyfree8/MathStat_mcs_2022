{
  "nbformat": 4,
  "nbformat_minor": 0,
  "metadata": {
    "colab": {
      "provenance": []
    },
    "kernelspec": {
      "name": "python3",
      "display_name": "Python 3"
    },
    "language_info": {
      "name": "python"
    }
  },
  "cells": [
    {
      "cell_type": "code",
      "execution_count": 1,
      "metadata": {
        "colab": {
          "base_uri": "https://localhost:8080/"
        },
        "id": "yXUl2MR8IicN",
        "outputId": "d808de20-7b09-4288-9c59-4517818861fa"
      },
      "outputs": [
        {
          "output_type": "stream",
          "name": "stdout",
          "text": [
            "Looking in indexes: https://pypi.org/simple, https://us-python.pkg.dev/colab-wheels/public/simple/\n",
            "Collecting matplotlib_inline\n",
            "  Downloading matplotlib_inline-0.1.6-py3-none-any.whl (9.4 kB)\n",
            "Requirement already satisfied: traitlets in /usr/local/lib/python3.8/dist-packages (from matplotlib_inline) (5.6.0)\n",
            "Installing collected packages: matplotlib-inline\n",
            "Successfully installed matplotlib-inline-0.1.6\n"
          ]
        }
      ],
      "source": [
        "!pip install matplotlib_inline"
      ]
    },
    {
      "cell_type": "code",
      "source": [
        "import numpy as np\n",
        "import scipy.stats as ss\n",
        "from tqdm.notebook import tqdm\n",
        "from matplotlib import pyplot as plt\n",
        "from matplotlib.collections import LineCollection\n",
        "from matplotlib_inline.backend_inline import set_matplotlib_formats\n",
        "set_matplotlib_formats('svg')\n",
        "from sklearn.pipeline import Pipeline\n",
        "from sklearn.preprocessing import StandardScaler, PolynomialFeatures\n",
        "from sklearn.linear_model import Ridge, LinearRegression"
      ],
      "metadata": {
        "id": "D522eRPHIl5f"
      },
      "execution_count": 2,
      "outputs": []
    },
    {
      "cell_type": "code",
      "source": [
        "import numpy as np\n",
        "import matplotlib\n",
        "from matplotlib import pyplot as plt\n",
        "from matplotlib_inline.backend_inline import set_matplotlib_formats\n",
        "set_matplotlib_formats('svg')\n",
        "import scipy.stats as ss\n",
        "from scipy import optimize\n",
        "from scipy.optimize import minimize, LinearConstraint, NonlinearConstraint\n",
        "import pandas as pd\n",
        "from scipy.integrate import quad\n",
        "from itertools import product\n",
        "import statsmodels.api as sm\n",
        "from statsmodels.sandbox.regression.predstd import wls_prediction_std"
      ],
      "metadata": {
        "id": "0GBKRq5lIo6f"
      },
      "execution_count": 3,
      "outputs": []
    },
    {
      "cell_type": "markdown",
      "source": [
        "**Задание 1**"
      ],
      "metadata": {
        "id": "6r4M5WgeScmP"
      }
    },
    {
      "cell_type": "code",
      "source": [
        "data = np.array([28, 26, 33, 24, 34, -44, 27, 16, 40, -2, 29,\n",
        "        22, 24, 21, 25, 30, 23, 29, 31, 19, 24, 20,\n",
        "        36, 32, 36, 28, 25, 21, 28, 29, 37, 25, 28,\n",
        "        26, 30, 32, 36, 26, 30, 22, 36, 23, 27, 27,\n",
        "        28, 27, 31, 27, 26, 33, 26, 32, 32, 24, 39,\n",
        "        28, 24, 25, 32, 25, 29, 27, 28, 29, 16, 23])\n",
        "\n",
        "\n",
        "n = len(data)\n",
        "N = 10000\n",
        "\n",
        "sigma_2_sample = (n - 1) * data.std(ddof=1)**2 / ss.chi2(n-1).rvs(size=N, random_state=42)\n",
        "\n",
        "normal_sample = ss.norm().rvs(size=N, random_state=42)\n",
        "\n",
        "mu_sample = normal_sample * np.sqrt(sigma_2_sample / n) + data.mean()\n",
        "\n",
        "alpha = 0.05\n",
        "np.quantile(mu_sample, alpha/2), np.quantile(mu_sample, 1 - alpha/2)"
      ],
      "metadata": {
        "colab": {
          "base_uri": "https://localhost:8080/"
        },
        "id": "G1AQjHgCYajW",
        "outputId": "01f99f28-ae3d-4d3c-bebe-9f2fd6ea2385"
      },
      "execution_count": 6,
      "outputs": [
        {
          "output_type": "execute_result",
          "data": {
            "text/plain": [
              "(23.551581550110072, 28.824085574962552)"
            ]
          },
          "metadata": {},
          "execution_count": 6
        }
      ]
    },
    {
      "cell_type": "markdown",
      "source": [
        "**Задание 2**"
      ],
      "metadata": {
        "id": "vEPMCBYyWV1L"
      }
    },
    {
      "cell_type": "code",
      "source": [
        "data = np.array([28, 26, 33, 24, 34, -44, 27, 16, 40, -2, 29,\n",
        "        22, 24, 21, 25, 30, 23, 29, 31, 19, 24, 20,\n",
        "        36, 32, 36, 28, 25, 21, 28, 29, 37, 25, 28,\n",
        "        26, 30, 32, 36, 26, 30, 22, 36, 23, 27, 27,\n",
        "        28, 27, 31, 27, 26, 33, 26, 32, 32, 24, 39,\n",
        "        28, 24, 25, 32, 25, 29, 27, 28, 29, 16, 23])\n",
        "\n",
        "n = len(data)\n",
        "N = 20000\n",
        "sigma_2_sample = (n - 1) * ((data**2).sum()/n - data.mean()**2) / ss.chi2(n-1).rvs(size=N, random_state=42)\n",
        "normal_sample = ss.norm().rvs(size=N, random_state=42)\n",
        "mu_sample = normal_sample * np.sqrt(sigma_2_sample / n) + data.mean()\n",
        "\n",
        "sample = ss.norm().rvs(size=(N,n), random_state=37)\n",
        "x_samples = np.diag(np.sqrt(sigma_2_sample)) @ sample + np.array([mu_sample for _ in range(n)]).T\n",
        "xmin_sample = x_samples.min(axis=-1)\n",
        "\n",
        "alpha = 0.05\n",
        "np.quantile(xmin_sample, alpha/2), np.quantile(xmin_sample, 1 - alpha/2)"
      ],
      "metadata": {
        "colab": {
          "base_uri": "https://localhost:8080/"
        },
        "id": "RY7RM7h1ZBBc",
        "outputId": "84ae3824-085e-4901-8495-42d848e09fa1"
      },
      "execution_count": 7,
      "outputs": [
        {
          "output_type": "execute_result",
          "data": {
            "text/plain": [
              "(-11.68469123931682, 10.034396577715343)"
            ]
          },
          "metadata": {},
          "execution_count": 7
        }
      ]
    },
    {
      "cell_type": "markdown",
      "source": [
        "**Задание 3**"
      ],
      "metadata": {
        "id": "0Rn7nw-9dTBr"
      }
    },
    {
      "cell_type": "code",
      "source": [
        "import numpy as np\n",
        "import scipy.stats as ss\n",
        "\n",
        "p1, p2 = 0.3, 0.7                                                # p(i)\n",
        "mix = ss.rv_discrete(name='mix', values=([1, 2], [p1, p2]))\n",
        "px1 = ss.multivariate_normal([0, 0], [[1, 0.5], [0.5, 1]])       # p(x|1)\n",
        "px2 = ss.multivariate_normal([2.5, 0], [[1, -0.5], [-0.5, 1]])   # p(x|2)\n",
        "    \n",
        "def make_data(n):\n",
        "    y = mix.rvs(size=n)\n",
        "    X = np.zeros((n, 2))\n",
        "    X[y == 1] = px1.rvs(size=n)[y == 1]\n",
        "    X[y == 2] = px2.rvs(size=n)[y == 2]\n",
        "    return X, y\n",
        "\n",
        "\n",
        "def a(x):\n",
        "  p = [0.3 * px1.pdf(x), 0.7 * px2.pdf(x)]\n",
        "  return np.argmax(p) + 1\n",
        "\n",
        "\n",
        "N = 100000\n",
        "X, y = make_data(N)\n",
        "([a(x) for x in X] != y).mean()"
      ],
      "metadata": {
        "colab": {
          "base_uri": "https://localhost:8080/"
        },
        "id": "iclWnwIEdWNM",
        "outputId": "a86dd123-da0c-45f9-fa92-2b668693f3b0"
      },
      "execution_count": 8,
      "outputs": [
        {
          "output_type": "execute_result",
          "data": {
            "text/plain": [
              "0.08868"
            ]
          },
          "metadata": {},
          "execution_count": 8
        }
      ]
    }
  ]
}