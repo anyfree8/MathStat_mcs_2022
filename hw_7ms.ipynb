{
  "nbformat": 4,
  "nbformat_minor": 0,
  "metadata": {
    "colab": {
      "provenance": [],
      "collapsed_sections": []
    },
    "kernelspec": {
      "name": "python3",
      "display_name": "Python 3"
    },
    "language_info": {
      "name": "python"
    }
  },
  "cells": [
    {
      "cell_type": "code",
      "execution_count": null,
      "metadata": {
        "colab": {
          "base_uri": "https://localhost:8080/"
        },
        "id": "ulm9pxu_xsNB",
        "outputId": "d47a2da7-e6e5-4e8a-f4e3-1e1896f6ea91"
      },
      "outputs": [
        {
          "output_type": "stream",
          "name": "stdout",
          "text": [
            "Looking in indexes: https://pypi.org/simple, https://us-python.pkg.dev/colab-wheels/public/simple/\n",
            "Collecting matplotlib_inline\n",
            "  Downloading matplotlib_inline-0.1.6-py3-none-any.whl (9.4 kB)\n",
            "Requirement already satisfied: traitlets in /usr/local/lib/python3.7/dist-packages (from matplotlib_inline) (5.1.1)\n",
            "Installing collected packages: matplotlib-inline\n",
            "Successfully installed matplotlib-inline-0.1.6\n"
          ]
        }
      ],
      "source": [
        "!pip install matplotlib_inline"
      ]
    },
    {
      "cell_type": "code",
      "source": [
        "import numpy as np\n",
        "import matplotlib\n",
        "from matplotlib import pyplot as plt\n",
        "from matplotlib_inline.backend_inline import set_matplotlib_formats\n",
        "set_matplotlib_formats('svg')\n",
        "import scipy.stats as ss\n",
        "from scipy import optimize\n",
        "from scipy.optimize import minimize, LinearConstraint, NonlinearConstraint\n",
        "import pandas as pd"
      ],
      "metadata": {
        "id": "ugSvX2V1xuVl"
      },
      "execution_count": null,
      "outputs": []
    },
    {
      "cell_type": "markdown",
      "source": [
        "**Задание 1**"
      ],
      "metadata": {
        "id": "z2HolSw9gXWl"
      }
    },
    {
      "cell_type": "code",
      "source": [
        "data = pd.read_csv(\"body_temp.csv\")\n",
        "temp_sample = np.array(data[\"body temperature\"])\n",
        "n = 130\n",
        "alpha = 0.05\n",
        "t_ = ss.t(n-1).ppf(1 - alpha/2)\n",
        "print(np.sqrt(n) * (temp_sample.mean() - 36.6) / temp_sample.std(ddof=1))\n",
        "(temp_sample.mean() - t_ * temp_sample.std(ddof=1) / np.sqrt(n), temp_sample.mean() + t_ * temp_sample.std(ddof=1) / np.sqrt(n))"
      ],
      "metadata": {
        "colab": {
          "base_uri": "https://localhost:8080/"
        },
        "id": "AFY5wFhFUpuI",
        "outputId": "b20e5a00-c512-4b1a-aabf-6243cf8ae901"
      },
      "execution_count": null,
      "outputs": [
        {
          "output_type": "stream",
          "name": "stdout",
          "text": [
            "5.812396136123533\n"
          ]
        },
        {
          "output_type": "execute_result",
          "data": {
            "text/plain": [
              "(36.7369943876206, 36.878390227764015)"
            ]
          },
          "metadata": {},
          "execution_count": 7
        }
      ]
    },
    {
      "cell_type": "markdown",
      "source": [
        "**Задание 2**"
      ],
      "metadata": {
        "id": "uiIIAwlWgbF9"
      }
    },
    {
      "cell_type": "code",
      "source": [
        "def g(p):\n",
        "  return -2*np.arcsin(np.sqrt(1 - p))\n",
        "\n",
        "n = 100\n",
        "z = np.sqrt(100) * abs(g(0.04) - g(0.1))\n",
        "2 * (1 - ss.norm().cdf(z))"
      ],
      "metadata": {
        "colab": {
          "base_uri": "https://localhost:8080/"
        },
        "id": "YhfWA105dUnN",
        "outputId": "d19cba06-63fa-4def-add0-05b5f75678cd"
      },
      "execution_count": null,
      "outputs": [
        {
          "output_type": "execute_result",
          "data": {
            "text/plain": [
              "0.01604665515437853"
            ]
          },
          "metadata": {},
          "execution_count": 6
        }
      ]
    },
    {
      "cell_type": "markdown",
      "source": [
        "**Задание 3**"
      ],
      "metadata": {
        "id": "eVG5jF1pgfGF"
      }
    },
    {
      "cell_type": "code",
      "source": [
        "sample = np.array(list(map(float, input().split())))\n",
        "n = len(sample)\n",
        "\n",
        "def T(sample):\n",
        "  return  ss.cauchy.logpdf(sample).mean() - ss.norm.logpdf(sample).mean()\n",
        "\n",
        "t = T(sample)\n",
        "\n",
        "N = 10000\n",
        "samples = ss.norm.rvs(size=(N,n))\n",
        "print(np.array([T(sample) > t for sample in samples]).mean())"
      ],
      "metadata": {
        "id": "cGZh68-gGgDb"
      },
      "execution_count": null,
      "outputs": []
    },
    {
      "cell_type": "markdown",
      "source": [
        "**Задание 4**"
      ],
      "metadata": {
        "id": "pvAZb-_x_G4y"
      }
    },
    {
      "cell_type": "markdown",
      "source": [
        "$$\n",
        "\\tau(x_{[1]}) = \\begin{cases}\n",
        "   1 &\\text{if }  p(x_{[1]} | H_1) > cp(x_{[1]}|H_0)\\\\\n",
        "   0 &\\text{else }  \n",
        "\\end{cases}\n",
        "$$\n",
        "где $\\alpha(\\tau(x_{[1]})) = \\alpha = x$. Тогда лемме Неймана—Пирсона для всех критериев $\\tau'$ таких, что\n",
        "$\\alpha(\\tau'(x_{[1]})) \\leq \\alpha$ верно:\n",
        "\n",
        "$\\beta(\\tau(x_{[1]})) \\geq \\beta(\\tau'(x_{[1]}))$.\n",
        "\n",
        "Т.е. $\\tau$ наиболее мощный критерий.\n",
        "\n",
        "Известно, что\n",
        "\n",
        "$$\n",
        "\\mathbb{P}(\\tau(x_{[1]}) = 1 | H_0) = \\alpha \\Rightarrow (\\tau(x_{[1]}) = 1 \\Leftrightarrow x_{[1]} \\in [0,\\alpha) \\cup (1,+\\infty) )\n",
        "$$\n",
        "Тогда\n",
        "$$\n",
        "\\mathbb{P}(\\tau(x_{[1]}) = 0 | H_1) = \\mathbb{P}(x_{[1]} \\in (\\alpha, 1] | H_1)\n",
        "= \\int_{\\alpha}^{1}e^{-x}dx = e^{-\\alpha} - e^{-1}\n",
        "$$\n",
        "Тогда \n",
        "$$\n",
        "\\beta(\\tau(x_{[1]}) = 1 - (e^{-\\alpha} - e^{-1})\n",
        "$$"
      ],
      "metadata": {
        "id": "XB-WTE6J_MSe"
      }
    },
    {
      "cell_type": "markdown",
      "source": [
        "**Задание 5**"
      ],
      "metadata": {
        "id": "85LwwUV29RTv"
      }
    },
    {
      "cell_type": "code",
      "source": [
        "np.random.seed(7)\n",
        "alpha = 0.05\n",
        "beta = 0.05\n",
        "a = np.log(beta / (1 - alpha))\n",
        "b = np.log((1 - beta) / alpha)\n",
        "N_ = 100000\n",
        "step = 100\n",
        "\n",
        "##########\n",
        "\n",
        "nums = np.array([1] * N_)\n",
        "logL = 0\n",
        "S = np.zeros(N_)\n",
        "cnt = 0\n",
        "N = N_\n",
        "j = 0\n",
        "while (nums == j * step + 1).any():\n",
        "    N = sum(nums == j * step + 1)\n",
        "    ind = nums == j * step + 1\n",
        "    samples = ss.norm().rvs(size=(N, step))\n",
        "    logL = np.array([S[ind]] * step).T + np.cumsum(ss.norm(0.5).logpdf(samples) - ss.norm.logpdf(samples), axis=1)\n",
        "    S[ind] = logL[:, -1]\n",
        "    nums[ind] += (np.cumsum(1 * (a > logL) + 2 * (logL > b), axis=1) == 0).sum(axis=1)\n",
        "    j += 1\n",
        "    for k, num in enumerate((np.cumsum(1 * (a > logL) + 2 * (logL > b), axis=1) == 0).sum(axis=1)):\n",
        "        if num != step:\n",
        "            cnt += (logL[k, num] > a)\n",
        "\n",
        "print(cnt/N_)\n",
        "\n",
        "###########\n",
        "\n",
        "nums = np.array([1] * N_)\n",
        "logL = 0\n",
        "S = np.zeros(N_)\n",
        "cnt = 0\n",
        "N = N_\n",
        "j = 0\n",
        "while (nums == j * step + 1).any():\n",
        "    N = sum(nums == j * step + 1)\n",
        "    ind = nums == j * step + 1\n",
        "    samples = ss.norm(0.5).rvs(size=(N, step))\n",
        "    logL = np.array([S[ind]] * step).T + np.cumsum(ss.norm(0.5).logpdf(samples) - ss.norm.logpdf(samples), axis=1)\n",
        "    S[ind] = logL[:, -1]\n",
        "    nums[ind] += (np.cumsum(1 * (a > logL) + 2 * (logL > b), axis=1) == 0).sum(axis=1)\n",
        "    j += 1\n",
        "    for k, num in enumerate((np.cumsum(1 * (a > logL) + 2 * (logL > b), axis=1) == 0).sum(axis=1)):\n",
        "        if num != step:\n",
        "            cnt += (logL[k, num] < b)\n",
        "\n",
        "print(cnt/N_)"
      ],
      "metadata": {
        "colab": {
          "base_uri": "https://localhost:8080/"
        },
        "id": "Egd3elJmk5-k",
        "outputId": "1ea04c15-ceaa-4ab6-d259-522cfb378872"
      },
      "execution_count": null,
      "outputs": [
        {
          "output_type": "stream",
          "name": "stdout",
          "text": [
            "0.03865\n",
            "0.0375\n"
          ]
        }
      ]
    }
  ]
}