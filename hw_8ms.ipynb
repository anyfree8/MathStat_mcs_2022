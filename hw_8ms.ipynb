{
 "cells": [
  {
   "cell_type": "code",
   "execution_count": 29,
   "metadata": {
    "colab": {
     "base_uri": "https://localhost:8080/"
    },
    "id": "ulm9pxu_xsNB",
    "outputId": "bbb1ec6a-7022-4483-deeb-f1b9b591c780"
   },
   "outputs": [
    {
     "name": "stdout",
     "output_type": "stream",
     "text": [
      "Looking in indexes: https://pypi.org/simple, https://us-python.pkg.dev/colab-wheels/public/simple/\n",
      "Requirement already satisfied: matplotlib_inline in /usr/local/lib/python3.7/dist-packages (0.1.6)\n",
      "Requirement already satisfied: traitlets in /usr/local/lib/python3.7/dist-packages (from matplotlib_inline) (5.1.1)\n"
     ]
    }
   ],
   "source": [
    "!pip install matplotlib_inline"
   ]
  },
  {
   "cell_type": "code",
   "execution_count": 30,
   "metadata": {
    "id": "ugSvX2V1xuVl"
   },
   "outputs": [],
   "source": [
    "import numpy as np\n",
    "import matplotlib\n",
    "from matplotlib import pyplot as plt\n",
    "from matplotlib_inline.backend_inline import set_matplotlib_formats\n",
    "set_matplotlib_formats('svg')\n",
    "import scipy.stats as ss\n",
    "from scipy import optimize\n",
    "from scipy.optimize import minimize, LinearConstraint, NonlinearConstraint\n",
    "import pandas as pd\n",
    "from scipy.integrate import quad"
   ]
  },
  {
   "cell_type": "markdown",
   "metadata": {
    "id": "w88kW02Xyeca"
   },
   "source": [
    "**Task 1**"
   ]
  },
  {
   "cell_type": "code",
   "execution_count": 31,
   "metadata": {
    "colab": {
     "base_uri": "https://localhost:8080/"
    },
    "id": "YnCUNaycGZXK",
    "outputId": "eaec0dd8-34cb-4b77-ac05-6a4002fa3ebc"
   },
   "outputs": [
    {
     "name": "stdout",
     "output_type": "stream",
     "text": [
      "[0.10104017 0.20323299]\n",
      "[0.01168579 0.17100061]\n",
      "[-0.0265861   0.03883735]\n",
      "[-0.24940176 -0.04575348]\n"
     ]
    }
   ],
   "source": [
    "data = pd.read_csv('ocdrug.csv', index_col='Subject')\n",
    "\n",
    "G = {}\n",
    "for i in [1, 2]:\n",
    "    for j in [1, 2]:\n",
    "        G[(i, j)] = np.log(data[(data['Sequence'] == i) & (data['Period'] == j)])\n",
    "\n",
    "def K(x, y):\n",
    "  n = len(x)\n",
    "  m = len(y)\n",
    "  s_x = x.std(ddof=1)\n",
    "  s_y = y.std(ddof=1)\n",
    "  return ((s_x**2 / n) + (s_y**2 / m)) ** 2 / ((s_x**2 / n)**2/(n - 1) + (s_y**2 / m)**2/(m - 1))\n",
    "\n",
    "\n",
    "alpha = 0.05\n",
    "for a in ['EE', 'NET']:\n",
    "    for b in ['AUC', 'CMax']:\n",
    "        c = f'{a} {b}'\n",
    "        x, y = (G[1, 1][c] - G[1, 2][c]) / 2, (G[2, 1][c] - G[2, 2][c]) / 2\n",
    "        k = K(x, y) \n",
    "        interval = np.array([ss.t(k).ppf(1-alpha), ss.t(k).ppf(alpha)])\n",
    "        q = x.std(ddof=1)**2/len(x) +  y.std(ddof=1)**2/len(y)\n",
    "        interval = (x.mean() - y.mean()) - np.sqrt(q) * interval\n",
    "        print(interval)"
   ]
  },
  {
   "cell_type": "code",
   "execution_count": 32,
   "metadata": {
    "colab": {
     "base_uri": "https://localhost:8080/"
    },
    "id": "3mG0VHi-P4A0",
    "outputId": "506ceaa5-ec9c-4be5-f633-e77b4be44a31"
   },
   "outputs": [
    {
     "data": {
      "text/plain": [
       "[-0.2231435513142097, 0.22314355131420976]"
      ]
     },
     "execution_count": 32,
     "metadata": {},
     "output_type": "execute_result"
    }
   ],
   "source": [
    "[np.log(0.8), np.log(1.25)]"
   ]
  },
  {
   "cell_type": "markdown",
   "metadata": {
    "id": "I2TweUL9yh7Z"
   },
   "source": [
    "**Task 2**"
   ]
  },
  {
   "cell_type": "code",
   "execution_count": 33,
   "metadata": {
    "colab": {
     "base_uri": "https://localhost:8080/"
    },
    "id": "qXGZ4BhwypqO",
    "outputId": "81664115-b340-4e7e-c974-4adb991d39b8"
   },
   "outputs": [
    {
     "data": {
      "text/plain": [
       "(-0.16846289654641022, -0.033158177337341596)"
      ]
     },
     "execution_count": 33,
     "metadata": {},
     "output_type": "execute_result"
    }
   ],
   "source": [
    "data = pd.read_csv('ocdrug.csv', index_col='Subject')\n",
    "\n",
    "G = {}\n",
    "for i in [1, 2]:\n",
    "    for j in [1, 2]:\n",
    "        G[(i, j)] = np.log(data[(data['Sequence'] == i) & (data['Period'] == j)])\n",
    "\n",
    "\n",
    "z = pd.concat([G[1, 1][\"NET CMax\"] - G[1, 2][\"NET CMax\"], G[2, 2][\"NET CMax\"] - G[2, 1][\"NET CMax\"]])\n",
    "\n",
    "def make_ml(z):\n",
    "  def f(theta):\n",
    "    loc, scale = theta\n",
    "    return -ss.t(3,loc=loc, scale=scale).logpdf(z).sum()\n",
    "  return f\n",
    "\n",
    "\n",
    "res = minimize(make_ml(z), x0=np.array([0,1]), bounds=[(None, None), (0.0001, None)])\n",
    "loc_, scale_ = res.x\n",
    "n = 22\n",
    "\n",
    "def g(x):\n",
    "  res = minimize(make_ml(x), x0=np.array([0,1]), bounds=[(None, None), (0.0001, None)])\n",
    "  loc, scale = res.x\n",
    "  return np.sqrt(n) * (loc / scale)\n",
    "\n",
    "alpha = 0.05\n",
    "N = 1000\n",
    "samples = ss.t(3).rvs(size=(N, n), random_state=100)\n",
    "sample = np.array([g(x) for x in samples])\n",
    "x_L, x_R = np.quantile(sample, alpha), np.quantile(sample, 1 - alpha)\n",
    "loc_ - (scale_ * x_R) / np.sqrt(n), loc_ - (scale_ * x_L) / np.sqrt(n)"
   ]
  },
  {
   "cell_type": "markdown",
   "metadata": {
    "id": "EnnfVkbPMR08"
   },
   "source": [
    "**Task 3**"
   ]
  },
  {
   "cell_type": "code",
   "execution_count": 37,
   "metadata": {
    "colab": {
     "base_uri": "https://localhost:8080/"
    },
    "id": "bInhHba1MW-6",
    "outputId": "1a63b0ae-ea8c-4fbc-af36-bd1fe38c3d66"
   },
   "outputs": [
    {
     "data": {
      "text/plain": [
       "(0.9631075721498039, 0.9267223232615678)"
      ]
     },
     "execution_count": 37,
     "metadata": {},
     "output_type": "execute_result"
    }
   ],
   "source": [
    "freqs_obs = np.array([13, 14, 18, 18, 15, 7, 6, 9])\n",
    "n = freqs_obs.sum()\n",
    "bins = [[0, 1, 2], [3], [4], [5], [6], [7], [8]]\n",
    "def freqs_exp(mu):\n",
    "        p = np.zeros(len(bins) + 1)\n",
    "        for i, b in enumerate(bins):\n",
    "            p[i] = ss.poisson.pmf(b, mu=mu).sum()\n",
    "        p[-1] = 1 - p.sum()\n",
    "        return p\n",
    "\n",
    "lambda_star = 5.028603917186539\n",
    "\n",
    "ss.chisquare(freqs_obs, n * freqs_exp(5), ddof=0).pvalue, ss.chisquare(freqs_obs, n * freqs_exp(lambda_star), ddof=1).pvalue"
   ]
  },
  {
   "cell_type": "markdown",
   "metadata": {
    "id": "_D_FFlWfbCZb"
   },
   "source": [
    "**Task 4**"
   ]
  },
  {
   "cell_type": "code",
   "execution_count": 38,
   "metadata": {
    "colab": {
     "base_uri": "https://localhost:8080/"
    },
    "id": "-p-xDHf_d37A",
    "outputId": "0c27e77b-2c18-4f5f-f458-318606be111b"
   },
   "outputs": [
    {
     "data": {
      "text/plain": [
       "(0.0006894678644963628, 0.053471669650999185)"
      ]
     },
     "execution_count": 38,
     "metadata": {},
     "output_type": "execute_result"
    }
   ],
   "source": [
    "with open('tokyo_farmers.txt', 'r') as file:\n",
    "    data = []\n",
    "    for line in file:\n",
    "        data.append(list(map(int, line.split())))\n",
    "\n",
    "data = np.array(data).ravel()\n",
    "vals, counts = np.unique(data, return_counts=True)\n",
    "# vals = [0, 1, 2, 3, 4, 5, 7, 9]\n",
    "# counts = [584, 398, 168,  35,   9,   4,   1,   1]\n",
    "bins1 = [[0], [1], [2], [3], [4]]\n",
    "bins2 = [[0], [1], [2], [3]]\n",
    "n = counts.sum()\n",
    "freqs1 = np.array([584, 398, 168,  35,   9,  6])\n",
    "freqs2 = np.array([584, 398, 168,  35,   15])\n",
    "\n",
    "def fun_maker(freqs, bins):\n",
    "    def chi2(mu):\n",
    "        p = np.zeros(len(bins) + 1)\n",
    "        for i, b in enumerate(bins):\n",
    "            p[i] = ss.poisson.pmf(b, mu=mu).sum()\n",
    "        p[-1] = 1 - p.sum()\n",
    "        return np.sum((freqs - p) ** 2 / p)\n",
    "    return chi2\n",
    "\n",
    "def freqs_exp(mu, bins):\n",
    "        p = np.zeros(len(bins) + 1)\n",
    "        for i, b in enumerate(bins):\n",
    "            p[i] = ss.poisson.pmf(b, mu=mu).sum()\n",
    "        p[-1] = 1 - p.sum()\n",
    "        return p\n",
    "\n",
    "x0 = 1\n",
    "bounds = [(0.1, 10)]\n",
    "res1 = minimize(fun_maker(freqs1, bins1), x0, bounds=bounds)\n",
    "res2 = minimize(fun_maker(freqs2, bins2), x0, bounds=bounds)\n",
    "lambda1 = res1.x[0]\n",
    "lambda2 = res2.x[0]\n",
    "\n",
    "ss.chisquare(freqs1, n * freqs_exp(lambda1, bins1), ddof=1).pvalue, ss.chisquare(freqs2, n * freqs_exp(lambda2, bins2), ddof=1).pvalue"
   ]
  },
  {
   "cell_type": "markdown",
   "metadata": {
    "id": "rObqZobligvg"
   },
   "source": [
    "**Task 5**"
   ]
  },
  {
   "cell_type": "code",
   "execution_count": 39,
   "metadata": {
    "colab": {
     "base_uri": "https://localhost:8080/"
    },
    "id": "yhEsBmT2ikFV",
    "outputId": "49e39d45-d960-4a71-ac02-730683d79471"
   },
   "outputs": [
    {
     "data": {
      "text/plain": [
       "315.0"
      ]
     },
     "execution_count": 39,
     "metadata": {},
     "output_type": "execute_result"
    }
   ],
   "source": [
    "n = 13\n",
    "m = 37\n",
    "N = 100000\n",
    "samples = ss.norm().rvs(size=(N,n + m), random_state=42)\n",
    "def stat(z):\n",
    "  return ss.mannwhitneyu(z[:n], z[n:]).statistic\n",
    "stats = np.array([stat(sample) for sample in samples])\n",
    "np.quantile(stats, 0.95)"
   ]
  }
 ],
 "metadata": {
  "colab": {
   "collapsed_sections": [],
   "provenance": []
  },
  "kernelspec": {
   "display_name": "Python 3 (ipykernel)",
   "language": "python",
   "name": "python3"
  },
  "language_info": {
   "codemirror_mode": {
    "name": "ipython",
    "version": 3
   },
   "file_extension": ".py",
   "mimetype": "text/x-python",
   "name": "python",
   "nbconvert_exporter": "python",
   "pygments_lexer": "ipython3",
   "version": "3.9.0"
  }
 },
 "nbformat": 4,
 "nbformat_minor": 1
}
