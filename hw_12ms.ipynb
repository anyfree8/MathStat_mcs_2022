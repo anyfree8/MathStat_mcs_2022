{
  "cells": [
    {
      "cell_type": "code",
      "execution_count": null,
      "metadata": {
        "colab": {
          "base_uri": "https://localhost:8080/"
        },
        "id": "ulm9pxu_xsNB",
        "outputId": "dd21770a-1fb9-4540-89d0-b7fba143f1d9"
      },
      "outputs": [
        {
          "name": "stdout",
          "output_type": "stream",
          "text": [
            "Looking in indexes: https://pypi.org/simple, https://us-python.pkg.dev/colab-wheels/public/simple/\n",
            "Collecting matplotlib_inline\n",
            "  Downloading matplotlib_inline-0.1.6-py3-none-any.whl (9.4 kB)\n",
            "Requirement already satisfied: traitlets in /usr/local/lib/python3.8/dist-packages (from matplotlib_inline) (5.1.1)\n",
            "Installing collected packages: matplotlib-inline\n",
            "Successfully installed matplotlib-inline-0.1.6\n"
          ]
        }
      ],
      "source": [
        "!pip install matplotlib_inline"
      ]
    },
    {
      "cell_type": "code",
      "execution_count": null,
      "metadata": {
        "colab": {
          "base_uri": "https://localhost:8080/"
        },
        "id": "6S2NhzpL6BYL",
        "outputId": "fec1d299-4899-4c59-f424-d431265701e6"
      },
      "outputs": [
        {
          "name": "stdout",
          "output_type": "stream",
          "text": [
            "Looking in indexes: https://pypi.org/simple, https://us-python.pkg.dev/colab-wheels/public/simple/\n",
            "Requirement already satisfied: statsmodels in /usr/local/lib/python3.8/dist-packages (0.12.2)\n",
            "Collecting statsmodels\n",
            "  Downloading statsmodels-0.13.5-cp38-cp38-manylinux_2_17_x86_64.manylinux2014_x86_64.whl (9.9 MB)\n",
            "\u001b[K     |████████████████████████████████| 9.9 MB 6.6 MB/s \n",
            "\u001b[?25hRequirement already satisfied: pandas>=0.25 in /usr/local/lib/python3.8/dist-packages (from statsmodels) (1.3.5)\n",
            "Requirement already satisfied: scipy>=1.3 in /usr/local/lib/python3.8/dist-packages (from statsmodels) (1.7.3)\n",
            "Requirement already satisfied: numpy>=1.17 in /usr/local/lib/python3.8/dist-packages (from statsmodels) (1.21.6)\n",
            "Requirement already satisfied: packaging>=21.3 in /usr/local/lib/python3.8/dist-packages (from statsmodels) (21.3)\n",
            "Requirement already satisfied: patsy>=0.5.2 in /usr/local/lib/python3.8/dist-packages (from statsmodels) (0.5.3)\n",
            "Requirement already satisfied: pyparsing!=3.0.5,>=2.0.2 in /usr/local/lib/python3.8/dist-packages (from packaging>=21.3->statsmodels) (3.0.9)\n",
            "Requirement already satisfied: python-dateutil>=2.7.3 in /usr/local/lib/python3.8/dist-packages (from pandas>=0.25->statsmodels) (2.8.2)\n",
            "Requirement already satisfied: pytz>=2017.3 in /usr/local/lib/python3.8/dist-packages (from pandas>=0.25->statsmodels) (2022.6)\n",
            "Requirement already satisfied: six in /usr/local/lib/python3.8/dist-packages (from patsy>=0.5.2->statsmodels) (1.15.0)\n",
            "Installing collected packages: statsmodels\n",
            "  Attempting uninstall: statsmodels\n",
            "    Found existing installation: statsmodels 0.12.2\n",
            "    Uninstalling statsmodels-0.12.2:\n",
            "      Successfully uninstalled statsmodels-0.12.2\n",
            "Successfully installed statsmodels-0.13.5\n"
          ]
        }
      ],
      "source": [
        "!pip install statsmodels --upgrade"
      ]
    },
    {
      "cell_type": "code",
      "execution_count": null,
      "metadata": {
        "id": "ugSvX2V1xuVl"
      },
      "outputs": [],
      "source": [
        "import numpy as np\n",
        "import matplotlib\n",
        "from matplotlib import pyplot as plt\n",
        "from matplotlib_inline.backend_inline import set_matplotlib_formats\n",
        "set_matplotlib_formats('svg')\n",
        "import scipy.stats as ss\n",
        "from scipy import optimize\n",
        "from scipy.optimize import minimize, LinearConstraint, NonlinearConstraint\n",
        "import pandas as pd\n",
        "from scipy.integrate import quad\n",
        "from itertools import product\n",
        "import statsmodels.api as sm\n",
        "from statsmodels.sandbox.regression.predstd import wls_prediction_std"
      ]
    },
    {
      "cell_type": "markdown",
      "source": [
        "**Задание 1**"
      ],
      "metadata": {
        "id": "uLzl823M_eKd"
      }
    },
    {
      "cell_type": "code",
      "source": [
        "data = pd.read_csv('Fish.csv')\n",
        "\n",
        "np.random.seed(1337)\n",
        "features = ['Length1', 'Height','Width']\n",
        "TARGET = 'Weight'\n",
        "data = data[data[TARGET] != 0]\n",
        "model = sm.OLS(np.log(data[TARGET]), sm.add_constant(np.log(data[features]))).fit() \n",
        "\n",
        "beta_star = np.array(model.params)\n",
        "c = np.array([0, 1, 1, 1])\n",
        "k = 3\n",
        "n = len(data)\n",
        "\n",
        "t = ss.t(n - k - 1).ppf(0.975)\n",
        "\n",
        "c @ beta_star + np.sqrt((c @ model.cov_params() @ c.T)) * np.array([-t, t])"
      ],
      "metadata": {
        "colab": {
          "base_uri": "https://localhost:8080/"
        },
        "id": "e5dJa1Xb_jvk",
        "outputId": "21954efe-ea45-4c66-ea93-845c65727f4f"
      },
      "execution_count": 222,
      "outputs": [
        {
          "output_type": "execute_result",
          "data": {
            "text/plain": [
              "array([2.96857335, 3.0465337 ])"
            ]
          },
          "metadata": {},
          "execution_count": 222
        }
      ]
    },
    {
      "cell_type": "markdown",
      "source": [
        "**Задание 2**"
      ],
      "metadata": {
        "id": "SN4wWr2dZKWr"
      }
    },
    {
      "cell_type": "code",
      "source": [
        "data = pd.read_csv('Fish.csv')\n",
        "data['Volume'] = data['Length1'] * data['Height'] * data['Width']\n",
        "\n",
        "np.random.seed(1337)\n",
        "features = ['Volume']\n",
        "TARGET = 'Weight'\n",
        "data = data[data[TARGET] != 0]\n",
        "model = sm.OLS(data[TARGET], sm.add_constant(data[features])).fit() \n",
        "\n",
        "plt.scatter(model.fittedvalues, model.resid)\n",
        "plt.show()\n",
        "\n",
        "data_e = pd.DataFrame({'e^2': model.resid.values ** 2, 'Volume': data['Volume']})\n",
        "data_e['Volume^2'] = data_e['Volume'] ** 2\n",
        "\n",
        "np.random.seed(1337)\n",
        "features = ['Volume', 'Volume^2']\n",
        "TARGET = 'e^2'\n",
        "model_e = sm.OLS(data_e[TARGET], sm.add_constant(data_e[features])).fit() \n",
        "\n",
        "model_e.fvalue"
      ],
      "metadata": {
        "id": "zvPpy18cZOjs",
        "colab": {
          "base_uri": "https://localhost:8080/",
          "height": 370
        },
        "outputId": "a09a0ef9-3a5e-44d9-f8c6-fd27250a1cb4"
      },
      "execution_count": 216,
      "outputs": [
        {
          "output_type": "display_data",
          "data": {
            "text/plain": [
              "<Figure size 432x288 with 1 Axes>"
            ],
            "image/svg+xml": "<?xml version=\"1.0\" encoding=\"utf-8\" standalone=\"no\"?>\n<!DOCTYPE svg PUBLIC \"-//W3C//DTD SVG 1.1//EN\"\n  \"http://www.w3.org/Graphics/SVG/1.1/DTD/svg11.dtd\">\n<!-- Created with matplotlib (https://matplotlib.org/) -->\n<svg height=\"248.518125pt\" version=\"1.1\" viewBox=\"0 0 383.667188 248.518125\" width=\"383.667188pt\" xmlns=\"http://www.w3.org/2000/svg\" xmlns:xlink=\"http://www.w3.org/1999/xlink\">\n <defs>\n  <style type=\"text/css\">\n*{stroke-linecap:butt;stroke-linejoin:round;}\n  </style>\n </defs>\n <g id=\"figure_1\">\n  <g id=\"patch_1\">\n   <path d=\"M 0 248.518125 \nL 383.667188 248.518125 \nL 383.667188 0 \nL 0 0 \nz\n\" style=\"fill:none;\"/>\n  </g>\n  <g id=\"axes_1\">\n   <g id=\"patch_2\">\n    <path d=\"M 41.667188 224.64 \nL 376.467188 224.64 \nL 376.467188 7.2 \nL 41.667188 7.2 \nz\n\" style=\"fill:#ffffff;\"/>\n   </g>\n   <g id=\"PathCollection_1\">\n    <defs>\n     <path d=\"M 0 3 \nC 0.795609 3 1.55874 2.683901 2.12132 2.12132 \nC 2.683901 1.55874 3 0.795609 3 0 \nC 3 -0.795609 2.683901 -1.55874 2.12132 -2.12132 \nC 1.55874 -2.683901 0.795609 -3 0 -3 \nC -0.795609 -3 -1.55874 -2.683901 -2.12132 -2.12132 \nC -2.683901 -1.55874 -3 -0.795609 -3 0 \nC -3 0.795609 -2.683901 1.55874 -2.12132 2.12132 \nC -1.55874 2.683901 -0.795609 3 0 3 \nz\n\" id=\"mb486514b25\" style=\"stroke:#1f77b4;\"/>\n    </defs>\n    <g clip-path=\"url(#pb22ed48d92)\">\n     <use style=\"fill:#1f77b4;stroke:#1f77b4;\" x=\"124.578093\" xlink:href=\"#mb486514b25\" y=\"165.173002\"/>\n     <use style=\"fill:#1f77b4;stroke:#1f77b4;\" x=\"138.354764\" xlink:href=\"#mb486514b25\" y=\"167.029712\"/>\n     <use style=\"fill:#1f77b4;stroke:#1f77b4;\" x=\"144.732598\" xlink:href=\"#mb486514b25\" y=\"162.490713\"/>\n     <use style=\"fill:#1f77b4;stroke:#1f77b4;\" x=\"151.291029\" xlink:href=\"#mb486514b25\" y=\"163.345563\"/>\n     <use style=\"fill:#1f77b4;stroke:#1f77b4;\" x=\"164.178519\" xlink:href=\"#mb486514b25\" y=\"160.787865\"/>\n     <use style=\"fill:#1f77b4;stroke:#1f77b4;\" x=\"170.787177\" xlink:href=\"#mb486514b25\" y=\"162.26652\"/>\n     <use style=\"fill:#1f77b4;stroke:#1f77b4;\" x=\"184.206535\" xlink:href=\"#mb486514b25\" y=\"163.444448\"/>\n     <use style=\"fill:#1f77b4;stroke:#1f77b4;\" x=\"160.788113\" xlink:href=\"#mb486514b25\" y=\"165.808904\"/>\n     <use style=\"fill:#1f77b4;stroke:#1f77b4;\" x=\"175.65507\" xlink:href=\"#mb486514b25\" y=\"166.218703\"/>\n     <use style=\"fill:#1f77b4;stroke:#1f77b4;\" x=\"184.522955\" xlink:href=\"#mb486514b25\" y=\"163.701345\"/>\n     <use style=\"fill:#1f77b4;stroke:#1f77b4;\" x=\"188.152336\" xlink:href=\"#mb486514b25\" y=\"171.506537\"/>\n     <use style=\"fill:#1f77b4;stroke:#1f77b4;\" x=\"182.922407\" xlink:href=\"#mb486514b25\" y=\"162.40188\"/>\n     <use style=\"fill:#1f77b4;stroke:#1f77b4;\" x=\"167.756717\" xlink:href=\"#mb486514b25\" y=\"150.089044\"/>\n     <use style=\"fill:#1f77b4;stroke:#1f77b4;\" x=\"189.080985\" xlink:href=\"#mb486514b25\" y=\"198.49662\"/>\n     <use style=\"fill:#1f77b4;stroke:#1f77b4;\" x=\"201.330688\" xlink:href=\"#mb486514b25\" y=\"157.91317\"/>\n     <use style=\"fill:#1f77b4;stroke:#1f77b4;\" x=\"217.92605\" xlink:href=\"#mb486514b25\" y=\"171.386739\"/>\n     <use style=\"fill:#1f77b4;stroke:#1f77b4;\" x=\"208.648905\" xlink:href=\"#mb486514b25\" y=\"144.420573\"/>\n     <use style=\"fill:#1f77b4;stroke:#1f77b4;\" x=\"206.891821\" xlink:href=\"#mb486514b25\" y=\"142.994018\"/>\n     <use style=\"fill:#1f77b4;stroke:#1f77b4;\" x=\"214.552306\" xlink:href=\"#mb486514b25\" y=\"166.704221\"/>\n     <use style=\"fill:#1f77b4;stroke:#1f77b4;\" x=\"220.311833\" xlink:href=\"#mb486514b25\" y=\"163.606643\"/>\n     <use style=\"fill:#1f77b4;stroke:#1f77b4;\" x=\"224.62492\" xlink:href=\"#mb486514b25\" y=\"181.68401\"/>\n     <use style=\"fill:#1f77b4;stroke:#1f77b4;\" x=\"228.448416\" xlink:href=\"#mb486514b25\" y=\"163.410676\"/>\n     <use style=\"fill:#1f77b4;stroke:#1f77b4;\" x=\"221.072332\" xlink:href=\"#mb486514b25\" y=\"170.054333\"/>\n     <use style=\"fill:#1f77b4;stroke:#1f77b4;\" x=\"248.846063\" xlink:href=\"#mb486514b25\" y=\"180.942982\"/>\n     <use style=\"fill:#1f77b4;stroke:#1f77b4;\" x=\"241.154918\" xlink:href=\"#mb486514b25\" y=\"170.811803\"/>\n     <use style=\"fill:#1f77b4;stroke:#1f77b4;\" x=\"257.392881\" xlink:href=\"#mb486514b25\" y=\"179.136663\"/>\n     <use style=\"fill:#1f77b4;stroke:#1f77b4;\" x=\"259.916482\" xlink:href=\"#mb486514b25\" y=\"182.157252\"/>\n     <use style=\"fill:#1f77b4;stroke:#1f77b4;\" x=\"258.11397\" xlink:href=\"#mb486514b25\" y=\"181.859865\"/>\n     <use style=\"fill:#1f77b4;stroke:#1f77b4;\" x=\"275.612502\" xlink:href=\"#mb486514b25\" y=\"169.63624\"/>\n     <use style=\"fill:#1f77b4;stroke:#1f77b4;\" x=\"324.232419\" xlink:href=\"#mb486514b25\" y=\"179.9589\"/>\n     <use style=\"fill:#1f77b4;stroke:#1f77b4;\" x=\"310.649567\" xlink:href=\"#mb486514b25\" y=\"184.478483\"/>\n     <use style=\"fill:#1f77b4;stroke:#1f77b4;\" x=\"310.73566\" xlink:href=\"#mb486514b25\" y=\"177.746423\"/>\n     <use style=\"fill:#1f77b4;stroke:#1f77b4;\" x=\"349.139608\" xlink:href=\"#mb486514b25\" y=\"214.756364\"/>\n     <use style=\"fill:#1f77b4;stroke:#1f77b4;\" x=\"356.83669\" xlink:href=\"#mb486514b25\" y=\"211.288446\"/>\n     <use style=\"fill:#1f77b4;stroke:#1f77b4;\" x=\"328.904279\" xlink:href=\"#mb486514b25\" y=\"193.469009\"/>\n     <use style=\"fill:#1f77b4;stroke:#1f77b4;\" x=\"63.568146\" xlink:href=\"#mb486514b25\" y=\"154.896797\"/>\n     <use style=\"fill:#1f77b4;stroke:#1f77b4;\" x=\"71.591908\" xlink:href=\"#mb486514b25\" y=\"155.775282\"/>\n     <use style=\"fill:#1f77b4;stroke:#1f77b4;\" x=\"73.942038\" xlink:href=\"#mb486514b25\" y=\"155.934248\"/>\n     <use style=\"fill:#1f77b4;stroke:#1f77b4;\" x=\"76.574523\" xlink:href=\"#mb486514b25\" y=\"156.322455\"/>\n     <use style=\"fill:#1f77b4;stroke:#1f77b4;\" x=\"82.254271\" xlink:href=\"#mb486514b25\" y=\"154.520497\"/>\n     <use style=\"fill:#1f77b4;stroke:#1f77b4;\" x=\"81.408222\" xlink:href=\"#mb486514b25\" y=\"155.777017\"/>\n     <use style=\"fill:#1f77b4;stroke:#1f77b4;\" x=\"80.816514\" xlink:href=\"#mb486514b25\" y=\"153.353201\"/>\n     <use style=\"fill:#1f77b4;stroke:#1f77b4;\" x=\"84.259512\" xlink:href=\"#mb486514b25\" y=\"150.318278\"/>\n     <use style=\"fill:#1f77b4;stroke:#1f77b4;\" x=\"86.686786\" xlink:href=\"#mb486514b25\" y=\"153.26066\"/>\n     <use style=\"fill:#1f77b4;stroke:#1f77b4;\" x=\"91.06191\" xlink:href=\"#mb486514b25\" y=\"153.897644\"/>\n     <use style=\"fill:#1f77b4;stroke:#1f77b4;\" x=\"85.078159\" xlink:href=\"#mb486514b25\" y=\"152.926344\"/>\n     <use style=\"fill:#1f77b4;stroke:#1f77b4;\" x=\"88.650051\" xlink:href=\"#mb486514b25\" y=\"151.939486\"/>\n     <use style=\"fill:#1f77b4;stroke:#1f77b4;\" x=\"96.49556\" xlink:href=\"#mb486514b25\" y=\"156.560083\"/>\n     <use style=\"fill:#1f77b4;stroke:#1f77b4;\" x=\"91.164948\" xlink:href=\"#mb486514b25\" y=\"153.786958\"/>\n     <use style=\"fill:#1f77b4;stroke:#1f77b4;\" x=\"98.989557\" xlink:href=\"#mb486514b25\" y=\"152.560336\"/>\n     <use style=\"fill:#1f77b4;stroke:#1f77b4;\" x=\"97.618606\" xlink:href=\"#mb486514b25\" y=\"155.334112\"/>\n     <use style=\"fill:#1f77b4;stroke:#1f77b4;\" x=\"117.127544\" xlink:href=\"#mb486514b25\" y=\"149.795594\"/>\n     <use style=\"fill:#1f77b4;stroke:#1f77b4;\" x=\"121.255991\" xlink:href=\"#mb486514b25\" y=\"156.645579\"/>\n     <use style=\"fill:#1f77b4;stroke:#1f77b4;\" x=\"151.718147\" xlink:href=\"#mb486514b25\" y=\"158.44511\"/>\n     <use style=\"fill:#1f77b4;stroke:#1f77b4;\" x=\"109.578119\" xlink:href=\"#mb486514b25\" y=\"147.553143\"/>\n     <use style=\"fill:#1f77b4;stroke:#1f77b4;\" x=\"109.188828\" xlink:href=\"#mb486514b25\" y=\"147.237081\"/>\n     <use style=\"fill:#1f77b4;stroke:#1f77b4;\" x=\"123.146276\" xlink:href=\"#mb486514b25\" y=\"151.572661\"/>\n     <use style=\"fill:#1f77b4;stroke:#1f77b4;\" x=\"184.425765\" xlink:href=\"#mb486514b25\" y=\"155.848771\"/>\n     <use style=\"fill:#1f77b4;stroke:#1f77b4;\" x=\"222.588068\" xlink:href=\"#mb486514b25\" y=\"136.30344\"/>\n     <use style=\"fill:#1f77b4;stroke:#1f77b4;\" x=\"248.276091\" xlink:href=\"#mb486514b25\" y=\"118.290896\"/>\n     <use style=\"fill:#1f77b4;stroke:#1f77b4;\" x=\"69.56816\" xlink:href=\"#mb486514b25\" y=\"156.853009\"/>\n     <use style=\"fill:#1f77b4;stroke:#1f77b4;\" x=\"69.734284\" xlink:href=\"#mb486514b25\" y=\"156.016175\"/>\n     <use style=\"fill:#1f77b4;stroke:#1f77b4;\" x=\"76.454783\" xlink:href=\"#mb486514b25\" y=\"155.642215\"/>\n     <use style=\"fill:#1f77b4;stroke:#1f77b4;\" x=\"83.235097\" xlink:href=\"#mb486514b25\" y=\"155.316818\"/>\n     <use style=\"fill:#1f77b4;stroke:#1f77b4;\" x=\"90.291425\" xlink:href=\"#mb486514b25\" y=\"155.215514\"/>\n     <use style=\"fill:#1f77b4;stroke:#1f77b4;\" x=\"90.010173\" xlink:href=\"#mb486514b25\" y=\"156.930585\"/>\n     <use style=\"fill:#1f77b4;stroke:#1f77b4;\" x=\"94.77535\" xlink:href=\"#mb486514b25\" y=\"154.969124\"/>\n     <use style=\"fill:#1f77b4;stroke:#1f77b4;\" x=\"94.761892\" xlink:href=\"#mb486514b25\" y=\"159.816739\"/>\n     <use style=\"fill:#1f77b4;stroke:#1f77b4;\" x=\"107.239126\" xlink:href=\"#mb486514b25\" y=\"159.258059\"/>\n     <use style=\"fill:#1f77b4;stroke:#1f77b4;\" x=\"123.452603\" xlink:href=\"#mb486514b25\" y=\"158.234639\"/>\n     <use style=\"fill:#1f77b4;stroke:#1f77b4;\" x=\"129.748499\" xlink:href=\"#mb486514b25\" y=\"158.098975\"/>\n     <use style=\"fill:#1f77b4;stroke:#1f77b4;\" x=\"57.228624\" xlink:href=\"#mb486514b25\" y=\"156.376868\"/>\n     <use style=\"fill:#1f77b4;stroke:#1f77b4;\" x=\"61.444741\" xlink:href=\"#mb486514b25\" y=\"154.727564\"/>\n     <use style=\"fill:#1f77b4;stroke:#1f77b4;\" x=\"64.01651\" xlink:href=\"#mb486514b25\" y=\"155.260818\"/>\n     <use style=\"fill:#1f77b4;stroke:#1f77b4;\" x=\"67.405486\" xlink:href=\"#mb486514b25\" y=\"155.777357\"/>\n     <use style=\"fill:#1f77b4;stroke:#1f77b4;\" x=\"69.364363\" xlink:href=\"#mb486514b25\" y=\"153.772424\"/>\n     <use style=\"fill:#1f77b4;stroke:#1f77b4;\" x=\"73.790061\" xlink:href=\"#mb486514b25\" y=\"151.535344\"/>\n     <use style=\"fill:#1f77b4;stroke:#1f77b4;\" x=\"73.265228\" xlink:href=\"#mb486514b25\" y=\"155.384754\"/>\n     <use style=\"fill:#1f77b4;stroke:#1f77b4;\" x=\"74.72829\" xlink:href=\"#mb486514b25\" y=\"156.183914\"/>\n     <use style=\"fill:#1f77b4;stroke:#1f77b4;\" x=\"73.578574\" xlink:href=\"#mb486514b25\" y=\"154.278764\"/>\n     <use style=\"fill:#1f77b4;stroke:#1f77b4;\" x=\"72.213515\" xlink:href=\"#mb486514b25\" y=\"153.17049\"/>\n     <use style=\"fill:#1f77b4;stroke:#1f77b4;\" x=\"80.414464\" xlink:href=\"#mb486514b25\" y=\"154.970197\"/>\n     <use style=\"fill:#1f77b4;stroke:#1f77b4;\" x=\"79.605999\" xlink:href=\"#mb486514b25\" y=\"153.342107\"/>\n     <use style=\"fill:#1f77b4;stroke:#1f77b4;\" x=\"81.193373\" xlink:href=\"#mb486514b25\" y=\"152.687459\"/>\n     <use style=\"fill:#1f77b4;stroke:#1f77b4;\" x=\"83.67462\" xlink:href=\"#mb486514b25\" y=\"153.730244\"/>\n     <use style=\"fill:#1f77b4;stroke:#1f77b4;\" x=\"82.456305\" xlink:href=\"#mb486514b25\" y=\"154.684526\"/>\n     <use style=\"fill:#1f77b4;stroke:#1f77b4;\" x=\"81.254338\" xlink:href=\"#mb486514b25\" y=\"153.708665\"/>\n     <use style=\"fill:#1f77b4;stroke:#1f77b4;\" x=\"83.375456\" xlink:href=\"#mb486514b25\" y=\"153.487357\"/>\n     <use style=\"fill:#1f77b4;stroke:#1f77b4;\" x=\"82.314897\" xlink:href=\"#mb486514b25\" y=\"151.654594\"/>\n     <use style=\"fill:#1f77b4;stroke:#1f77b4;\" x=\"84.047143\" xlink:href=\"#mb486514b25\" y=\"157.919525\"/>\n     <use style=\"fill:#1f77b4;stroke:#1f77b4;\" x=\"83.650651\" xlink:href=\"#mb486514b25\" y=\"153.710784\"/>\n     <use style=\"fill:#1f77b4;stroke:#1f77b4;\" x=\"88.102041\" xlink:href=\"#mb486514b25\" y=\"153.43798\"/>\n     <use style=\"fill:#1f77b4;stroke:#1f77b4;\" x=\"84.436456\" xlink:href=\"#mb486514b25\" y=\"151.433645\"/>\n     <use style=\"fill:#1f77b4;stroke:#1f77b4;\" x=\"81.2382\" xlink:href=\"#mb486514b25\" y=\"147.865313\"/>\n     <use style=\"fill:#1f77b4;stroke:#1f77b4;\" x=\"87.97131\" xlink:href=\"#mb486514b25\" y=\"149.445008\"/>\n     <use style=\"fill:#1f77b4;stroke:#1f77b4;\" x=\"94.039326\" xlink:href=\"#mb486514b25\" y=\"143.682763\"/>\n     <use style=\"fill:#1f77b4;stroke:#1f77b4;\" x=\"90.141859\" xlink:href=\"#mb486514b25\" y=\"156.065791\"/>\n     <use style=\"fill:#1f77b4;stroke:#1f77b4;\" x=\"96.38158\" xlink:href=\"#mb486514b25\" y=\"152.775052\"/>\n     <use style=\"fill:#1f77b4;stroke:#1f77b4;\" x=\"90.72448\" xlink:href=\"#mb486514b25\" y=\"149.736856\"/>\n     <use style=\"fill:#1f77b4;stroke:#1f77b4;\" x=\"97.639714\" xlink:href=\"#mb486514b25\" y=\"152.04744\"/>\n     <use style=\"fill:#1f77b4;stroke:#1f77b4;\" x=\"103.338337\" xlink:href=\"#mb486514b25\" y=\"152.592907\"/>\n     <use style=\"fill:#1f77b4;stroke:#1f77b4;\" x=\"124.776151\" xlink:href=\"#mb486514b25\" y=\"154.061987\"/>\n     <use style=\"fill:#1f77b4;stroke:#1f77b4;\" x=\"106.319387\" xlink:href=\"#mb486514b25\" y=\"146.850835\"/>\n     <use style=\"fill:#1f77b4;stroke:#1f77b4;\" x=\"105.504573\" xlink:href=\"#mb486514b25\" y=\"145.217589\"/>\n     <use style=\"fill:#1f77b4;stroke:#1f77b4;\" x=\"109.871976\" xlink:href=\"#mb486514b25\" y=\"151.678554\"/>\n     <use style=\"fill:#1f77b4;stroke:#1f77b4;\" x=\"110.312644\" xlink:href=\"#mb486514b25\" y=\"152.036327\"/>\n     <use style=\"fill:#1f77b4;stroke:#1f77b4;\" x=\"116.346765\" xlink:href=\"#mb486514b25\" y=\"147.218272\"/>\n     <use style=\"fill:#1f77b4;stroke:#1f77b4;\" x=\"120.469118\" xlink:href=\"#mb486514b25\" y=\"146.678326\"/>\n     <use style=\"fill:#1f77b4;stroke:#1f77b4;\" x=\"173.651232\" xlink:href=\"#mb486514b25\" y=\"152.153945\"/>\n     <use style=\"fill:#1f77b4;stroke:#1f77b4;\" x=\"190.002569\" xlink:href=\"#mb486514b25\" y=\"157.267043\"/>\n     <use style=\"fill:#1f77b4;stroke:#1f77b4;\" x=\"242.127922\" xlink:href=\"#mb486514b25\" y=\"144.39394\"/>\n     <use style=\"fill:#1f77b4;stroke:#1f77b4;\" x=\"218.356834\" xlink:href=\"#mb486514b25\" y=\"155.217445\"/>\n     <use style=\"fill:#1f77b4;stroke:#1f77b4;\" x=\"211.450042\" xlink:href=\"#mb486514b25\" y=\"146.694781\"/>\n     <use style=\"fill:#1f77b4;stroke:#1f77b4;\" x=\"205.70696\" xlink:href=\"#mb486514b25\" y=\"142.032044\"/>\n     <use style=\"fill:#1f77b4;stroke:#1f77b4;\" x=\"204.876418\" xlink:href=\"#mb486514b25\" y=\"143.301154\"/>\n     <use style=\"fill:#1f77b4;stroke:#1f77b4;\" x=\"250.786354\" xlink:href=\"#mb486514b25\" y=\"139.763114\"/>\n     <use style=\"fill:#1f77b4;stroke:#1f77b4;\" x=\"212.004722\" xlink:href=\"#mb486514b25\" y=\"156.862203\"/>\n     <use style=\"fill:#1f77b4;stroke:#1f77b4;\" x=\"269.915111\" xlink:href=\"#mb486514b25\" y=\"170.840849\"/>\n     <use style=\"fill:#1f77b4;stroke:#1f77b4;\" x=\"256.037426\" xlink:href=\"#mb486514b25\" y=\"153.743478\"/>\n     <use style=\"fill:#1f77b4;stroke:#1f77b4;\" x=\"256.532339\" xlink:href=\"#mb486514b25\" y=\"144.428208\"/>\n     <use style=\"fill:#1f77b4;stroke:#1f77b4;\" x=\"274.630851\" xlink:href=\"#mb486514b25\" y=\"136.772875\"/>\n     <use style=\"fill:#1f77b4;stroke:#1f77b4;\" x=\"231.130596\" xlink:href=\"#mb486514b25\" y=\"139.35218\"/>\n     <use style=\"fill:#1f77b4;stroke:#1f77b4;\" x=\"275.290905\" xlink:href=\"#mb486514b25\" y=\"120.789723\"/>\n     <use style=\"fill:#1f77b4;stroke:#1f77b4;\" x=\"277.042887\" xlink:href=\"#mb486514b25\" y=\"141.646302\"/>\n     <use style=\"fill:#1f77b4;stroke:#1f77b4;\" x=\"294.013794\" xlink:href=\"#mb486514b25\" y=\"135.990605\"/>\n     <use style=\"fill:#1f77b4;stroke:#1f77b4;\" x=\"319.885661\" xlink:href=\"#mb486514b25\" y=\"176.429821\"/>\n     <use style=\"fill:#1f77b4;stroke:#1f77b4;\" x=\"305.38324\" xlink:href=\"#mb486514b25\" y=\"164.655484\"/>\n     <use style=\"fill:#1f77b4;stroke:#1f77b4;\" x=\"91.896108\" xlink:href=\"#mb486514b25\" y=\"146.801253\"/>\n     <use style=\"fill:#1f77b4;stroke:#1f77b4;\" x=\"103.961346\" xlink:href=\"#mb486514b25\" y=\"137.162704\"/>\n     <use style=\"fill:#1f77b4;stroke:#1f77b4;\" x=\"110.283654\" xlink:href=\"#mb486514b25\" y=\"142.295708\"/>\n     <use style=\"fill:#1f77b4;stroke:#1f77b4;\" x=\"112.113012\" xlink:href=\"#mb486514b25\" y=\"143.780941\"/>\n     <use style=\"fill:#1f77b4;stroke:#1f77b4;\" x=\"131.618016\" xlink:href=\"#mb486514b25\" y=\"134.352396\"/>\n     <use style=\"fill:#1f77b4;stroke:#1f77b4;\" x=\"114.420724\" xlink:href=\"#mb486514b25\" y=\"136.909168\"/>\n     <use style=\"fill:#1f77b4;stroke:#1f77b4;\" x=\"136.376635\" xlink:href=\"#mb486514b25\" y=\"133.162977\"/>\n     <use style=\"fill:#1f77b4;stroke:#1f77b4;\" x=\"133.726118\" xlink:href=\"#mb486514b25\" y=\"120.516605\"/>\n     <use style=\"fill:#1f77b4;stroke:#1f77b4;\" x=\"158.323625\" xlink:href=\"#mb486514b25\" y=\"134.656767\"/>\n     <use style=\"fill:#1f77b4;stroke:#1f77b4;\" x=\"147.418271\" xlink:href=\"#mb486514b25\" y=\"133.576511\"/>\n     <use style=\"fill:#1f77b4;stroke:#1f77b4;\" x=\"160.740528\" xlink:href=\"#mb486514b25\" y=\"131.371795\"/>\n     <use style=\"fill:#1f77b4;stroke:#1f77b4;\" x=\"174.207619\" xlink:href=\"#mb486514b25\" y=\"102.854202\"/>\n     <use style=\"fill:#1f77b4;stroke:#1f77b4;\" x=\"226.119151\" xlink:href=\"#mb486514b25\" y=\"110.019033\"/>\n     <use style=\"fill:#1f77b4;stroke:#1f77b4;\" x=\"304.267889\" xlink:href=\"#mb486514b25\" y=\"115.164529\"/>\n     <use style=\"fill:#1f77b4;stroke:#1f77b4;\" x=\"267.241448\" xlink:href=\"#mb486514b25\" y=\"17.083636\"/>\n     <use style=\"fill:#1f77b4;stroke:#1f77b4;\" x=\"267.241448\" xlink:href=\"#mb486514b25\" y=\"26.80072\"/>\n     <use style=\"fill:#1f77b4;stroke:#1f77b4;\" x=\"361.249006\" xlink:href=\"#mb486514b25\" y=\"83.690127\"/>\n     <use style=\"fill:#1f77b4;stroke:#1f77b4;\" x=\"56.885369\" xlink:href=\"#mb486514b25\" y=\"155.94271\"/>\n     <use style=\"fill:#1f77b4;stroke:#1f77b4;\" x=\"57.265271\" xlink:href=\"#mb486514b25\" y=\"156.095675\"/>\n     <use style=\"fill:#1f77b4;stroke:#1f77b4;\" x=\"57.084253\" xlink:href=\"#mb486514b25\" y=\"156.045879\"/>\n     <use style=\"fill:#1f77b4;stroke:#1f77b4;\" x=\"57.81847\" xlink:href=\"#mb486514b25\" y=\"156.117259\"/>\n     <use style=\"fill:#1f77b4;stroke:#1f77b4;\" x=\"57.623361\" xlink:href=\"#mb486514b25\" y=\"155.939418\"/>\n     <use style=\"fill:#1f77b4;stroke:#1f77b4;\" x=\"57.558619\" xlink:href=\"#mb486514b25\" y=\"156.10063\"/>\n     <use style=\"fill:#1f77b4;stroke:#1f77b4;\" x=\"57.856874\" xlink:href=\"#mb486514b25\" y=\"156.090136\"/>\n     <use style=\"fill:#1f77b4;stroke:#1f77b4;\" x=\"57.668063\" xlink:href=\"#mb486514b25\" y=\"155.956276\"/>\n     <use style=\"fill:#1f77b4;stroke:#1f77b4;\" x=\"57.648351\" xlink:href=\"#mb486514b25\" y=\"155.959707\"/>\n     <use style=\"fill:#1f77b4;stroke:#1f77b4;\" x=\"57.945513\" xlink:href=\"#mb486514b25\" y=\"155.734549\"/>\n     <use style=\"fill:#1f77b4;stroke:#1f77b4;\" x=\"58.110501\" xlink:href=\"#mb486514b25\" y=\"155.63529\"/>\n     <use style=\"fill:#1f77b4;stroke:#1f77b4;\" x=\"58.01579\" xlink:href=\"#mb486514b25\" y=\"155.791606\"/>\n     <use style=\"fill:#1f77b4;stroke:#1f77b4;\" x=\"60.819032\" xlink:href=\"#mb486514b25\" y=\"156.609961\"/>\n     <use style=\"fill:#1f77b4;stroke:#1f77b4;\" x=\"60.668624\" xlink:href=\"#mb486514b25\" y=\"156.448979\"/>\n    </g>\n   </g>\n   <g id=\"matplotlib.axis_1\">\n    <g id=\"xtick_1\">\n     <g id=\"line2d_1\">\n      <defs>\n       <path d=\"M 0 0 \nL 0 3.5 \n\" id=\"m46f2c12a94\" style=\"stroke:#000000;stroke-width:0.8;\"/>\n      </defs>\n      <g>\n       <use style=\"stroke:#000000;stroke-width:0.8;\" x=\"51.256181\" xlink:href=\"#m46f2c12a94\" y=\"224.64\"/>\n      </g>\n     </g>\n     <g id=\"text_1\">\n      <!-- 0 -->\n      <defs>\n       <path d=\"M 31.78125 66.40625 \nQ 24.171875 66.40625 20.328125 58.90625 \nQ 16.5 51.421875 16.5 36.375 \nQ 16.5 21.390625 20.328125 13.890625 \nQ 24.171875 6.390625 31.78125 6.390625 \nQ 39.453125 6.390625 43.28125 13.890625 \nQ 47.125 21.390625 47.125 36.375 \nQ 47.125 51.421875 43.28125 58.90625 \nQ 39.453125 66.40625 31.78125 66.40625 \nz\nM 31.78125 74.21875 \nQ 44.046875 74.21875 50.515625 64.515625 \nQ 56.984375 54.828125 56.984375 36.375 \nQ 56.984375 17.96875 50.515625 8.265625 \nQ 44.046875 -1.421875 31.78125 -1.421875 \nQ 19.53125 -1.421875 13.0625 8.265625 \nQ 6.59375 17.96875 6.59375 36.375 \nQ 6.59375 54.828125 13.0625 64.515625 \nQ 19.53125 74.21875 31.78125 74.21875 \nz\n\" id=\"DejaVuSans-48\"/>\n      </defs>\n      <g transform=\"translate(48.074931 239.238438)scale(0.1 -0.1)\">\n       <use xlink:href=\"#DejaVuSans-48\"/>\n      </g>\n     </g>\n    </g>\n    <g id=\"xtick_2\">\n     <g id=\"line2d_2\">\n      <g>\n       <use style=\"stroke:#000000;stroke-width:0.8;\" x=\"99.130211\" xlink:href=\"#m46f2c12a94\" y=\"224.64\"/>\n      </g>\n     </g>\n     <g id=\"text_2\">\n      <!-- 200 -->\n      <defs>\n       <path d=\"M 19.1875 8.296875 \nL 53.609375 8.296875 \nL 53.609375 0 \nL 7.328125 0 \nL 7.328125 8.296875 \nQ 12.9375 14.109375 22.625 23.890625 \nQ 32.328125 33.6875 34.8125 36.53125 \nQ 39.546875 41.84375 41.421875 45.53125 \nQ 43.3125 49.21875 43.3125 52.78125 \nQ 43.3125 58.59375 39.234375 62.25 \nQ 35.15625 65.921875 28.609375 65.921875 \nQ 23.96875 65.921875 18.8125 64.3125 \nQ 13.671875 62.703125 7.8125 59.421875 \nL 7.8125 69.390625 \nQ 13.765625 71.78125 18.9375 73 \nQ 24.125 74.21875 28.421875 74.21875 \nQ 39.75 74.21875 46.484375 68.546875 \nQ 53.21875 62.890625 53.21875 53.421875 \nQ 53.21875 48.921875 51.53125 44.890625 \nQ 49.859375 40.875 45.40625 35.40625 \nQ 44.1875 33.984375 37.640625 27.21875 \nQ 31.109375 20.453125 19.1875 8.296875 \nz\n\" id=\"DejaVuSans-50\"/>\n      </defs>\n      <g transform=\"translate(89.586461 239.238438)scale(0.1 -0.1)\">\n       <use xlink:href=\"#DejaVuSans-50\"/>\n       <use x=\"63.623047\" xlink:href=\"#DejaVuSans-48\"/>\n       <use x=\"127.246094\" xlink:href=\"#DejaVuSans-48\"/>\n      </g>\n     </g>\n    </g>\n    <g id=\"xtick_3\">\n     <g id=\"line2d_3\">\n      <g>\n       <use style=\"stroke:#000000;stroke-width:0.8;\" x=\"147.00424\" xlink:href=\"#m46f2c12a94\" y=\"224.64\"/>\n      </g>\n     </g>\n     <g id=\"text_3\">\n      <!-- 400 -->\n      <defs>\n       <path d=\"M 37.796875 64.3125 \nL 12.890625 25.390625 \nL 37.796875 25.390625 \nz\nM 35.203125 72.90625 \nL 47.609375 72.90625 \nL 47.609375 25.390625 \nL 58.015625 25.390625 \nL 58.015625 17.1875 \nL 47.609375 17.1875 \nL 47.609375 0 \nL 37.796875 0 \nL 37.796875 17.1875 \nL 4.890625 17.1875 \nL 4.890625 26.703125 \nz\n\" id=\"DejaVuSans-52\"/>\n      </defs>\n      <g transform=\"translate(137.46049 239.238438)scale(0.1 -0.1)\">\n       <use xlink:href=\"#DejaVuSans-52\"/>\n       <use x=\"63.623047\" xlink:href=\"#DejaVuSans-48\"/>\n       <use x=\"127.246094\" xlink:href=\"#DejaVuSans-48\"/>\n      </g>\n     </g>\n    </g>\n    <g id=\"xtick_4\">\n     <g id=\"line2d_4\">\n      <g>\n       <use style=\"stroke:#000000;stroke-width:0.8;\" x=\"194.87827\" xlink:href=\"#m46f2c12a94\" y=\"224.64\"/>\n      </g>\n     </g>\n     <g id=\"text_4\">\n      <!-- 600 -->\n      <defs>\n       <path d=\"M 33.015625 40.375 \nQ 26.375 40.375 22.484375 35.828125 \nQ 18.609375 31.296875 18.609375 23.390625 \nQ 18.609375 15.53125 22.484375 10.953125 \nQ 26.375 6.390625 33.015625 6.390625 \nQ 39.65625 6.390625 43.53125 10.953125 \nQ 47.40625 15.53125 47.40625 23.390625 \nQ 47.40625 31.296875 43.53125 35.828125 \nQ 39.65625 40.375 33.015625 40.375 \nz\nM 52.59375 71.296875 \nL 52.59375 62.3125 \nQ 48.875 64.0625 45.09375 64.984375 \nQ 41.3125 65.921875 37.59375 65.921875 \nQ 27.828125 65.921875 22.671875 59.328125 \nQ 17.53125 52.734375 16.796875 39.40625 \nQ 19.671875 43.65625 24.015625 45.921875 \nQ 28.375 48.1875 33.59375 48.1875 \nQ 44.578125 48.1875 50.953125 41.515625 \nQ 57.328125 34.859375 57.328125 23.390625 \nQ 57.328125 12.15625 50.6875 5.359375 \nQ 44.046875 -1.421875 33.015625 -1.421875 \nQ 20.359375 -1.421875 13.671875 8.265625 \nQ 6.984375 17.96875 6.984375 36.375 \nQ 6.984375 53.65625 15.1875 63.9375 \nQ 23.390625 74.21875 37.203125 74.21875 \nQ 40.921875 74.21875 44.703125 73.484375 \nQ 48.484375 72.75 52.59375 71.296875 \nz\n\" id=\"DejaVuSans-54\"/>\n      </defs>\n      <g transform=\"translate(185.33452 239.238438)scale(0.1 -0.1)\">\n       <use xlink:href=\"#DejaVuSans-54\"/>\n       <use x=\"63.623047\" xlink:href=\"#DejaVuSans-48\"/>\n       <use x=\"127.246094\" xlink:href=\"#DejaVuSans-48\"/>\n      </g>\n     </g>\n    </g>\n    <g id=\"xtick_5\">\n     <g id=\"line2d_5\">\n      <g>\n       <use style=\"stroke:#000000;stroke-width:0.8;\" x=\"242.7523\" xlink:href=\"#m46f2c12a94\" y=\"224.64\"/>\n      </g>\n     </g>\n     <g id=\"text_5\">\n      <!-- 800 -->\n      <defs>\n       <path d=\"M 31.78125 34.625 \nQ 24.75 34.625 20.71875 30.859375 \nQ 16.703125 27.09375 16.703125 20.515625 \nQ 16.703125 13.921875 20.71875 10.15625 \nQ 24.75 6.390625 31.78125 6.390625 \nQ 38.8125 6.390625 42.859375 10.171875 \nQ 46.921875 13.96875 46.921875 20.515625 \nQ 46.921875 27.09375 42.890625 30.859375 \nQ 38.875 34.625 31.78125 34.625 \nz\nM 21.921875 38.8125 \nQ 15.578125 40.375 12.03125 44.71875 \nQ 8.5 49.078125 8.5 55.328125 \nQ 8.5 64.0625 14.71875 69.140625 \nQ 20.953125 74.21875 31.78125 74.21875 \nQ 42.671875 74.21875 48.875 69.140625 \nQ 55.078125 64.0625 55.078125 55.328125 \nQ 55.078125 49.078125 51.53125 44.71875 \nQ 48 40.375 41.703125 38.8125 \nQ 48.828125 37.15625 52.796875 32.3125 \nQ 56.78125 27.484375 56.78125 20.515625 \nQ 56.78125 9.90625 50.3125 4.234375 \nQ 43.84375 -1.421875 31.78125 -1.421875 \nQ 19.734375 -1.421875 13.25 4.234375 \nQ 6.78125 9.90625 6.78125 20.515625 \nQ 6.78125 27.484375 10.78125 32.3125 \nQ 14.796875 37.15625 21.921875 38.8125 \nz\nM 18.3125 54.390625 \nQ 18.3125 48.734375 21.84375 45.5625 \nQ 25.390625 42.390625 31.78125 42.390625 \nQ 38.140625 42.390625 41.71875 45.5625 \nQ 45.3125 48.734375 45.3125 54.390625 \nQ 45.3125 60.0625 41.71875 63.234375 \nQ 38.140625 66.40625 31.78125 66.40625 \nQ 25.390625 66.40625 21.84375 63.234375 \nQ 18.3125 60.0625 18.3125 54.390625 \nz\n\" id=\"DejaVuSans-56\"/>\n      </defs>\n      <g transform=\"translate(233.20855 239.238438)scale(0.1 -0.1)\">\n       <use xlink:href=\"#DejaVuSans-56\"/>\n       <use x=\"63.623047\" xlink:href=\"#DejaVuSans-48\"/>\n       <use x=\"127.246094\" xlink:href=\"#DejaVuSans-48\"/>\n      </g>\n     </g>\n    </g>\n    <g id=\"xtick_6\">\n     <g id=\"line2d_6\">\n      <g>\n       <use style=\"stroke:#000000;stroke-width:0.8;\" x=\"290.62633\" xlink:href=\"#m46f2c12a94\" y=\"224.64\"/>\n      </g>\n     </g>\n     <g id=\"text_6\">\n      <!-- 1000 -->\n      <defs>\n       <path d=\"M 12.40625 8.296875 \nL 28.515625 8.296875 \nL 28.515625 63.921875 \nL 10.984375 60.40625 \nL 10.984375 69.390625 \nL 28.421875 72.90625 \nL 38.28125 72.90625 \nL 38.28125 8.296875 \nL 54.390625 8.296875 \nL 54.390625 0 \nL 12.40625 0 \nz\n\" id=\"DejaVuSans-49\"/>\n      </defs>\n      <g transform=\"translate(277.90133 239.238438)scale(0.1 -0.1)\">\n       <use xlink:href=\"#DejaVuSans-49\"/>\n       <use x=\"63.623047\" xlink:href=\"#DejaVuSans-48\"/>\n       <use x=\"127.246094\" xlink:href=\"#DejaVuSans-48\"/>\n       <use x=\"190.869141\" xlink:href=\"#DejaVuSans-48\"/>\n      </g>\n     </g>\n    </g>\n    <g id=\"xtick_7\">\n     <g id=\"line2d_7\">\n      <g>\n       <use style=\"stroke:#000000;stroke-width:0.8;\" x=\"338.500359\" xlink:href=\"#m46f2c12a94\" y=\"224.64\"/>\n      </g>\n     </g>\n     <g id=\"text_7\">\n      <!-- 1200 -->\n      <g transform=\"translate(325.775359 239.238438)scale(0.1 -0.1)\">\n       <use xlink:href=\"#DejaVuSans-49\"/>\n       <use x=\"63.623047\" xlink:href=\"#DejaVuSans-50\"/>\n       <use x=\"127.246094\" xlink:href=\"#DejaVuSans-48\"/>\n       <use x=\"190.869141\" xlink:href=\"#DejaVuSans-48\"/>\n      </g>\n     </g>\n    </g>\n   </g>\n   <g id=\"matplotlib.axis_2\">\n    <g id=\"ytick_1\">\n     <g id=\"line2d_8\">\n      <defs>\n       <path d=\"M 0 0 \nL -3.5 0 \n\" id=\"mec942a2a50\" style=\"stroke:#000000;stroke-width:0.8;\"/>\n      </defs>\n      <g>\n       <use style=\"stroke:#000000;stroke-width:0.8;\" x=\"41.667188\" xlink:href=\"#mec942a2a50\" y=\"191.542864\"/>\n      </g>\n     </g>\n     <g id=\"text_8\">\n      <!-- −200 -->\n      <defs>\n       <path d=\"M 10.59375 35.5 \nL 73.1875 35.5 \nL 73.1875 27.203125 \nL 10.59375 27.203125 \nz\n\" id=\"DejaVuSans-8722\"/>\n      </defs>\n      <g transform=\"translate(7.2 195.342083)scale(0.1 -0.1)\">\n       <use xlink:href=\"#DejaVuSans-8722\"/>\n       <use x=\"83.789062\" xlink:href=\"#DejaVuSans-50\"/>\n       <use x=\"147.412109\" xlink:href=\"#DejaVuSans-48\"/>\n       <use x=\"211.035156\" xlink:href=\"#DejaVuSans-48\"/>\n      </g>\n     </g>\n    </g>\n    <g id=\"ytick_2\">\n     <g id=\"line2d_9\">\n      <g>\n       <use style=\"stroke:#000000;stroke-width:0.8;\" x=\"41.667188\" xlink:href=\"#mec942a2a50\" y=\"152.674531\"/>\n      </g>\n     </g>\n     <g id=\"text_9\">\n      <!-- 0 -->\n      <g transform=\"translate(28.304688 156.47375)scale(0.1 -0.1)\">\n       <use xlink:href=\"#DejaVuSans-48\"/>\n      </g>\n     </g>\n    </g>\n    <g id=\"ytick_3\">\n     <g id=\"line2d_10\">\n      <g>\n       <use style=\"stroke:#000000;stroke-width:0.8;\" x=\"41.667188\" xlink:href=\"#mec942a2a50\" y=\"113.806198\"/>\n      </g>\n     </g>\n     <g id=\"text_10\">\n      <!-- 200 -->\n      <g transform=\"translate(15.579688 117.605417)scale(0.1 -0.1)\">\n       <use xlink:href=\"#DejaVuSans-50\"/>\n       <use x=\"63.623047\" xlink:href=\"#DejaVuSans-48\"/>\n       <use x=\"127.246094\" xlink:href=\"#DejaVuSans-48\"/>\n      </g>\n     </g>\n    </g>\n    <g id=\"ytick_4\">\n     <g id=\"line2d_11\">\n      <g>\n       <use style=\"stroke:#000000;stroke-width:0.8;\" x=\"41.667188\" xlink:href=\"#mec942a2a50\" y=\"74.937866\"/>\n      </g>\n     </g>\n     <g id=\"text_11\">\n      <!-- 400 -->\n      <g transform=\"translate(15.579688 78.737084)scale(0.1 -0.1)\">\n       <use xlink:href=\"#DejaVuSans-52\"/>\n       <use x=\"63.623047\" xlink:href=\"#DejaVuSans-48\"/>\n       <use x=\"127.246094\" xlink:href=\"#DejaVuSans-48\"/>\n      </g>\n     </g>\n    </g>\n    <g id=\"ytick_5\">\n     <g id=\"line2d_12\">\n      <g>\n       <use style=\"stroke:#000000;stroke-width:0.8;\" x=\"41.667188\" xlink:href=\"#mec942a2a50\" y=\"36.069533\"/>\n      </g>\n     </g>\n     <g id=\"text_12\">\n      <!-- 600 -->\n      <g transform=\"translate(15.579688 39.868752)scale(0.1 -0.1)\">\n       <use xlink:href=\"#DejaVuSans-54\"/>\n       <use x=\"63.623047\" xlink:href=\"#DejaVuSans-48\"/>\n       <use x=\"127.246094\" xlink:href=\"#DejaVuSans-48\"/>\n      </g>\n     </g>\n    </g>\n   </g>\n   <g id=\"patch_3\">\n    <path d=\"M 41.667188 224.64 \nL 41.667188 7.2 \n\" style=\"fill:none;stroke:#000000;stroke-linecap:square;stroke-linejoin:miter;stroke-width:0.8;\"/>\n   </g>\n   <g id=\"patch_4\">\n    <path d=\"M 376.467188 224.64 \nL 376.467188 7.2 \n\" style=\"fill:none;stroke:#000000;stroke-linecap:square;stroke-linejoin:miter;stroke-width:0.8;\"/>\n   </g>\n   <g id=\"patch_5\">\n    <path d=\"M 41.667188 224.64 \nL 376.467188 224.64 \n\" style=\"fill:none;stroke:#000000;stroke-linecap:square;stroke-linejoin:miter;stroke-width:0.8;\"/>\n   </g>\n   <g id=\"patch_6\">\n    <path d=\"M 41.667188 7.2 \nL 376.467188 7.2 \n\" style=\"fill:none;stroke:#000000;stroke-linecap:square;stroke-linejoin:miter;stroke-width:0.8;\"/>\n   </g>\n  </g>\n </g>\n <defs>\n  <clipPath id=\"pb22ed48d92\">\n   <rect height=\"217.44\" width=\"334.8\" x=\"41.667188\" y=\"7.2\"/>\n  </clipPath>\n </defs>\n</svg>\n"
          },
          "metadata": {
            "needs_background": "light"
          }
        },
        {
          "output_type": "execute_result",
          "data": {
            "text/plain": [
              "12.400839333428216"
            ]
          },
          "metadata": {},
          "execution_count": 216
        }
      ]
    },
    {
      "cell_type": "code",
      "source": [
        "volume = np.linspace(0, 5000, 10000)\n",
        "X = pd.DataFrame({'Volume': volume})\n",
        "X['Volume^2'] = X['Volume'] ** 2\n",
        "\n",
        "plt.scatter(data_e['Volume'], data_e['e^2'])\n",
        "plt.plot(volume, model_e.predict(sm.add_constant(X)), color='orange')\n",
        "plt.show()"
      ],
      "metadata": {
        "colab": {
          "base_uri": "https://localhost:8080/",
          "height": 353
        },
        "id": "gLA6Lv-RdmTU",
        "outputId": "2bbc999b-c5c4-4f5d-dc87-955c4d5d0c7e"
      },
      "execution_count": 217,
      "outputs": [
        {
          "output_type": "display_data",
          "data": {
            "text/plain": [
              "<Figure size 432x288 with 1 Axes>"
            ],
            "image/svg+xml": "<?xml version=\"1.0\" encoding=\"utf-8\" standalone=\"no\"?>\n<!DOCTYPE svg PUBLIC \"-//W3C//DTD SVG 1.1//EN\"\n  \"http://www.w3.org/Graphics/SVG/1.1/DTD/svg11.dtd\">\n<!-- Created with matplotlib (https://matplotlib.org/) -->\n<svg height=\"248.518125pt\" version=\"1.1\" viewBox=\"0 0 394.375 248.518125\" width=\"394.375pt\" xmlns=\"http://www.w3.org/2000/svg\" xmlns:xlink=\"http://www.w3.org/1999/xlink\">\n <defs>\n  <style type=\"text/css\">\n*{stroke-linecap:butt;stroke-linejoin:round;}\n  </style>\n </defs>\n <g id=\"figure_1\">\n  <g id=\"patch_1\">\n   <path d=\"M 0 248.518125 \nL 394.375 248.518125 \nL 394.375 0 \nL 0 0 \nz\n\" style=\"fill:none;\"/>\n  </g>\n  <g id=\"axes_1\">\n   <g id=\"patch_2\">\n    <path d=\"M 52.375 224.64 \nL 387.175 224.64 \nL 387.175 7.2 \nL 52.375 7.2 \nz\n\" style=\"fill:#ffffff;\"/>\n   </g>\n   <g id=\"PathCollection_1\">\n    <defs>\n     <path d=\"M 0 3 \nC 0.795609 3 1.55874 2.683901 2.12132 2.12132 \nC 2.683901 1.55874 3 0.795609 3 0 \nC 3 -0.795609 2.683901 -1.55874 2.12132 -2.12132 \nC 1.55874 -2.683901 0.795609 -3 0 -3 \nC -0.795609 -3 -1.55874 -2.683901 -2.12132 -2.12132 \nC -2.683901 -1.55874 -3 -0.795609 -3 0 \nC -3 0.795609 -2.683901 1.55874 -2.12132 2.12132 \nC -1.55874 2.683901 -0.795609 3 0 3 \nz\n\" id=\"m3578d8ab25\" style=\"stroke:#1f77b4;\"/>\n    </defs>\n    <g clip-path=\"url(#p50b9097d51)\">\n     <use style=\"fill:#1f77b4;stroke:#1f77b4;\" x=\"132.994918\" xlink:href=\"#m3578d8ab25\" y=\"213.040264\"/>\n     <use style=\"fill:#1f77b4;stroke:#1f77b4;\" x=\"146.095461\" xlink:href=\"#m3578d8ab25\" y=\"212.504279\"/>\n     <use style=\"fill:#1f77b4;stroke:#1f77b4;\" x=\"152.160286\" xlink:href=\"#m3578d8ab25\" y=\"213.683692\"/>\n     <use style=\"fill:#1f77b4;stroke:#1f77b4;\" x=\"158.396843\" xlink:href=\"#m3578d8ab25\" y=\"213.495424\"/>\n     <use style=\"fill:#1f77b4;stroke:#1f77b4;\" x=\"170.651844\" xlink:href=\"#m3578d8ab25\" y=\"214.0119\"/>\n     <use style=\"fill:#1f77b4;stroke:#1f77b4;\" x=\"176.936164\" xlink:href=\"#m3578d8ab25\" y=\"213.730467\"/>\n     <use style=\"fill:#1f77b4;stroke:#1f77b4;\" x=\"189.69693\" xlink:href=\"#m3578d8ab25\" y=\"213.472632\"/>\n     <use style=\"fill:#1f77b4;stroke:#1f77b4;\" x=\"167.427832\" xlink:href=\"#m3578d8ab25\" y=\"212.865041\"/>\n     <use style=\"fill:#1f77b4;stroke:#1f77b4;\" x=\"181.565152\" xlink:href=\"#m3578d8ab25\" y=\"212.747514\"/>\n     <use style=\"fill:#1f77b4;stroke:#1f77b4;\" x=\"189.997821\" xlink:href=\"#m3578d8ab25\" y=\"213.412438\"/>\n     <use style=\"fill:#1f77b4;stroke:#1f77b4;\" x=\"193.449081\" xlink:href=\"#m3578d8ab25\" y=\"210.907131\"/>\n     <use style=\"fill:#1f77b4;stroke:#1f77b4;\" x=\"188.475824\" xlink:href=\"#m3578d8ab25\" y=\"213.702356\"/>\n     <use style=\"fill:#1f77b4;stroke:#1f77b4;\" x=\"174.054432\" xlink:href=\"#m3578d8ab25\" y=\"214.647666\"/>\n     <use style=\"fill:#1f77b4;stroke:#1f77b4;\" x=\"194.332154\" xlink:href=\"#m3578d8ab25\" y=\"192.148333\"/>\n     <use style=\"fill:#1f77b4;stroke:#1f77b4;\" x=\"205.980669\" xlink:href=\"#m3578d8ab25\" y=\"214.424513\"/>\n     <use style=\"fill:#1f77b4;stroke:#1f77b4;\" x=\"221.761568\" xlink:href=\"#m3578d8ab25\" y=\"210.955481\"/>\n     <use style=\"fill:#1f77b4;stroke:#1f77b4;\" x=\"212.939724\" xlink:href=\"#m3578d8ab25\" y=\"213.987158\"/>\n     <use style=\"fill:#1f77b4;stroke:#1f77b4;\" x=\"211.268873\" xlink:href=\"#m3578d8ab25\" y=\"213.712127\"/>\n     <use style=\"fill:#1f77b4;stroke:#1f77b4;\" x=\"218.553399\" xlink:href=\"#m3578d8ab25\" y=\"212.603598\"/>\n     <use style=\"fill:#1f77b4;stroke:#1f77b4;\" x=\"224.030262\" xlink:href=\"#m3578d8ab25\" y=\"213.434793\"/>\n     <use style=\"fill:#1f77b4;stroke:#1f77b4;\" x=\"228.131672\" xlink:href=\"#m3578d8ab25\" y=\"205.672942\"/>\n     <use style=\"fill:#1f77b4;stroke:#1f77b4;\" x=\"231.767519\" xlink:href=\"#m3578d8ab25\" y=\"213.48044\"/>\n     <use style=\"fill:#1f77b4;stroke:#1f77b4;\" x=\"224.753437\" xlink:href=\"#m3578d8ab25\" y=\"211.472436\"/>\n     <use style=\"fill:#1f77b4;stroke:#1f77b4;\" x=\"251.164096\" xlink:href=\"#m3578d8ab25\" y=\"206.129217\"/>\n     <use style=\"fill:#1f77b4;stroke:#1f77b4;\" x=\"243.850415\" xlink:href=\"#m3578d8ab25\" y=\"211.183229\"/>\n     <use style=\"fill:#1f77b4;stroke:#1f77b4;\" x=\"259.291456\" xlink:href=\"#m3578d8ab25\" y=\"207.191963\"/>\n     <use style=\"fill:#1f77b4;stroke:#1f77b4;\" x=\"261.691204\" xlink:href=\"#m3578d8ab25\" y=\"205.375374\"/>\n     <use style=\"fill:#1f77b4;stroke:#1f77b4;\" x=\"259.977155\" xlink:href=\"#m3578d8ab25\" y=\"205.562929\"/>\n     <use style=\"fill:#1f77b4;stroke:#1f77b4;\" x=\"276.616899\" xlink:href=\"#m3578d8ab25\" y=\"211.626782\"/>\n     <use style=\"fill:#1f77b4;stroke:#1f77b4;\" x=\"322.85066\" xlink:href=\"#m3578d8ab25\" y=\"206.716899\"/>\n     <use style=\"fill:#1f77b4;stroke:#1f77b4;\" x=\"309.934423\" xlink:href=\"#m3578d8ab25\" y=\"203.846087\"/>\n     <use style=\"fill:#1f77b4;stroke:#1f77b4;\" x=\"310.016291\" xlink:href=\"#m3578d8ab25\" y=\"207.962136\"/>\n     <use style=\"fill:#1f77b4;stroke:#1f77b4;\" x=\"346.53546\" xlink:href=\"#m3578d8ab25\" y=\"173.287725\"/>\n     <use style=\"fill:#1f77b4;stroke:#1f77b4;\" x=\"353.854786\" xlink:href=\"#m3578d8ab25\" y=\"177.787238\"/>\n     <use style=\"fill:#1f77b4;stroke:#1f77b4;\" x=\"327.293235\" xlink:href=\"#m3578d8ab25\" y=\"196.829643\"/>\n     <use style=\"fill:#1f77b4;stroke:#1f77b4;\" x=\"74.979202\" xlink:href=\"#m3578d8ab25\" y=\"214.666438\"/>\n     <use style=\"fill:#1f77b4;stroke:#1f77b4;\" x=\"82.609176\" xlink:href=\"#m3578d8ab25\" y=\"214.616169\"/>\n     <use style=\"fill:#1f77b4;stroke:#1f77b4;\" x=\"84.843966\" xlink:href=\"#m3578d8ab25\" y=\"214.6053\"/>\n     <use style=\"fill:#1f77b4;stroke:#1f77b4;\" x=\"87.347255\" xlink:href=\"#m3578d8ab25\" y=\"214.576473\"/>\n     <use style=\"fill:#1f77b4;stroke:#1f77b4;\" x=\"92.748254\" xlink:href=\"#m3578d8ab25\" y=\"214.682895\"/>\n     <use style=\"fill:#1f77b4;stroke:#1f77b4;\" x=\"91.943727\" xlink:href=\"#m3578d8ab25\" y=\"214.616054\"/>\n     <use style=\"fill:#1f77b4;stroke:#1f77b4;\" x=\"91.381059\" xlink:href=\"#m3578d8ab25\" y=\"214.714575\"/>\n     <use style=\"fill:#1f77b4;stroke:#1f77b4;\" x=\"94.655082\" xlink:href=\"#m3578d8ab25\" y=\"214.659843\"/>\n     <use style=\"fill:#1f77b4;stroke:#1f77b4;\" x=\"96.963231\" xlink:href=\"#m3578d8ab25\" y=\"214.715833\"/>\n     <use style=\"fill:#1f77b4;stroke:#1f77b4;\" x=\"101.123634\" xlink:href=\"#m3578d8ab25\" y=\"214.703444\"/>\n     <use style=\"fill:#1f77b4;stroke:#1f77b4;\" x=\"95.433552\" xlink:href=\"#m3578d8ab25\" y=\"214.718844\"/>\n     <use style=\"fill:#1f77b4;stroke:#1f77b4;\" x=\"98.830144\" xlink:href=\"#m3578d8ab25\" y=\"214.713718\"/>\n     <use style=\"fill:#1f77b4;stroke:#1f77b4;\" x=\"106.290612\" xlink:href=\"#m3578d8ab25\" y=\"214.557229\"/>\n     <use style=\"fill:#1f77b4;stroke:#1f77b4;\" x=\"101.221615\" xlink:href=\"#m3578d8ab25\" y=\"214.706223\"/>\n     <use style=\"fill:#1f77b4;stroke:#1f77b4;\" x=\"108.66221\" xlink:href=\"#m3578d8ab25\" y=\"214.719386\"/>\n     <use style=\"fill:#1f77b4;stroke:#1f77b4;\" x=\"107.358542\" xlink:href=\"#m3578d8ab25\" y=\"214.643488\"/>\n     <use style=\"fill:#1f77b4;stroke:#1f77b4;\" x=\"125.910025\" xlink:href=\"#m3578d8ab25\" y=\"214.630428\"/>\n     <use style=\"fill:#1f77b4;stroke:#1f77b4;\" x=\"129.835857\" xlink:href=\"#m3578d8ab25\" y=\"214.550008\"/>\n     <use style=\"fill:#1f77b4;stroke:#1f77b4;\" x=\"158.802999\" xlink:href=\"#m3578d8ab25\" y=\"214.361559\"/>\n     <use style=\"fill:#1f77b4;stroke:#1f77b4;\" x=\"118.731109\" xlink:href=\"#m3578d8ab25\" y=\"214.437571\"/>\n     <use style=\"fill:#1f77b4;stroke:#1f77b4;\" x=\"118.360923\" xlink:href=\"#m3578d8ab25\" y=\"214.401696\"/>\n     <use style=\"fill:#1f77b4;stroke:#1f77b4;\" x=\"131.633371\" xlink:href=\"#m3578d8ab25\" y=\"214.706474\"/>\n     <use style=\"fill:#1f77b4;stroke:#1f77b4;\" x=\"189.905401\" xlink:href=\"#m3578d8ab25\" y=\"214.611212\"/>\n     <use style=\"fill:#1f77b4;stroke:#1f77b4;\" x=\"226.194784\" xlink:href=\"#m3578d8ab25\" y=\"211.838415\"/>\n     <use style=\"fill:#1f77b4;stroke:#1f77b4;\" x=\"250.622097\" xlink:href=\"#m3578d8ab25\" y=\"202.010615\"/>\n     <use style=\"fill:#1f77b4;stroke:#1f77b4;\" x=\"80.684749\" xlink:href=\"#m3578d8ab25\" y=\"214.531836\"/>\n     <use style=\"fill:#1f77b4;stroke:#1f77b4;\" x=\"80.84272\" xlink:href=\"#m3578d8ab25\" y=\"214.599486\"/>\n     <use style=\"fill:#1f77b4;stroke:#1f77b4;\" x=\"87.233391\" xlink:href=\"#m3578d8ab25\" y=\"214.62485\"/>\n     <use style=\"fill:#1f77b4;stroke:#1f77b4;\" x=\"93.680943\" xlink:href=\"#m3578d8ab25\" y=\"214.644474\"/>\n     <use style=\"fill:#1f77b4;stroke:#1f77b4;\" x=\"100.390963\" xlink:href=\"#m3578d8ab25\" y=\"214.650118\"/>\n     <use style=\"fill:#1f77b4;stroke:#1f77b4;\" x=\"100.123514\" xlink:href=\"#m3578d8ab25\" y=\"214.524802\"/>\n     <use style=\"fill:#1f77b4;stroke:#1f77b4;\" x=\"104.654827\" xlink:href=\"#m3578d8ab25\" y=\"214.662926\"/>\n     <use style=\"fill:#1f77b4;stroke:#1f77b4;\" x=\"104.642029\" xlink:href=\"#m3578d8ab25\" y=\"214.171161\"/>\n     <use style=\"fill:#1f77b4;stroke:#1f77b4;\" x=\"116.506908\" xlink:href=\"#m3578d8ab25\" y=\"214.253594\"/>\n     <use style=\"fill:#1f77b4;stroke:#1f77b4;\" x=\"131.924664\" xlink:href=\"#m3578d8ab25\" y=\"214.387195\"/>\n     <use style=\"fill:#1f77b4;stroke:#1f77b4;\" x=\"137.911572\" xlink:href=\"#m3578d8ab25\" y=\"214.403214\"/>\n     <use style=\"fill:#1f77b4;stroke:#1f77b4;\" x=\"68.950809\" xlink:href=\"#m3578d8ab25\" y=\"214.572174\"/>\n     <use style=\"fill:#1f77b4;stroke:#1f77b4;\" x=\"72.960009\" xlink:href=\"#m3578d8ab25\" y=\"214.674216\"/>\n     <use style=\"fill:#1f77b4;stroke:#1f77b4;\" x=\"75.405561\" xlink:href=\"#m3578d8ab25\" y=\"214.647621\"/>\n     <use style=\"fill:#1f77b4;stroke:#1f77b4;\" x=\"78.628214\" xlink:href=\"#m3578d8ab25\" y=\"214.616031\"/>\n     <use style=\"fill:#1f77b4;stroke:#1f77b4;\" x=\"80.490953\" xlink:href=\"#m3578d8ab25\" y=\"214.706568\"/>\n     <use style=\"fill:#1f77b4;stroke:#1f77b4;\" x=\"84.699449\" xlink:href=\"#m3578d8ab25\" y=\"214.705575\"/>\n     <use style=\"fill:#1f77b4;stroke:#1f77b4;\" x=\"84.200372\" xlink:href=\"#m3578d8ab25\" y=\"214.640565\"/>\n     <use style=\"fill:#1f77b4;stroke:#1f77b4;\" x=\"85.591631\" xlink:href=\"#m3578d8ab25\" y=\"214.587133\"/>\n     <use style=\"fill:#1f77b4;stroke:#1f77b4;\" x=\"84.49834\" xlink:href=\"#m3578d8ab25\" y=\"214.69186\"/>\n     <use style=\"fill:#1f77b4;stroke:#1f77b4;\" x=\"83.200275\" xlink:href=\"#m3578d8ab25\" y=\"214.716882\"/>\n     <use style=\"fill:#1f77b4;stroke:#1f77b4;\" x=\"90.99874\" xlink:href=\"#m3578d8ab25\" y=\"214.662873\"/>\n     <use style=\"fill:#1f77b4;stroke:#1f77b4;\" x=\"90.229953\" xlink:href=\"#m3578d8ab25\" y=\"214.714735\"/>\n     <use style=\"fill:#1f77b4;stroke:#1f77b4;\" x=\"91.739422\" xlink:href=\"#m3578d8ab25\" y=\"214.719524\"/>\n     <use style=\"fill:#1f77b4;stroke:#1f77b4;\" x=\"94.098895\" xlink:href=\"#m3578d8ab25\" y=\"214.707545\"/>\n     <use style=\"fill:#1f77b4;stroke:#1f77b4;\" x=\"92.940372\" xlink:href=\"#m3578d8ab25\" y=\"214.676095\"/>\n     <use style=\"fill:#1f77b4;stroke:#1f77b4;\" x=\"91.797396\" xlink:href=\"#m3578d8ab25\" y=\"214.70803\"/>\n     <use style=\"fill:#1f77b4;stroke:#1f77b4;\" x=\"93.814413\" xlink:href=\"#m3578d8ab25\" y=\"214.712424\"/>\n     <use style=\"fill:#1f77b4;stroke:#1f77b4;\" x=\"92.805905\" xlink:href=\"#m3578d8ab25\" y=\"214.708343\"/>\n     <use style=\"fill:#1f77b4;stroke:#1f77b4;\" x=\"94.453136\" xlink:href=\"#m3578d8ab25\" y=\"214.423796\"/>\n     <use style=\"fill:#1f77b4;stroke:#1f77b4;\" x=\"94.076102\" xlink:href=\"#m3578d8ab25\" y=\"214.707982\"/>\n     <use style=\"fill:#1f77b4;stroke:#1f77b4;\" x=\"98.309028\" xlink:href=\"#m3578d8ab25\" y=\"214.71326\"/>\n     <use style=\"fill:#1f77b4;stroke:#1f77b4;\" x=\"94.823342\" xlink:href=\"#m3578d8ab25\" y=\"214.702973\"/>\n     <use style=\"fill:#1f77b4;stroke:#1f77b4;\" x=\"91.78205\" xlink:href=\"#m3578d8ab25\" y=\"214.470896\"/>\n     <use style=\"fill:#1f77b4;stroke:#1f77b4;\" x=\"98.184714\" xlink:href=\"#m3578d8ab25\" y=\"214.607406\"/>\n     <use style=\"fill:#1f77b4;stroke:#1f77b4;\" x=\"103.954925\" xlink:href=\"#m3578d8ab25\" y=\"213.850376\"/>\n     <use style=\"fill:#1f77b4;stroke:#1f77b4;\" x=\"100.248737\" xlink:href=\"#m3578d8ab25\" y=\"214.595895\"/>\n     <use style=\"fill:#1f77b4;stroke:#1f77b4;\" x=\"106.182227\" xlink:href=\"#m3578d8ab25\" y=\"214.719417\"/>\n     <use style=\"fill:#1f77b4;stroke:#1f77b4;\" x=\"100.802764\" xlink:href=\"#m3578d8ab25\" y=\"214.626755\"/>\n     <use style=\"fill:#1f77b4;stroke:#1f77b4;\" x=\"107.378614\" xlink:href=\"#m3578d8ab25\" y=\"214.715299\"/>\n     <use style=\"fill:#1f77b4;stroke:#1f77b4;\" x=\"112.797561\" xlink:href=\"#m3578d8ab25\" y=\"214.719454\"/>\n     <use style=\"fill:#1f77b4;stroke:#1f77b4;\" x=\"133.183256\" xlink:href=\"#m3578d8ab25\" y=\"214.698832\"/>\n     <use style=\"fill:#1f77b4;stroke:#1f77b4;\" x=\"115.632308\" xlink:href=\"#m3578d8ab25\" y=\"214.354938\"/>\n     <use style=\"fill:#1f77b4;stroke:#1f77b4;\" x=\"114.857484\" xlink:href=\"#m3578d8ab25\" y=\"214.121767\"/>\n     <use style=\"fill:#1f77b4;stroke:#1f77b4;\" x=\"119.010544\" xlink:href=\"#m3578d8ab25\" y=\"214.708862\"/>\n     <use style=\"fill:#1f77b4;stroke:#1f77b4;\" x=\"119.429585\" xlink:href=\"#m3578d8ab25\" y=\"214.715147\"/>\n     <use style=\"fill:#1f77b4;stroke:#1f77b4;\" x=\"125.167565\" xlink:href=\"#m3578d8ab25\" y=\"214.399493\"/>\n     <use style=\"fill:#1f77b4;stroke:#1f77b4;\" x=\"129.087602\" xlink:href=\"#m3578d8ab25\" y=\"214.333019\"/>\n     <use style=\"fill:#1f77b4;stroke:#1f77b4;\" x=\"179.659658\" xlink:href=\"#m3578d8ab25\" y=\"214.716613\"/>\n     <use style=\"fill:#1f77b4;stroke:#1f77b4;\" x=\"195.208508\" xlink:href=\"#m3578d8ab25\" y=\"214.492798\"/>\n     <use style=\"fill:#1f77b4;stroke:#1f77b4;\" x=\"244.775666\" xlink:href=\"#m3578d8ab25\" y=\"213.982424\"/>\n     <use style=\"fill:#1f77b4;stroke:#1f77b4;\" x=\"222.17121\" xlink:href=\"#m3578d8ab25\" y=\"214.650013\"/>\n     <use style=\"fill:#1f77b4;stroke:#1f77b4;\" x=\"215.603387\" xlink:href=\"#m3578d8ab25\" y=\"214.335137\"/>\n     <use style=\"fill:#1f77b4;stroke:#1f77b4;\" x=\"210.142163\" xlink:href=\"#m3578d8ab25\" y=\"213.501964\"/>\n     <use style=\"fill:#1f77b4;stroke:#1f77b4;\" x=\"209.352382\" xlink:href=\"#m3578d8ab25\" y=\"213.775037\"/>\n     <use style=\"fill:#1f77b4;stroke:#1f77b4;\" x=\"253.009162\" xlink:href=\"#m3578d8ab25\" y=\"212.927466\"/>\n     <use style=\"fill:#1f77b4;stroke:#1f77b4;\" x=\"216.130846\" xlink:href=\"#m3578d8ab25\" y=\"214.531009\"/>\n     <use style=\"fill:#1f77b4;stroke:#1f77b4;\" x=\"271.199123\" xlink:href=\"#m3578d8ab25\" y=\"211.171894\"/>\n     <use style=\"fill:#1f77b4;stroke:#1f77b4;\" x=\"258.002523\" xlink:href=\"#m3578d8ab25\" y=\"214.707243\"/>\n     <use style=\"fill:#1f77b4;stroke:#1f77b4;\" x=\"258.473147\" xlink:href=\"#m3578d8ab25\" y=\"213.988512\"/>\n     <use style=\"fill:#1f77b4;stroke:#1f77b4;\" x=\"275.683424\" xlink:href=\"#m3578d8ab25\" y=\"212.001275\"/>\n     <use style=\"fill:#1f77b4;stroke:#1f77b4;\" x=\"234.318064\" xlink:href=\"#m3578d8ab25\" y=\"212.811578\"/>\n     <use style=\"fill:#1f77b4;stroke:#1f77b4;\" x=\"276.311084\" xlink:href=\"#m3578d8ab25\" y=\"203.790728\"/>\n     <use style=\"fill:#1f77b4;stroke:#1f77b4;\" x=\"277.977083\" xlink:href=\"#m3578d8ab25\" y=\"213.412102\"/>\n     <use style=\"fill:#1f77b4;stroke:#1f77b4;\" x=\"294.115097\" xlink:href=\"#m3578d8ab25\" y=\"211.727253\"/>\n     <use style=\"fill:#1f77b4;stroke:#1f77b4;\" x=\"318.717231\" xlink:href=\"#m3578d8ab25\" y=\"208.653204\"/>\n     <use style=\"fill:#1f77b4;stroke:#1f77b4;\" x=\"304.926556\" xlink:href=\"#m3578d8ab25\" y=\"213.176449\"/>\n     <use style=\"fill:#1f77b4;stroke:#1f77b4;\" x=\"101.916891\" xlink:href=\"#m3578d8ab25\" y=\"214.348704\"/>\n     <use style=\"fill:#1f77b4;stroke:#1f77b4;\" x=\"113.389995\" xlink:href=\"#m3578d8ab25\" y=\"212.132918\"/>\n     <use style=\"fill:#1f77b4;stroke:#1f77b4;\" x=\"119.402018\" xlink:href=\"#m3578d8ab25\" y=\"213.561546\"/>\n     <use style=\"fill:#1f77b4;stroke:#1f77b4;\" x=\"121.141595\" xlink:href=\"#m3578d8ab25\" y=\"213.869252\"/>\n     <use style=\"fill:#1f77b4;stroke:#1f77b4;\" x=\"139.689338\" xlink:href=\"#m3578d8ab25\" y=\"211.110775\"/>\n     <use style=\"fill:#1f77b4;stroke:#1f77b4;\" x=\"123.336049\" xlink:href=\"#m3578d8ab25\" y=\"212.047672\"/>\n     <use style=\"fill:#1f77b4;stroke:#1f77b4;\" x=\"144.214414\" xlink:href=\"#m3578d8ab25\" y=\"210.627028\"/>\n     <use style=\"fill:#1f77b4;stroke:#1f77b4;\" x=\"141.693979\" xlink:href=\"#m3578d8ab25\" y=\"203.602699\"/>\n     <use style=\"fill:#1f77b4;stroke:#1f77b4;\" x=\"165.084296\" xlink:href=\"#m3578d8ab25\" y=\"211.229678\"/>\n     <use style=\"fill:#1f77b4;stroke:#1f77b4;\" x=\"154.714151\" xlink:href=\"#m3578d8ab25\" y=\"210.798665\"/>\n     <use style=\"fill:#1f77b4;stroke:#1f77b4;\" x=\"167.382582\" xlink:href=\"#m3578d8ab25\" y=\"209.841147\"/>\n     <use style=\"fill:#1f77b4;stroke:#1f77b4;\" x=\"180.188739\" xlink:href=\"#m3578d8ab25\" y=\"188.037553\"/>\n     <use style=\"fill:#1f77b4;stroke:#1f77b4;\" x=\"229.552569\" xlink:href=\"#m3578d8ab25\" y=\"195.160159\"/>\n     <use style=\"fill:#1f77b4;stroke:#1f77b4;\" x=\"303.865944\" xlink:href=\"#m3578d8ab25\" y=\"199.594402\"/>\n     <use style=\"fill:#1f77b4;stroke:#1f77b4;\" x=\"268.656677\" xlink:href=\"#m3578d8ab25\" y=\"17.083636\"/>\n     <use style=\"fill:#1f77b4;stroke:#1f77b4;\" x=\"268.656677\" xlink:href=\"#m3578d8ab25\" y=\"44.395652\"/>\n     <use style=\"fill:#1f77b4;stroke:#1f77b4;\" x=\"358.050556\" xlink:href=\"#m3578d8ab25\" y=\"163.562347\"/>\n     <use style=\"fill:#1f77b4;stroke:#1f77b4;\" x=\"68.624401\" xlink:href=\"#m3578d8ab25\" y=\"214.604706\"/>\n     <use style=\"fill:#1f77b4;stroke:#1f77b4;\" x=\"68.985658\" xlink:href=\"#m3578d8ab25\" y=\"214.593707\"/>\n     <use style=\"fill:#1f77b4;stroke:#1f77b4;\" x=\"68.813524\" xlink:href=\"#m3578d8ab25\" y=\"214.597343\"/>\n     <use style=\"fill:#1f77b4;stroke:#1f77b4;\" x=\"69.511707\" xlink:href=\"#m3578d8ab25\" y=\"214.592114\"/>\n     <use style=\"fill:#1f77b4;stroke:#1f77b4;\" x=\"69.326173\" xlink:href=\"#m3578d8ab25\" y=\"214.604938\"/>\n     <use style=\"fill:#1f77b4;stroke:#1f77b4;\" x=\"69.264609\" xlink:href=\"#m3578d8ab25\" y=\"214.593342\"/>\n     <use style=\"fill:#1f77b4;stroke:#1f77b4;\" x=\"69.548226\" xlink:href=\"#m3578d8ab25\" y=\"214.594114\"/>\n     <use style=\"fill:#1f77b4;stroke:#1f77b4;\" x=\"69.368681\" xlink:href=\"#m3578d8ab25\" y=\"214.603751\"/>\n     <use style=\"fill:#1f77b4;stroke:#1f77b4;\" x=\"69.349937\" xlink:href=\"#m3578d8ab25\" y=\"214.603509\"/>\n     <use style=\"fill:#1f77b4;stroke:#1f77b4;\" x=\"69.632515\" xlink:href=\"#m3578d8ab25\" y=\"214.618867\"/>\n     <use style=\"fill:#1f77b4;stroke:#1f77b4;\" x=\"69.789405\" xlink:href=\"#m3578d8ab25\" y=\"214.625291\"/>\n     <use style=\"fill:#1f77b4;stroke:#1f77b4;\" x=\"69.699343\" xlink:href=\"#m3578d8ab25\" y=\"214.615078\"/>\n     <use style=\"fill:#1f77b4;stroke:#1f77b4;\" x=\"72.365008\" xlink:href=\"#m3578d8ab25\" y=\"214.553036\"/>\n     <use style=\"fill:#1f77b4;stroke:#1f77b4;\" x=\"72.221982\" xlink:href=\"#m3578d8ab25\" y=\"214.566378\"/>\n    </g>\n   </g>\n   <g id=\"matplotlib.axis_1\">\n    <g id=\"xtick_1\">\n     <g id=\"line2d_1\">\n      <defs>\n       <path d=\"M 0 0 \nL 0 3.5 \n\" id=\"m8e146d592a\" style=\"stroke:#000000;stroke-width:0.8;\"/>\n      </defs>\n      <g>\n       <use style=\"stroke:#000000;stroke-width:0.8;\" x=\"67.593182\" xlink:href=\"#m8e146d592a\" y=\"224.64\"/>\n      </g>\n     </g>\n     <g id=\"text_1\">\n      <!-- 0 -->\n      <defs>\n       <path d=\"M 31.78125 66.40625 \nQ 24.171875 66.40625 20.328125 58.90625 \nQ 16.5 51.421875 16.5 36.375 \nQ 16.5 21.390625 20.328125 13.890625 \nQ 24.171875 6.390625 31.78125 6.390625 \nQ 39.453125 6.390625 43.28125 13.890625 \nQ 47.125 21.390625 47.125 36.375 \nQ 47.125 51.421875 43.28125 58.90625 \nQ 39.453125 66.40625 31.78125 66.40625 \nz\nM 31.78125 74.21875 \nQ 44.046875 74.21875 50.515625 64.515625 \nQ 56.984375 54.828125 56.984375 36.375 \nQ 56.984375 17.96875 50.515625 8.265625 \nQ 44.046875 -1.421875 31.78125 -1.421875 \nQ 19.53125 -1.421875 13.0625 8.265625 \nQ 6.59375 17.96875 6.59375 36.375 \nQ 6.59375 54.828125 13.0625 64.515625 \nQ 19.53125 74.21875 31.78125 74.21875 \nz\n\" id=\"DejaVuSans-48\"/>\n      </defs>\n      <g transform=\"translate(64.411932 239.238437)scale(0.1 -0.1)\">\n       <use xlink:href=\"#DejaVuSans-48\"/>\n      </g>\n     </g>\n    </g>\n    <g id=\"xtick_2\">\n     <g id=\"line2d_2\">\n      <g>\n       <use style=\"stroke:#000000;stroke-width:0.8;\" x=\"128.465909\" xlink:href=\"#m8e146d592a\" y=\"224.64\"/>\n      </g>\n     </g>\n     <g id=\"text_2\">\n      <!-- 1000 -->\n      <defs>\n       <path d=\"M 12.40625 8.296875 \nL 28.515625 8.296875 \nL 28.515625 63.921875 \nL 10.984375 60.40625 \nL 10.984375 69.390625 \nL 28.421875 72.90625 \nL 38.28125 72.90625 \nL 38.28125 8.296875 \nL 54.390625 8.296875 \nL 54.390625 0 \nL 12.40625 0 \nz\n\" id=\"DejaVuSans-49\"/>\n      </defs>\n      <g transform=\"translate(115.740909 239.238437)scale(0.1 -0.1)\">\n       <use xlink:href=\"#DejaVuSans-49\"/>\n       <use x=\"63.623047\" xlink:href=\"#DejaVuSans-48\"/>\n       <use x=\"127.246094\" xlink:href=\"#DejaVuSans-48\"/>\n       <use x=\"190.869141\" xlink:href=\"#DejaVuSans-48\"/>\n      </g>\n     </g>\n    </g>\n    <g id=\"xtick_3\">\n     <g id=\"line2d_3\">\n      <g>\n       <use style=\"stroke:#000000;stroke-width:0.8;\" x=\"189.338636\" xlink:href=\"#m8e146d592a\" y=\"224.64\"/>\n      </g>\n     </g>\n     <g id=\"text_3\">\n      <!-- 2000 -->\n      <defs>\n       <path d=\"M 19.1875 8.296875 \nL 53.609375 8.296875 \nL 53.609375 0 \nL 7.328125 0 \nL 7.328125 8.296875 \nQ 12.9375 14.109375 22.625 23.890625 \nQ 32.328125 33.6875 34.8125 36.53125 \nQ 39.546875 41.84375 41.421875 45.53125 \nQ 43.3125 49.21875 43.3125 52.78125 \nQ 43.3125 58.59375 39.234375 62.25 \nQ 35.15625 65.921875 28.609375 65.921875 \nQ 23.96875 65.921875 18.8125 64.3125 \nQ 13.671875 62.703125 7.8125 59.421875 \nL 7.8125 69.390625 \nQ 13.765625 71.78125 18.9375 73 \nQ 24.125 74.21875 28.421875 74.21875 \nQ 39.75 74.21875 46.484375 68.546875 \nQ 53.21875 62.890625 53.21875 53.421875 \nQ 53.21875 48.921875 51.53125 44.890625 \nQ 49.859375 40.875 45.40625 35.40625 \nQ 44.1875 33.984375 37.640625 27.21875 \nQ 31.109375 20.453125 19.1875 8.296875 \nz\n\" id=\"DejaVuSans-50\"/>\n      </defs>\n      <g transform=\"translate(176.613636 239.238437)scale(0.1 -0.1)\">\n       <use xlink:href=\"#DejaVuSans-50\"/>\n       <use x=\"63.623047\" xlink:href=\"#DejaVuSans-48\"/>\n       <use x=\"127.246094\" xlink:href=\"#DejaVuSans-48\"/>\n       <use x=\"190.869141\" xlink:href=\"#DejaVuSans-48\"/>\n      </g>\n     </g>\n    </g>\n    <g id=\"xtick_4\">\n     <g id=\"line2d_4\">\n      <g>\n       <use style=\"stroke:#000000;stroke-width:0.8;\" x=\"250.211364\" xlink:href=\"#m8e146d592a\" y=\"224.64\"/>\n      </g>\n     </g>\n     <g id=\"text_4\">\n      <!-- 3000 -->\n      <defs>\n       <path d=\"M 40.578125 39.3125 \nQ 47.65625 37.796875 51.625 33 \nQ 55.609375 28.21875 55.609375 21.1875 \nQ 55.609375 10.40625 48.1875 4.484375 \nQ 40.765625 -1.421875 27.09375 -1.421875 \nQ 22.515625 -1.421875 17.65625 -0.515625 \nQ 12.796875 0.390625 7.625 2.203125 \nL 7.625 11.71875 \nQ 11.71875 9.328125 16.59375 8.109375 \nQ 21.484375 6.890625 26.8125 6.890625 \nQ 36.078125 6.890625 40.9375 10.546875 \nQ 45.796875 14.203125 45.796875 21.1875 \nQ 45.796875 27.640625 41.28125 31.265625 \nQ 36.765625 34.90625 28.71875 34.90625 \nL 20.21875 34.90625 \nL 20.21875 43.015625 \nL 29.109375 43.015625 \nQ 36.375 43.015625 40.234375 45.921875 \nQ 44.09375 48.828125 44.09375 54.296875 \nQ 44.09375 59.90625 40.109375 62.90625 \nQ 36.140625 65.921875 28.71875 65.921875 \nQ 24.65625 65.921875 20.015625 65.03125 \nQ 15.375 64.15625 9.8125 62.3125 \nL 9.8125 71.09375 \nQ 15.4375 72.65625 20.34375 73.4375 \nQ 25.25 74.21875 29.59375 74.21875 \nQ 40.828125 74.21875 47.359375 69.109375 \nQ 53.90625 64.015625 53.90625 55.328125 \nQ 53.90625 49.265625 50.4375 45.09375 \nQ 46.96875 40.921875 40.578125 39.3125 \nz\n\" id=\"DejaVuSans-51\"/>\n      </defs>\n      <g transform=\"translate(237.486364 239.238437)scale(0.1 -0.1)\">\n       <use xlink:href=\"#DejaVuSans-51\"/>\n       <use x=\"63.623047\" xlink:href=\"#DejaVuSans-48\"/>\n       <use x=\"127.246094\" xlink:href=\"#DejaVuSans-48\"/>\n       <use x=\"190.869141\" xlink:href=\"#DejaVuSans-48\"/>\n      </g>\n     </g>\n    </g>\n    <g id=\"xtick_5\">\n     <g id=\"line2d_5\">\n      <g>\n       <use style=\"stroke:#000000;stroke-width:0.8;\" x=\"311.084091\" xlink:href=\"#m8e146d592a\" y=\"224.64\"/>\n      </g>\n     </g>\n     <g id=\"text_5\">\n      <!-- 4000 -->\n      <defs>\n       <path d=\"M 37.796875 64.3125 \nL 12.890625 25.390625 \nL 37.796875 25.390625 \nz\nM 35.203125 72.90625 \nL 47.609375 72.90625 \nL 47.609375 25.390625 \nL 58.015625 25.390625 \nL 58.015625 17.1875 \nL 47.609375 17.1875 \nL 47.609375 0 \nL 37.796875 0 \nL 37.796875 17.1875 \nL 4.890625 17.1875 \nL 4.890625 26.703125 \nz\n\" id=\"DejaVuSans-52\"/>\n      </defs>\n      <g transform=\"translate(298.359091 239.238437)scale(0.1 -0.1)\">\n       <use xlink:href=\"#DejaVuSans-52\"/>\n       <use x=\"63.623047\" xlink:href=\"#DejaVuSans-48\"/>\n       <use x=\"127.246094\" xlink:href=\"#DejaVuSans-48\"/>\n       <use x=\"190.869141\" xlink:href=\"#DejaVuSans-48\"/>\n      </g>\n     </g>\n    </g>\n    <g id=\"xtick_6\">\n     <g id=\"line2d_6\">\n      <g>\n       <use style=\"stroke:#000000;stroke-width:0.8;\" x=\"371.956818\" xlink:href=\"#m8e146d592a\" y=\"224.64\"/>\n      </g>\n     </g>\n     <g id=\"text_6\">\n      <!-- 5000 -->\n      <defs>\n       <path d=\"M 10.796875 72.90625 \nL 49.515625 72.90625 \nL 49.515625 64.59375 \nL 19.828125 64.59375 \nL 19.828125 46.734375 \nQ 21.96875 47.46875 24.109375 47.828125 \nQ 26.265625 48.1875 28.421875 48.1875 \nQ 40.625 48.1875 47.75 41.5 \nQ 54.890625 34.8125 54.890625 23.390625 \nQ 54.890625 11.625 47.5625 5.09375 \nQ 40.234375 -1.421875 26.90625 -1.421875 \nQ 22.3125 -1.421875 17.546875 -0.640625 \nQ 12.796875 0.140625 7.71875 1.703125 \nL 7.71875 11.625 \nQ 12.109375 9.234375 16.796875 8.0625 \nQ 21.484375 6.890625 26.703125 6.890625 \nQ 35.15625 6.890625 40.078125 11.328125 \nQ 45.015625 15.765625 45.015625 23.390625 \nQ 45.015625 31 40.078125 35.4375 \nQ 35.15625 39.890625 26.703125 39.890625 \nQ 22.75 39.890625 18.8125 39.015625 \nQ 14.890625 38.140625 10.796875 36.28125 \nz\n\" id=\"DejaVuSans-53\"/>\n      </defs>\n      <g transform=\"translate(359.231818 239.238437)scale(0.1 -0.1)\">\n       <use xlink:href=\"#DejaVuSans-53\"/>\n       <use x=\"63.623047\" xlink:href=\"#DejaVuSans-48\"/>\n       <use x=\"127.246094\" xlink:href=\"#DejaVuSans-48\"/>\n       <use x=\"190.869141\" xlink:href=\"#DejaVuSans-48\"/>\n      </g>\n     </g>\n    </g>\n   </g>\n   <g id=\"matplotlib.axis_2\">\n    <g id=\"ytick_1\">\n     <g id=\"line2d_7\">\n      <defs>\n       <path d=\"M 0 0 \nL -3.5 0 \n\" id=\"m01678dc311\" style=\"stroke:#000000;stroke-width:0.8;\"/>\n      </defs>\n      <g>\n       <use style=\"stroke:#000000;stroke-width:0.8;\" x=\"52.375\" xlink:href=\"#m01678dc311\" y=\"214.719526\"/>\n      </g>\n     </g>\n     <g id=\"text_7\">\n      <!-- 0 -->\n      <g transform=\"translate(39.0125 218.518745)scale(0.1 -0.1)\">\n       <use xlink:href=\"#DejaVuSans-48\"/>\n      </g>\n     </g>\n    </g>\n    <g id=\"ytick_2\">\n     <g id=\"line2d_8\">\n      <g>\n       <use style=\"stroke:#000000;stroke-width:0.8;\" x=\"52.375\" xlink:href=\"#m01678dc311\" y=\"174.118539\"/>\n      </g>\n     </g>\n     <g id=\"text_8\">\n      <!-- 100000 -->\n      <g transform=\"translate(7.2 177.917758)scale(0.1 -0.1)\">\n       <use xlink:href=\"#DejaVuSans-49\"/>\n       <use x=\"63.623047\" xlink:href=\"#DejaVuSans-48\"/>\n       <use x=\"127.246094\" xlink:href=\"#DejaVuSans-48\"/>\n       <use x=\"190.869141\" xlink:href=\"#DejaVuSans-48\"/>\n       <use x=\"254.492188\" xlink:href=\"#DejaVuSans-48\"/>\n       <use x=\"318.115234\" xlink:href=\"#DejaVuSans-48\"/>\n      </g>\n     </g>\n    </g>\n    <g id=\"ytick_3\">\n     <g id=\"line2d_9\">\n      <g>\n       <use style=\"stroke:#000000;stroke-width:0.8;\" x=\"52.375\" xlink:href=\"#m01678dc311\" y=\"133.517552\"/>\n      </g>\n     </g>\n     <g id=\"text_9\">\n      <!-- 200000 -->\n      <g transform=\"translate(7.2 137.316771)scale(0.1 -0.1)\">\n       <use xlink:href=\"#DejaVuSans-50\"/>\n       <use x=\"63.623047\" xlink:href=\"#DejaVuSans-48\"/>\n       <use x=\"127.246094\" xlink:href=\"#DejaVuSans-48\"/>\n       <use x=\"190.869141\" xlink:href=\"#DejaVuSans-48\"/>\n       <use x=\"254.492188\" xlink:href=\"#DejaVuSans-48\"/>\n       <use x=\"318.115234\" xlink:href=\"#DejaVuSans-48\"/>\n      </g>\n     </g>\n    </g>\n    <g id=\"ytick_4\">\n     <g id=\"line2d_10\">\n      <g>\n       <use style=\"stroke:#000000;stroke-width:0.8;\" x=\"52.375\" xlink:href=\"#m01678dc311\" y=\"92.916565\"/>\n      </g>\n     </g>\n     <g id=\"text_10\">\n      <!-- 300000 -->\n      <g transform=\"translate(7.2 96.715783)scale(0.1 -0.1)\">\n       <use xlink:href=\"#DejaVuSans-51\"/>\n       <use x=\"63.623047\" xlink:href=\"#DejaVuSans-48\"/>\n       <use x=\"127.246094\" xlink:href=\"#DejaVuSans-48\"/>\n       <use x=\"190.869141\" xlink:href=\"#DejaVuSans-48\"/>\n       <use x=\"254.492188\" xlink:href=\"#DejaVuSans-48\"/>\n       <use x=\"318.115234\" xlink:href=\"#DejaVuSans-48\"/>\n      </g>\n     </g>\n    </g>\n    <g id=\"ytick_5\">\n     <g id=\"line2d_11\">\n      <g>\n       <use style=\"stroke:#000000;stroke-width:0.8;\" x=\"52.375\" xlink:href=\"#m01678dc311\" y=\"52.315578\"/>\n      </g>\n     </g>\n     <g id=\"text_11\">\n      <!-- 400000 -->\n      <g transform=\"translate(7.2 56.114796)scale(0.1 -0.1)\">\n       <use xlink:href=\"#DejaVuSans-52\"/>\n       <use x=\"63.623047\" xlink:href=\"#DejaVuSans-48\"/>\n       <use x=\"127.246094\" xlink:href=\"#DejaVuSans-48\"/>\n       <use x=\"190.869141\" xlink:href=\"#DejaVuSans-48\"/>\n       <use x=\"254.492188\" xlink:href=\"#DejaVuSans-48\"/>\n       <use x=\"318.115234\" xlink:href=\"#DejaVuSans-48\"/>\n      </g>\n     </g>\n    </g>\n    <g id=\"ytick_6\">\n     <g id=\"line2d_12\">\n      <g>\n       <use style=\"stroke:#000000;stroke-width:0.8;\" x=\"52.375\" xlink:href=\"#m01678dc311\" y=\"11.714591\"/>\n      </g>\n     </g>\n     <g id=\"text_12\">\n      <!-- 500000 -->\n      <g transform=\"translate(7.2 15.513809)scale(0.1 -0.1)\">\n       <use xlink:href=\"#DejaVuSans-53\"/>\n       <use x=\"63.623047\" xlink:href=\"#DejaVuSans-48\"/>\n       <use x=\"127.246094\" xlink:href=\"#DejaVuSans-48\"/>\n       <use x=\"190.869141\" xlink:href=\"#DejaVuSans-48\"/>\n       <use x=\"254.492188\" xlink:href=\"#DejaVuSans-48\"/>\n       <use x=\"318.115234\" xlink:href=\"#DejaVuSans-48\"/>\n      </g>\n     </g>\n    </g>\n   </g>\n   <g id=\"line2d_13\">\n    <path clip-path=\"url(#p50b9097d51)\" d=\"M 67.593182 214.569762 \nL 82.59981 214.746591 \nL 97.606438 214.701486 \nL 112.613066 214.434446 \nL 127.619694 213.945472 \nL 142.656761 213.232896 \nL 157.693828 212.297484 \nL 172.730896 211.139237 \nL 187.767963 209.758154 \nL 202.83547 208.150762 \nL 217.902976 206.319632 \nL 232.970483 204.264762 \nL 248.068429 201.981325 \nL 263.166376 199.473243 \nL 278.294761 196.734782 \nL 293.453586 193.764578 \nL 308.612411 190.567916 \nL 323.801675 187.137694 \nL 339.021379 183.472543 \nL 354.271522 179.571096 \nL 369.552105 175.431979 \nL 371.956818 174.759648 \nL 371.956818 174.759648 \n\" style=\"fill:none;stroke:#ffa500;stroke-linecap:square;stroke-width:1.5;\"/>\n   </g>\n   <g id=\"patch_3\">\n    <path d=\"M 52.375 224.64 \nL 52.375 7.2 \n\" style=\"fill:none;stroke:#000000;stroke-linecap:square;stroke-linejoin:miter;stroke-width:0.8;\"/>\n   </g>\n   <g id=\"patch_4\">\n    <path d=\"M 387.175 224.64 \nL 387.175 7.2 \n\" style=\"fill:none;stroke:#000000;stroke-linecap:square;stroke-linejoin:miter;stroke-width:0.8;\"/>\n   </g>\n   <g id=\"patch_5\">\n    <path d=\"M 52.375 224.64 \nL 387.175 224.64 \n\" style=\"fill:none;stroke:#000000;stroke-linecap:square;stroke-linejoin:miter;stroke-width:0.8;\"/>\n   </g>\n   <g id=\"patch_6\">\n    <path d=\"M 52.375 7.2 \nL 387.175 7.2 \n\" style=\"fill:none;stroke:#000000;stroke-linecap:square;stroke-linejoin:miter;stroke-width:0.8;\"/>\n   </g>\n  </g>\n </g>\n <defs>\n  <clipPath id=\"p50b9097d51\">\n   <rect height=\"217.44\" width=\"334.8\" x=\"52.375\" y=\"7.2\"/>\n  </clipPath>\n </defs>\n</svg>\n"
          },
          "metadata": {
            "needs_background": "light"
          }
        }
      ]
    },
    {
      "cell_type": "markdown",
      "source": [
        "**Задание 3**"
      ],
      "metadata": {
        "id": "7eCe4zUriLsW"
      }
    },
    {
      "cell_type": "code",
      "source": [
        "data = pd.read_csv('Advertising.csv', index_col=0)\n",
        "\n",
        "data['TV*radio'] = data['TV'] * data['radio']\n",
        "data['log TV'] = np.log(data['TV'])\n",
        "\n",
        "features_0 = ['TV', 'radio',\t'newspaper', 'TV*radio', \t'log TV']\n",
        "features_1 = ['radio', 'TV*radio', \t'log TV']\n",
        "TARGET = 'sales'\n",
        "np.random.seed(1337)\n",
        "model = sm.OLS(data[TARGET], sm.add_constant(data[features_0])).fit() \n",
        "model_s = sm.OLS(data[TARGET], sm.add_constant(data[features_1])).fit()\n",
        "\n",
        "n = len(data)\n",
        "k0 = len(features_0)\n",
        "k1 = len(features_1)\n",
        "\n",
        "rss = (model.resid.values ** 2).sum() \n",
        "rss_s = (model_s.resid.values ** 2).sum()\n",
        "\n",
        "stat = ((rss_s - rss) / (k0 - k1)) / ((rss / (n - k0 - 1)))\n",
        "1 - ss.f(k0 - k1, n - k0 - 1).cdf(stat)"
      ],
      "metadata": {
        "id": "M-I9LSzFiYuT",
        "colab": {
          "base_uri": "https://localhost:8080/"
        },
        "outputId": "922e4e88-6afc-4560-85f9-b933fe38d568"
      },
      "execution_count": 215,
      "outputs": [
        {
          "output_type": "execute_result",
          "data": {
            "text/plain": [
              "0.7546931770236975"
            ]
          },
          "metadata": {},
          "execution_count": 215
        }
      ]
    },
    {
      "cell_type": "markdown",
      "source": [
        "**Задание 4**"
      ],
      "metadata": {
        "id": "qxKQWCWNoWO5"
      }
    },
    {
      "cell_type": "code",
      "source": [
        "data = pd.read_csv('Advertising.csv', index_col=0)\n",
        "\n",
        "data['TV*radio'] = data['TV'] * data['radio']\n",
        "data['log TV'] = np.log(data['TV'])\n",
        "\n",
        "features_0 = ['TV', 'radio',\t'newspaper', 'TV*radio', \t'log TV']\n",
        "features_1 = ['radio', 'TV*radio', \t'log TV']\n",
        "TARGET = 'sales'\n",
        "np.random.seed(1337)\n",
        "model = sm.OLS(data[TARGET], sm.add_constant(data[features_0])).fit() \n",
        "model_s = sm.OLS(data[TARGET], sm.add_constant(data[features_1])).fit()\n",
        "\n",
        "n = len(data)\n",
        "k0 = len(features_0)\n",
        "k1 = len(features_1)\n",
        "\n",
        "rss_star = (model.resid.values ** 2).sum() \n",
        "rss_s_star = (model_s.resid.values ** 2).sum()\n",
        "delta_star = rss_s_star - rss_star\n",
        "\n",
        "e = model_s.resid.values\n",
        "\n",
        "N = 1000\n",
        "n = len(e)\n",
        "ide = np.random.choice(n, size = (N, n))\n",
        "e_b = e[ide]\n",
        "\n",
        "xbeta = model_s.fittedvalues.values\n",
        "\n",
        "y_b = np.array([xbeta for i in range(N)]) + e_b\n",
        "\n",
        "delta = []\n",
        "for y in y_b:\n",
        "  rss = (sm.OLS(y, sm.add_constant(data[features_0])).fit().resid.values ** 2).sum()\n",
        "  rss_s = (sm.OLS(y, sm.add_constant(data[features_1])).fit().resid.values ** 2).sum()\n",
        "  delta.append(rss_s - rss)\n",
        "\n",
        "delta = np.array(delta)\n",
        "(delta > delta_star).mean()"
      ],
      "metadata": {
        "colab": {
          "base_uri": "https://localhost:8080/"
        },
        "id": "qwiWjHqQoaJf",
        "outputId": "ac430838-a5f3-43a2-c2d9-112c24006393"
      },
      "execution_count": 214,
      "outputs": [
        {
          "output_type": "execute_result",
          "data": {
            "text/plain": [
              "0.738"
            ]
          },
          "metadata": {},
          "execution_count": 214
        }
      ]
    },
    {
      "cell_type": "markdown",
      "source": [
        "**Задание 5**"
      ],
      "metadata": {
        "id": "TfPN9qAHu999"
      }
    },
    {
      "cell_type": "code",
      "source": [
        "data = pd.read_csv('Fish.csv')\n",
        "\n",
        "np.random.seed(1337)\n",
        "features = ['Length1', 'Height','Width']\n",
        "TARGET = 'Weight'\n",
        "data = data[data[TARGET] != 0]\n",
        "model = sm.OLS(np.log(data[TARGET]), sm.add_constant(np.log(data[features]))).fit() \n",
        "\n",
        "X = np.array(sm.add_constant(np.log(data[features])))\n",
        "\n",
        "XTX_inv = np.linalg.inv(X.T @ X)\n",
        "h = X @ XTX_inv @ X.T\n",
        "\n",
        "print(*(np.arange(len(X))[np.diagonal(h) > 3 * np.diagonal(h).mean()] \n",
        "        + (np.arange(len(X))[np.diagonal(h) > 3 * np.diagonal(h).mean()] > 39)))\n",
        "\n",
        "n = len(X)\n",
        "k = 3\n",
        "sigma_hat = np.sqrt((model.resid.values ** 2).sum() / (n - k - 1))\n",
        "e_student = model.resid.values / (sigma_hat * np.sqrt(1 - np.diagonal(h)))\n",
        "\n",
        "print(*np.arange(n)[abs(e_student) > 3])"
      ],
      "metadata": {
        "colab": {
          "base_uri": "https://localhost:8080/"
        },
        "id": "n1mOgirYvB_v",
        "outputId": "a090e187-e0a4-41ec-81b1-d7d5a3ea1d95"
      },
      "execution_count": 212,
      "outputs": [
        {
          "output_type": "stream",
          "name": "stdout",
          "text": [
            "72 142 143\n",
            "13\n"
          ]
        }
      ]
    }
  ],
  "metadata": {
    "colab": {
      "provenance": []
    },
    "kernelspec": {
      "display_name": "Python 3",
      "name": "python3"
    },
    "language_info": {
      "name": "python"
    }
  },
  "nbformat": 4,
  "nbformat_minor": 0
}