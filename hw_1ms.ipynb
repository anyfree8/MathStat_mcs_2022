{
  "nbformat": 4,
  "nbformat_minor": 0,
  "metadata": {
    "colab": {
      "provenance": []
    },
    "kernelspec": {
      "name": "python3",
      "display_name": "Python 3"
    },
    "language_info": {
      "name": "python"
    }
  },
  "cells": [
    {
      "cell_type": "code",
      "execution_count": null,
      "metadata": {
        "id": "7DvKN18aMbtv"
      },
      "outputs": [],
      "source": [
        "import numpy as np\n",
        "import scipy.stats as ss"
      ]
    },
    {
      "cell_type": "code",
      "source": [
        "n = 100000\n",
        "sample = generate(n)\n",
        "print(np.median(abs(sample)))"
      ],
      "metadata": {
        "id": "iz5o2ktkMMYn"
      },
      "execution_count": null,
      "outputs": []
    },
    {
      "cell_type": "code",
      "source": [
        "n = 10000\n",
        "mu = 0\n",
        "sample = ss.norm(loc = mu, scale = 1).rvs(size = [n, 10], random_state = 1337)\n",
        "phi_1 = sample.mean(axis=1)\n",
        "phi_2 = np.median(sample, axis =1)\n",
        "a = ((phi_1 - mu) ** 2).mean() ** 0.5\n",
        "b = ((phi_2 - mu) ** 2).mean() ** 0.5\n",
        "print(a, b)"
      ],
      "metadata": {
        "colab": {
          "base_uri": "https://localhost:8080/"
        },
        "id": "SBy6z1UuF0gD",
        "outputId": "e4f9a859-6f0a-4443-dd77-2b5cddac83cd"
      },
      "execution_count": null,
      "outputs": [
        {
          "output_type": "stream",
          "name": "stdout",
          "text": [
            "0.31687669135118446 0.37380806114719356\n"
          ]
        }
      ]
    },
    {
      "cell_type": "code",
      "source": [
        "some = ss.rv_discrete(\n",
        "    name='bone', \n",
        "    values=([1, 2, 3, 4, 5, 6], [1/6] * 6) \n",
        ")\n",
        "\n",
        "n = 10000000\n",
        "sample = some.rvs(size = [n, 6], random_state = 1337)\n",
        "sample_ = sample.sum(axis=1)\n",
        "print((sample_ == 21).mean())"
      ],
      "metadata": {
        "colab": {
          "base_uri": "https://localhost:8080/"
        },
        "id": "Qiv9VSrEHhTU",
        "outputId": "9bf6f138-f83b-4b1c-d27d-65aad4c0430d"
      },
      "execution_count": null,
      "outputs": [
        {
          "output_type": "stream",
          "name": "stdout",
          "text": [
            "0.0928229\n"
          ]
        }
      ]
    },
    {
      "cell_type": "code",
      "source": [
        "n = 10000\n",
        "sample = generate(n)\n",
        "p_0 = len(sample[sample == 0])/n\n",
        "print(2*(0.6 - p_0))"
      ],
      "metadata": {
        "id": "JgIx3SmTMNlw"
      },
      "execution_count": null,
      "outputs": []
    },
    {
      "cell_type": "code",
      "source": [
        "n = 10000\n",
        "sample = generate(n)\n",
        "\n",
        "p_02 = 0\n",
        "p_20 = 0\n",
        "\n",
        "for i in range(n - 1):\n",
        "    if sample[i] == 0 and sample[i+1] == 2:\n",
        "        p_02 += 1\n",
        "    if sample[i] == 2 and sample[i+1] == 0:\n",
        "        p_20 += 1\n",
        "        \n",
        "p_02 = p_02 / (n - 1)\n",
        "p_20 = p_20/ (n - 1)\n",
        "\n",
        "p_0 = len(sample[sample == 0])/n\n",
        "d = 2*(0.6 - p_0)\n",
        "s = 1 - d\n",
        "\n",
        "A = np.array([[d * 0.1 * 0.1, s * 0.6 * 0.5, d * 0.1 * 0.5, s * 0.6 * 0.1],\n",
        "              [d * 0.5 * 0.6, s * 0.1 * 0.1, d * 0.5 * 0.1, s * 0.1 * 0.6],\n",
        "              [1, 0, 1, 0],\n",
        "              [0, 1, 0, 1]])\n",
        "\n",
        "u = np.array([p_02, p_20, 1, 1])\n",
        "\n",
        "p, q, _, _= np.linalg.solve(A,u)\n",
        "print(p, q)"
      ],
      "metadata": {
        "id": "RhEDdjZGbaQH"
      },
      "execution_count": null,
      "outputs": []
    }
  ]
}