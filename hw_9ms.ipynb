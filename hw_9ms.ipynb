{
  "nbformat": 4,
  "nbformat_minor": 0,
  "metadata": {
    "colab": {
      "provenance": [],
      "collapsed_sections": []
    },
    "kernelspec": {
      "name": "python3",
      "display_name": "Python 3"
    },
    "language_info": {
      "name": "python"
    }
  },
  "cells": [
    {
      "cell_type": "code",
      "execution_count": 2,
      "metadata": {
        "colab": {
          "base_uri": "https://localhost:8080/"
        },
        "id": "ulm9pxu_xsNB",
        "outputId": "eacad97d-b9bd-47af-f9d8-1010fef19d2b"
      },
      "outputs": [
        {
          "output_type": "stream",
          "name": "stdout",
          "text": [
            "Looking in indexes: https://pypi.org/simple, https://us-python.pkg.dev/colab-wheels/public/simple/\n",
            "Collecting matplotlib_inline\n",
            "  Downloading matplotlib_inline-0.1.6-py3-none-any.whl (9.4 kB)\n",
            "Requirement already satisfied: traitlets in /usr/local/lib/python3.7/dist-packages (from matplotlib_inline) (5.1.1)\n",
            "Installing collected packages: matplotlib-inline\n",
            "Successfully installed matplotlib-inline-0.1.6\n"
          ]
        }
      ],
      "source": [
        "!pip install matplotlib_inline"
      ]
    },
    {
      "cell_type": "code",
      "source": [
        "import numpy as np\n",
        "import matplotlib\n",
        "from matplotlib import pyplot as plt\n",
        "from matplotlib_inline.backend_inline import set_matplotlib_formats\n",
        "set_matplotlib_formats('svg')\n",
        "import scipy.stats as ss\n",
        "from scipy import optimize\n",
        "from scipy.optimize import minimize, LinearConstraint, NonlinearConstraint\n",
        "import pandas as pd\n",
        "from scipy.integrate import quad\n",
        "from itertools import product"
      ],
      "metadata": {
        "id": "ugSvX2V1xuVl"
      },
      "execution_count": 3,
      "outputs": []
    },
    {
      "cell_type": "markdown",
      "source": [
        "**Задание 1**"
      ],
      "metadata": {
        "id": "O-bjTRiSPGiU"
      }
    },
    {
      "cell_type": "markdown",
      "source": [
        "\n",
        "На лекции мы уже проводили те же самые вычисления и получали:\n",
        "\n",
        "$$ n \\geq \\frac{11.2^2\\sigma^2}{\\delta_i^2} = \\frac{16 \\cdot 2.8^2 \\sigma^2}{\\delta_i^2}$$\n",
        "\n",
        "Правда, мы грубо оценили \n",
        "$ss.norm().ppf(0.975) - ss.norm().ppf(0.2) \\approx 2.8$\n",
        "\n",
        "Можно посчитать точнее:"
      ],
      "metadata": {
        "id": "YgCqs8BfeMFj"
      }
    },
    {
      "cell_type": "code",
      "source": [
        "# ss.norm().ppf(0.975) - ss.norm().ppf(0.2) = 2.8015852181129683\n",
        "\n",
        "print(\"n >=\", 16 * (ss.norm().ppf(0.975) - ss.norm().ppf(0.2)) ** 2  * 10, '=> n >= ', np.ceil( 16 * (ss.norm().ppf(0.975) - ss.norm().ppf(0.2)) ** 2  * 10))"
      ],
      "metadata": {
        "colab": {
          "base_uri": "https://localhost:8080/"
        },
        "id": "6V8cPmGLOVcf",
        "outputId": "c2978c32-322e-4c5f-c122-adc02e29fd9d"
      },
      "execution_count": 19,
      "outputs": [
        {
          "output_type": "stream",
          "name": "stdout",
          "text": [
            "n >= 1255.8207574958542 => n >=  1256.0\n"
          ]
        }
      ]
    },
    {
      "cell_type": "markdown",
      "source": [
        "**Задание 2**"
      ],
      "metadata": {
        "id": "2kPH7aAEgBMh"
      }
    },
    {
      "cell_type": "code",
      "source": [
        "data = pd.read_csv('test.csv')\n",
        "\n",
        "G = {}\n",
        "for i in ['control', 'test']:\n",
        "  for j in ['yes', 'no']:\n",
        "    G[(i,j)] = np.array(data[(data['group'] == i) & (data['smoker'] == j)]['effect'])\n",
        "\n",
        "x_a = G['control', 'yes'] - G['control', 'no']\n",
        "x_b = G['test', 'yes'] - G['test', 'no']\n",
        "\n",
        "alpha = 0.05\n",
        "z = ss.norm().ppf(1 - alpha/2)\n",
        "n = len(data)\n",
        "d = 4 * np.sqrt(10 / n)\n",
        "(x_b.mean() - x_a.mean()) + d * np.array([-z, z])"
      ],
      "metadata": {
        "colab": {
          "base_uri": "https://localhost:8080/"
        },
        "id": "QJmXnSeNh9c8",
        "outputId": "2de51a94-e043-498a-8cb3-aea01a4cc37e"
      },
      "execution_count": 29,
      "outputs": [
        {
          "output_type": "execute_result",
          "data": {
            "text/plain": [
              "array([0.19320119, 1.30192425])"
            ]
          },
          "metadata": {},
          "execution_count": 29
        }
      ]
    },
    {
      "cell_type": "markdown",
      "source": [
        "**Задание 3**"
      ],
      "metadata": {
        "id": "0QluHkjHoXAN"
      }
    },
    {
      "cell_type": "code",
      "source": [
        "table = {(0, 0, 0): 0,\n",
        " (0, 0, 1): 0,\n",
        " (0, 0, 2): 0,\n",
        " (0, 0, 3): 0,\n",
        " (0, 0, 5): 0,\n",
        " (0, 0, 6): 2,\n",
        " (0, 0, 7): 0,\n",
        " (0, 1, 1): 0,\n",
        " (0, 1, 2): 0,\n",
        " (0, 1, 3): 0,\n",
        " (0, 1, 5): 0,\n",
        " (0, 1, 6): 2,\n",
        " (0, 1, 7): 0,\n",
        " (0, 2, 2): 0,\n",
        " (0, 2, 3): 0,\n",
        " (0, 2, 5): 0,\n",
        " (0, 2, 6): 2,\n",
        " (0, 2, 7): 0,\n",
        " (0, 3, 3): 0,\n",
        " (0, 3, 5): 0,\n",
        " (0, 3, 6): 2,\n",
        " (0, 3, 7): 0,\n",
        " (0, 5, 5): 0,\n",
        " (0, 5, 6): 10,\n",
        " (0, 5, 7): 0,\n",
        " (0, 6, 6): 5,\n",
        " (0, 6, 7): 2,\n",
        " (0, 7, 7): 0,\n",
        " (1, 1, 1): 10,\n",
        " (1, 1, 2): 5,\n",
        " (1, 1, 3): 5,\n",
        " (1, 1, 5): 20,\n",
        " (1, 1, 6): 2,\n",
        " (1, 1, 7): 0,\n",
        " (1, 2, 2): 5,\n",
        " (1, 2, 3): 5,\n",
        " (1, 2, 5): 10,\n",
        " (1, 2, 6): 2,\n",
        " (1, 2, 7): 0,\n",
        " (1, 3, 3): 5,\n",
        " (1, 3, 5): 10,\n",
        " (1, 3, 6): 2,\n",
        " (1, 3, 7): 0,\n",
        " (1, 5, 5): 40,\n",
        " (1, 5, 6): 10,\n",
        " (1, 5, 7): 0,\n",
        " (1, 6, 6): 5,\n",
        " (1, 6, 7): 2,\n",
        " (1, 7, 7): 0,\n",
        " (2, 2, 2): 25,\n",
        " (2, 2, 3): 5,\n",
        " (2, 2, 5): 50,\n",
        " (2, 2, 6): 2,\n",
        " (2, 2, 7): 0,\n",
        " (2, 3, 3): 5,\n",
        " (2, 3, 5): 10,\n",
        " (2, 3, 6): 2,\n",
        " (2, 3, 7): 0,\n",
        " (2, 5, 5): 100,\n",
        " (2, 5, 6): 10,\n",
        " (2, 5, 7): 0,\n",
        " (2, 6, 6): 5,\n",
        " (2, 6, 7): 2,\n",
        " (2, 7, 7): 0,\n",
        " (3, 3, 3): 40,\n",
        " (3, 3, 5): 80,\n",
        " (3, 3, 6): 2,\n",
        " (3, 3, 7): 0,\n",
        " (3, 5, 5): 160,\n",
        " (3, 5, 6): 10,\n",
        " (3, 5, 7): 0,\n",
        " (3, 6, 6): 5,\n",
        " (3, 6, 7): 2,\n",
        " (3, 7, 7): 0,\n",
        " (5, 5, 5): 1000,\n",
        " (5, 5, 6): 40,\n",
        " (5, 5, 7): 320,\n",
        " (5, 6, 6): 20,\n",
        " (5, 6, 7): 10,\n",
        " (5, 7, 7): 160,\n",
        " (6, 6, 6): 10,\n",
        " (6, 6, 7): 5,\n",
        " (6, 7, 7): 2,\n",
        " (7, 7, 7): 80}\n",
        "\n",
        "with open('slot_138 .txt', 'r') as file:\n",
        "    data = []\n",
        "    for row in file.readlines():\n",
        "        data += list(map(int, row.strip().split()))\n",
        "\n",
        "vals, counts = np.unique(data, return_counts=True)\n",
        "n = counts.sum()\n",
        "\n",
        "\n",
        "def likely_hood(theta):\n",
        "    return - (np.log(theta) * counts).sum()\n",
        "\n",
        "sum_equal_one = LinearConstraint(np.ones(7), 1, 1)\n",
        "\n",
        "M = np.array([table[tuple(sorted(x))] for x in product([0, 1, 2, 3, 5, 6, 7], repeat=3)]).reshape((7, 7, 7))\n",
        "def make_mean(p):\n",
        "    P = p[:, None, None] * p[None, :, None] * p[None, None, :]\n",
        "    return (M * P).sum()\n",
        "\n",
        "mean_is_fixed = NonlinearConstraint(make_mean, 0.92, 0.92)\n",
        "\n",
        "bounds=[(0.000001, 0.999999999) for _ in range(7)]\n",
        "theta0 = np.ones(7)/7\n",
        "\n",
        "res = minimize(likely_hood, x0=theta0, bounds=bounds, constraints=[sum_equal_one, mean_is_fixed])\n",
        "theta_star = res.x\n",
        "\n",
        "ss.chisquare(counts, n * theta_star, ddof=5).pvalue"
      ],
      "metadata": {
        "colab": {
          "base_uri": "https://localhost:8080/"
        },
        "id": "DnblXp2Arm_9",
        "outputId": "be6bcd13-72f6-41d5-b43a-a9d88f6c501c"
      },
      "execution_count": 24,
      "outputs": [
        {
          "output_type": "execute_result",
          "data": {
            "text/plain": [
              "0.2844672940009947"
            ]
          },
          "metadata": {},
          "execution_count": 24
        }
      ]
    },
    {
      "cell_type": "markdown",
      "source": [
        "**Задача 4**"
      ],
      "metadata": {
        "id": "uPAXByCUy5J8"
      }
    },
    {
      "cell_type": "code",
      "source": [
        "data = pd.read_csv('view_proxy_randomization.csv')\n",
        "vals, counts = np.unique(data['category'], return_counts=True)\n",
        "n = counts.sum()\n",
        "ss.chisquare(counts, n * np.ones(11) / 11, ddof=0).pvalue"
      ],
      "metadata": {
        "colab": {
          "base_uri": "https://localhost:8080/"
        },
        "id": "clvjToQ41f7f",
        "outputId": "a5e4b673-b15b-45f8-894f-d602f6a3e7ac"
      },
      "execution_count": 25,
      "outputs": [
        {
          "output_type": "execute_result",
          "data": {
            "text/plain": [
              "0.36595976450243883"
            ]
          },
          "metadata": {},
          "execution_count": 25
        }
      ]
    },
    {
      "cell_type": "markdown",
      "source": [
        "**Задача 5**"
      ],
      "metadata": {
        "id": "1gdAB4Dr_H5O"
      }
    },
    {
      "cell_type": "code",
      "source": [
        "ss.ttest_ind(data[data['category'] == 5]['VIEW'], data[data['category'] == 10]['VIEW'], equal_var=False).statistic"
      ],
      "metadata": {
        "colab": {
          "base_uri": "https://localhost:8080/"
        },
        "id": "zniAeeXI_clM",
        "outputId": "2542e44d-eec5-4b72-b01b-34187a65afd5"
      },
      "execution_count": 26,
      "outputs": [
        {
          "output_type": "execute_result",
          "data": {
            "text/plain": [
              "4.199979869026695"
            ]
          },
          "metadata": {},
          "execution_count": 26
        }
      ]
    }
  ]
}