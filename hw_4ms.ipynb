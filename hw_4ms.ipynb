{
  "nbformat": 4,
  "nbformat_minor": 0,
  "metadata": {
    "colab": {
      "provenance": [],
      "collapsed_sections": []
    },
    "kernelspec": {
      "name": "python3",
      "display_name": "Python 3"
    },
    "language_info": {
      "name": "python"
    }
  },
  "cells": [
    {
      "cell_type": "code",
      "execution_count": 1,
      "metadata": {
        "colab": {
          "base_uri": "https://localhost:8080/"
        },
        "id": "N-mYob9UHvhZ",
        "outputId": "79d3eb2d-cd1d-485b-f0bf-752cae5815b6"
      },
      "outputs": [
        {
          "output_type": "stream",
          "name": "stdout",
          "text": [
            "Looking in indexes: https://pypi.org/simple, https://us-python.pkg.dev/colab-wheels/public/simple/\n",
            "Collecting matplotlib_inline\n",
            "  Downloading matplotlib_inline-0.1.6-py3-none-any.whl (9.4 kB)\n",
            "Requirement already satisfied: traitlets in /usr/local/lib/python3.7/dist-packages (from matplotlib_inline) (5.1.1)\n",
            "Installing collected packages: matplotlib-inline\n",
            "Successfully installed matplotlib-inline-0.1.6\n"
          ]
        }
      ],
      "source": [
        "!pip install matplotlib_inline"
      ]
    },
    {
      "cell_type": "code",
      "source": [
        "import numpy as np\n",
        "import matplotlib\n",
        "from matplotlib import pyplot as plt\n",
        "from matplotlib_inline.backend_inline import set_matplotlib_formats\n",
        "set_matplotlib_formats('svg')\n",
        "import scipy.stats as ss\n",
        "from scipy import optimize\n",
        "from scipy.optimize import minimize, LinearConstraint, NonlinearConstraint\n",
        "import pandas as pd"
      ],
      "metadata": {
        "id": "c7JRKPiOH03a"
      },
      "execution_count": 119,
      "outputs": []
    },
    {
      "cell_type": "markdown",
      "source": [
        "**Задача 1**\n"
      ],
      "metadata": {
        "id": "DS-SgTq0joRY"
      }
    },
    {
      "cell_type": "code",
      "source": [
        "data = np.array([(576, 3.39), (635, 3.30), (558, 2.81), (578, 3.03), (666, 3.44),\n",
        "                 (580, 3.07), (555, 3.0), (661, 3.43), (651, 3.36), (605, 3.13),\n",
        "                 (653, 3.12), (575, 2.74), (545, 2.76), (572, 2.88), (594, 2.96)])\n",
        "\n",
        "# g(p*,p) = \\sqrt(n)(p* - p) / (1 - p^2)\n",
        "\n",
        "\n",
        "p_star = np.corrcoef(data.T)[0,1]\n",
        "alpha = 0.95\n",
        "z_L = ss.norm().ppf((1-alpha)/2)\n",
        "z_R = ss.norm().ppf((1+alpha)/2)\n",
        "n = len(data)\n",
        "\n",
        "def g(p):\n",
        "  return np.sqrt(n) * (p_star - p) / (1 - p**2)\n",
        "\n",
        "solution_R = optimize.root_scalar(lambda p: g(p) - z_L, bracket = [-0.999, 0.999])\n",
        "solution_L = optimize.root_scalar(lambda p: g(p) - z_R, bracket = [-0.999, 0.999])\n",
        "\n",
        "solution_L.root, solution_R.root"
      ],
      "metadata": {
        "colab": {
          "base_uri": "https://localhost:8080/"
        },
        "id": "lxhyKbD1H247",
        "outputId": "d48cdd75-b905-4201-ae95-428dc2f62c7a"
      },
      "execution_count": 118,
      "outputs": [
        {
          "output_type": "execute_result",
          "data": {
            "text/plain": [
              "(0.3231645687328118, 0.8855673805132537)"
            ]
          },
          "metadata": {},
          "execution_count": 118
        }
      ]
    },
    {
      "cell_type": "markdown",
      "source": [
        "**Задача 2**"
      ],
      "metadata": {
        "id": "_0JBtxfMj6UC"
      }
    },
    {
      "cell_type": "code",
      "source": [
        "with open('casino.txt', 'r') as file:\n",
        "    data = []\n",
        "    for row in file.readlines():\n",
        "        data.append(list(map(int, row.strip().split())))\n",
        "\n",
        "\n",
        "def fun(x):\n",
        "    p_win, p_go_after_win, p_go_after_lose = x\n",
        "    p_lose = 1 - p_win\n",
        "    res = 0\n",
        "    for d in data:\n",
        "      d_ = np.array(d)\n",
        "      ones = d_[:-1].sum()\n",
        "      zeros = (d_[:-1] == 0).sum()\n",
        "      res_ = ones * np.log(p_win * (1 - p_go_after_win)) + zeros * np.log(p_lose * (1 - p_go_after_lose))\n",
        "      if d[-1] == 1:\n",
        "        res_ += np.log(p_win * p_go_after_win)\n",
        "      else:\n",
        "        res_ += np.log(p_lose * p_go_after_lose)\n",
        "\n",
        "      res += res_\n",
        "\n",
        "    return -res\n",
        "\n",
        "bounds=[(0.0001, .999999) for _ in range(3)]\n",
        "\n",
        "res = minimize(fun, x0=np.array([1/2,1/2,1/2]), bounds=bounds)\n",
        "res.x"
      ],
      "metadata": {
        "colab": {
          "base_uri": "https://localhost:8080/"
        },
        "id": "SlnHuCSaX7BG",
        "outputId": "3ccfb932-34c7-4b8e-9369-1dcb94bdfda5"
      },
      "execution_count": 120,
      "outputs": [
        {
          "output_type": "execute_result",
          "data": {
            "text/plain": [
              "array([0.48417593, 0.34059625, 0.75672812])"
            ]
          },
          "metadata": {},
          "execution_count": 120
        }
      ]
    },
    {
      "cell_type": "markdown",
      "source": [
        "**Задача 3**"
      ],
      "metadata": {
        "id": "OiY34AzOkXI6"
      }
    },
    {
      "cell_type": "code",
      "source": [
        "with open('casino.txt', 'r') as file:\n",
        "    data = []\n",
        "    for row in file.readlines():\n",
        "        data.append(list(map(int, row.strip().split())))\n",
        "\n",
        "np.random.seed(7)\n",
        "\n",
        "def f(x, data):\n",
        "    p_win, p_go_after_win, p_go_after_lose = x\n",
        "    p_lose = 1 - p_win\n",
        "    res = 0\n",
        "    for d in data:\n",
        "      d_ = np.array(d)\n",
        "      ones = d_[:-1].sum()\n",
        "      zeros = (d_[:-1] == 0).sum()\n",
        "      res_ = ones * np.log(p_win * (1 - p_go_after_win)) + zeros * np.log(p_lose * (1 - p_go_after_lose))\n",
        "      if d[-1] == 1:\n",
        "        res_ += np.log(p_win * p_go_after_win)\n",
        "      else:\n",
        "        res_ += np.log(p_lose * p_go_after_lose)\n",
        "\n",
        "      res += res_\n",
        "\n",
        "    return -res\n",
        "\n",
        "\n",
        "data = np.array(data, dtype=object)\n",
        "bounds=[(0.0001, .999999) for _ in range(3)]\n",
        "\n",
        "N = 100\n",
        "n = 1000\n",
        "idx = np.random.choice(n, size = (N, n))\n",
        "Data = data[idx]\n",
        "\n",
        "phi_b = []\n",
        "for my_data in Data:\n",
        "  res = minimize(lambda x: f(x, my_data), x0=np.array([1/2,1/2,1/2]), bounds=bounds)\n",
        "  phi_b.append(res.x[2] - res.x[1])\n",
        "\n",
        "phi_b = np.array(phi_b)\n",
        "alpha = 0.95\n",
        "np.quantile(phi_b, (1 - alpha) / 2), np.quantile(phi_b, (1 + alpha) / 2)\n"
      ],
      "metadata": {
        "colab": {
          "base_uri": "https://localhost:8080/"
        },
        "id": "doTNXco9k-pj",
        "outputId": "4ee2576e-ada0-46f3-cc81-5a406c77d455"
      },
      "execution_count": 122,
      "outputs": [
        {
          "output_type": "execute_result",
          "data": {
            "text/plain": [
              "(0.37850622188741634, 0.45990550288201604)"
            ]
          },
          "metadata": {},
          "execution_count": 122
        }
      ]
    },
    {
      "cell_type": "markdown",
      "source": [
        "**Задача 4**"
      ],
      "metadata": {
        "id": "TB_ske1PlQHl"
      }
    },
    {
      "cell_type": "code",
      "source": [
        "# D_X = 24\\epsilon + 1\n",
        "# 4p(0)^2 = 4(1 - (4/5)\\epsilon)^2(1/2pi)\n",
        "\n",
        "def relation(e):\n",
        "  return (2/np.pi) * (24* e + 1) * (1 - 4 * e / 5) ** 2 - 1\n",
        "\n",
        "\n",
        "solution = optimize.root_scalar(relation, bracket = [-1, 1/2])\n",
        "solution.root"
      ],
      "metadata": {
        "colab": {
          "base_uri": "https://localhost:8080/"
        },
        "id": "9CeeL_W4ya6C",
        "outputId": "75de7c37-0b7c-4ead-f0e1-c5163826b5d8"
      },
      "execution_count": 123,
      "outputs": [
        {
          "output_type": "execute_result",
          "data": {
            "text/plain": [
              "0.02666780668662032"
            ]
          },
          "metadata": {},
          "execution_count": 123
        }
      ]
    },
    {
      "cell_type": "markdown",
      "source": [
        "**Задача 5**"
      ],
      "metadata": {
        "id": "B53EZdPsmTPK"
      }
    },
    {
      "cell_type": "code",
      "source": [
        "np.random.seed(42)\n",
        "\n",
        "data =pd.read_csv('Advertising.csv')\n",
        "data = data[[\"TV\",\"sales\"]]\n",
        "data = data.to_numpy()\n",
        "N = 10000\n",
        "n = 200\n",
        "idx = np.random.choice(n, size = (N, n))\n",
        "samples = data[idx]\n",
        "\n",
        "def L_2(x, data):\n",
        "  c, b = x\n",
        "  tv = data.T[0]\n",
        "  sales = data.T[1]\n",
        "  return ((sales - b * tv - c)**2).sum()\n",
        "\n",
        "phi_b = []\n",
        "bounds = [(None, None) for _ in range(2)]\n",
        "\n",
        "for my_data in samples:\n",
        "  res = minimize(lambda x: L_2(x, my_data), x0=np.zeros(2), bounds=bounds)\n",
        "  phi_b.append(np.array([res.x[0], res.x[1]]))\n",
        "\n",
        "phi_b = np.array(phi_b)\n",
        "np.corrcoef(phi_b.T)[0,1]"
      ],
      "metadata": {
        "colab": {
          "base_uri": "https://localhost:8080/"
        },
        "id": "2YH9JbZB79IX",
        "outputId": "53566f62-a7a2-4f2e-e88e-904fc3e95336"
      },
      "execution_count": 127,
      "outputs": [
        {
          "output_type": "execute_result",
          "data": {
            "text/plain": [
              "-0.8424340179959471"
            ]
          },
          "metadata": {},
          "execution_count": 127
        }
      ]
    },
    {
      "cell_type": "code",
      "source": [],
      "metadata": {
        "id": "u4MIg2GhBPLD"
      },
      "execution_count": null,
      "outputs": []
    }
  ]
}