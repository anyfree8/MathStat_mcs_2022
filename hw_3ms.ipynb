{
 "cells": [
  {
   "cell_type": "code",
   "execution_count": 195,
   "metadata": {
    "colab": {
     "base_uri": "https://localhost:8080/"
    },
    "id": "7V_TZ9neX5Bf",
    "outputId": "3f50d54f-e48a-4aaf-e76c-14c066af2611"
   },
   "outputs": [
    {
     "name": "stdout",
     "output_type": "stream",
     "text": [
      "Requirement already satisfied: matplotlib_inline in c:\\users\\user\\appdata\\local\\programs\\python\\python39\\lib\\site-packages (0.1.2)\n",
      "Requirement already satisfied: traitlets in c:\\users\\user\\appdata\\local\\programs\\python\\python39\\lib\\site-packages (from matplotlib_inline) (5.0.5)\n",
      "Requirement already satisfied: ipython-genutils in c:\\users\\user\\appdata\\local\\programs\\python\\python39\\lib\\site-packages (from traitlets->matplotlib_inline) (0.2.0)\n"
     ]
    }
   ],
   "source": [
    "!pip install matplotlib_inline"
   ]
  },
  {
   "cell_type": "code",
   "execution_count": 207,
   "metadata": {
    "id": "7XLaX962YNn1"
   },
   "outputs": [],
   "source": [
    "import numpy as np\n",
    "import matplotlib\n",
    "from matplotlib import pyplot as plt\n",
    "from matplotlib_inline.backend_inline import set_matplotlib_formats\n",
    "set_matplotlib_formats('svg')\n",
    "import scipy.stats as ss\n",
    "np.random.seed(7)"
   ]
  },
  {
   "cell_type": "markdown",
   "metadata": {},
   "source": [
    " Задача 1 "
   ]
  },
  {
   "cell_type": "code",
   "execution_count": 208,
   "metadata": {
    "colab": {
     "base_uri": "https://localhost:8080/"
    },
    "id": "LEsuu_f_jlTR",
    "outputId": "1f766fbd-e5e2-4887-b13f-107cc1794f5d"
   },
   "outputs": [
    {
     "data": {
      "text/plain": [
       "(0.4597371138790396, 0.961839574727155)"
      ]
     },
     "execution_count": 208,
     "metadata": {},
     "output_type": "execute_result"
    }
   ],
   "source": [
    "data = np.array([(576, 3.39), (635, 3.30), (558, 2.81), (578, 3.03), (666, 3.44),\n",
    "                 (580, 3.07), (555, 3.0), (661, 3.43), (651, 3.36), (605, 3.13),\n",
    "                 (653, 3.12), (575, 2.74), (545, 2.76), (572, 2.88), (594, 2.96)])\n",
    "n = len(data)\n",
    "\n",
    "N = 100000\n",
    "idx = np.random.choice(n, size = (N, n))\n",
    "samples = data[idx]\n",
    "\n",
    "phi_b = np.array([np.corrcoef(data.T)[0,1] for data in samples])\n",
    "alpha = 0.95\n",
    "np.quantile(phi_b, (1 - alpha) / 2), np.quantile(phi_b, (1 + alpha) / 2)\n"
   ]
  },
  {
   "cell_type": "markdown",
   "metadata": {},
   "source": [
    "Задача 2"
   ]
  },
  {
   "cell_type": "code",
   "execution_count": 218,
   "metadata": {},
   "outputs": [
    {
     "data": {
      "text/plain": [
       "0.10781700181600448"
      ]
     },
     "execution_count": 218,
     "metadata": {},
     "output_type": "execute_result"
    }
   ],
   "source": [
    "table = {(0, 0, 0): 0,\n",
    " (0, 0, 1): 0,\n",
    " (0, 0, 2): 0,\n",
    " (0, 0, 3): 0,\n",
    " (0, 0, 5): 0,\n",
    " (0, 0, 6): 2,\n",
    " (0, 0, 7): 0,\n",
    " (0, 1, 1): 0,\n",
    " (0, 1, 2): 0,\n",
    " (0, 1, 3): 0,\n",
    " (0, 1, 5): 0,\n",
    " (0, 1, 6): 2,\n",
    " (0, 1, 7): 0,\n",
    " (0, 2, 2): 0,\n",
    " (0, 2, 3): 0,\n",
    " (0, 2, 5): 0,\n",
    " (0, 2, 6): 2,\n",
    " (0, 2, 7): 0,\n",
    " (0, 3, 3): 0,\n",
    " (0, 3, 5): 0,\n",
    " (0, 3, 6): 2,\n",
    " (0, 3, 7): 0,\n",
    " (0, 5, 5): 0,\n",
    " (0, 5, 6): 10,\n",
    " (0, 5, 7): 0,\n",
    " (0, 6, 6): 5,\n",
    " (0, 6, 7): 2,\n",
    " (0, 7, 7): 0,\n",
    " (1, 1, 1): 10,\n",
    " (1, 1, 2): 5,\n",
    " (1, 1, 3): 5,\n",
    " (1, 1, 5): 20,\n",
    " (1, 1, 6): 2,\n",
    " (1, 1, 7): 0,\n",
    " (1, 2, 2): 5,\n",
    " (1, 2, 3): 5,\n",
    " (1, 2, 5): 10,\n",
    " (1, 2, 6): 2,\n",
    " (1, 2, 7): 0,\n",
    " (1, 3, 3): 5,\n",
    " (1, 3, 5): 10,\n",
    " (1, 3, 6): 2,\n",
    " (1, 3, 7): 0,\n",
    " (1, 5, 5): 40,\n",
    " (1, 5, 6): 10,\n",
    " (1, 5, 7): 0,\n",
    " (1, 6, 6): 5,\n",
    " (1, 6, 7): 2,\n",
    " (1, 7, 7): 0,\n",
    " (2, 2, 2): 25,\n",
    " (2, 2, 3): 5,\n",
    " (2, 2, 5): 50,\n",
    " (2, 2, 6): 2,\n",
    " (2, 2, 7): 0,\n",
    " (2, 3, 3): 5,\n",
    " (2, 3, 5): 10,\n",
    " (2, 3, 6): 2,\n",
    " (2, 3, 7): 0,\n",
    " (2, 5, 5): 100,\n",
    " (2, 5, 6): 10,\n",
    " (2, 5, 7): 0,\n",
    " (2, 6, 6): 5,\n",
    " (2, 6, 7): 2,\n",
    " (2, 7, 7): 0,\n",
    " (3, 3, 3): 40,\n",
    " (3, 3, 5): 80,\n",
    " (3, 3, 6): 2,\n",
    " (3, 3, 7): 0,\n",
    " (3, 5, 5): 160,\n",
    " (3, 5, 6): 10,\n",
    " (3, 5, 7): 0,\n",
    " (3, 6, 6): 5,\n",
    " (3, 6, 7): 2,\n",
    " (3, 7, 7): 0,\n",
    " (5, 5, 5): 1000,\n",
    " (5, 5, 6): 40,\n",
    " (5, 5, 7): 320,\n",
    " (5, 6, 6): 20,\n",
    " (5, 6, 7): 10,\n",
    " (5, 7, 7): 160,\n",
    " (6, 6, 6): 10,\n",
    " (6, 6, 7): 5,\n",
    " (6, 7, 7): 2,\n",
    " (7, 7, 7): 80}\n",
    "\n",
    "with open('slot_138.txt', 'r') as file:\n",
    "    data = []\n",
    "    for row in file.readlines():\n",
    "        data.append(tuple(map(int, row.strip().split())))\n",
    "data = np.array(data)\n",
    "\n",
    "\n",
    "def prize(x):\n",
    "    return table[tuple(sorted(x))]\n",
    "\n",
    "\n",
    "rv = { 0: 1/2, 1: 1/4, 2: 1/8, 3: 1/16, 5: 1/64, 6: 1/64, 7: 1/32}\n",
    "def prob(a, b, c):\n",
    "    if a != b and a != c and b != c:\n",
    "        k = 6\n",
    "    elif a == b == c:\n",
    "        k = 1\n",
    "    else:\n",
    "        k = 3\n",
    "    return rv[a] * rv[b] * rv[c] * k\n",
    "\n",
    "E = 0\n",
    "for a,b,c in table.keys():\n",
    "    E += table[(a,b,c)] * prob(a,b,c)\n",
    "\n",
    "# E = 0.856719970703125\n",
    "\n",
    "N = 10000\n",
    "n = len(data)\n",
    "idx = np.random.choice(n, size=(N, n))\n",
    "samples = data[idx]\n",
    "samples = np.array([ np.array([prize(bet) for bet in sample])\n",
    "                    for sample in samples])\n",
    "\n",
    "phi_b = np.array([sample.mean() - E for sample in  samples])\n",
    "phi_b.std()"
   ]
  },
  {
   "cell_type": "markdown",
   "metadata": {},
   "source": [
    "Задача 3"
   ]
  },
  {
   "cell_type": "code",
   "execution_count": 219,
   "metadata": {},
   "outputs": [
    {
     "data": {
      "text/plain": [
       "0.14917599956714375"
      ]
     },
     "execution_count": 219,
     "metadata": {},
     "output_type": "execute_result"
    }
   ],
   "source": [
    "np.random.seed(0)\n",
    "\n",
    "data_ = np.ravel(data)\n",
    "\n",
    "def prob_(a, b, c, dist):\n",
    "    if a != b and a != c and b != c:\n",
    "        k = 6\n",
    "    elif a == b == c:\n",
    "        k = 1\n",
    "    else:\n",
    "        k = 3\n",
    "    return dist[a] * dist[b] * dist[c] * k\n",
    "\n",
    "def gmean(sample):\n",
    "    dist = dict()\n",
    "    for val in [0,1,2,3,5,6,7]:\n",
    "        dist[val] = (sample == val).mean()\n",
    "    E_ = 0\n",
    "    for a,b,c in table.keys():\n",
    "        E_ += table[(a,b,c)] * prob_(a,b,c, dist)\n",
    "    return E_\n",
    "\n",
    "d = dict()\n",
    "for val in [0,1,2,3,5,6,7]:\n",
    "    d[val] = (data_ == val).mean()\n",
    "    \n",
    "N = 10000\n",
    "samples = np.random.choice(data_, size=(N, n * 3))\n",
    "phi_b = np.array([gmean(sample) - gmean(data_) for sample in  samples])\n",
    "phi_b.std()"
   ]
  },
  {
   "cell_type": "markdown",
   "metadata": {},
   "source": [
    "Задача 4"
   ]
  },
  {
   "cell_type": "code",
   "execution_count": 220,
   "metadata": {},
   "outputs": [
    {
     "data": {
      "text/plain": [
       "0.4842524149514005"
      ]
     },
     "execution_count": 220,
     "metadata": {},
     "output_type": "execute_result"
    }
   ],
   "source": [
    "N = 10000\n",
    "samples = np.random.choice(data_, size=(N, n, 3))\n",
    "samples = np.array([ np.array([prize(bet) for bet in sample])\n",
    "                    for sample in samples])\n",
    "\n",
    "E = 0.856719970703125\n",
    "\n",
    "phi_b = np.array([sample.mean() - gmean(data) for sample in  samples])\n",
    "\n",
    "phi_b.std()"
   ]
  },
  {
   "cell_type": "markdown",
   "metadata": {},
   "source": [
    "Задача 5"
   ]
  },
  {
   "cell_type": "code",
   "execution_count": 221,
   "metadata": {},
   "outputs": [
    {
     "name": "stdout",
     "output_type": "stream",
     "text": [
      "(-0.353446744633271, 0.020685579590563646)\n"
     ]
    }
   ],
   "source": [
    "import numpy as np\n",
    "from typing import Callable, Tuple\n",
    "\n",
    "def bca_interval(sample: np.array,\n",
    "                 phi: Callable[[np.array], float],\n",
    "                 phi_bsample: np.array,\n",
    "                 gamma: float) -> Tuple[float, float]:\n",
    "    F_inv = ss.norm().ppf\n",
    "    F = ss.norm().cdf\n",
    "    z_star = F_inv((phi_bsample < phi(sample)).mean())\n",
    "    mask = np.arange(len(sample))\n",
    "    phi_without = np.array([ phi(sample[mask != i]) for i in range(len(sample))])\n",
    "    a_star = ((phi_without.mean() - phi_without) ** 3).sum() / (6 * ((phi_without.mean() - phi_without) ** 2).sum() ** (3/2))\n",
    "    a = (1 - gamma) / 2\n",
    "    z_a = F_inv(a)\n",
    "    z_b = F_inv(1 - a)\n",
    "    alpha_1 = F(z_star + (z_star + z_a) / (1 - a_star * (z_star + z_a)))\n",
    "    alpha_2 = F(z_star + (z_star + z_b) / (1 - a_star * (z_star + z_b)))\n",
    "    return np.quantile(phi_bsample, alpha_1), np.quantile(phi_bsample, alpha_2)\n",
    "\n",
    "sample = ss.norm.rvs(size=100, random_state=1337)\n",
    "phi = np.mean\n",
    "phi_sample = ss.norm(loc=sample.mean(), scale=sample.std()/10).rvs(size=1000, random_state=1337)\n",
    "gamma = 0.95\n",
    "\n",
    "print(bca_interval(sample, phi, phi_sample, gamma)) # (-0.353446744633271, 0.020685579590563646)"
   ]
  }
 ],
 "metadata": {
  "colab": {
   "collapsed_sections": [],
   "provenance": []
  },
  "kernelspec": {
   "display_name": "Python 3 (ipykernel)",
   "language": "python",
   "name": "python3"
  },
  "language_info": {
   "codemirror_mode": {
    "name": "ipython",
    "version": 3
   },
   "file_extension": ".py",
   "mimetype": "text/x-python",
   "name": "python",
   "nbconvert_exporter": "python",
   "pygments_lexer": "ipython3",
   "version": "3.9.0"
  }
 },
 "nbformat": 4,
 "nbformat_minor": 1
}
