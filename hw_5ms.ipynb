{
  "nbformat": 4,
  "nbformat_minor": 0,
  "metadata": {
    "colab": {
      "provenance": [],
      "collapsed_sections": []
    },
    "kernelspec": {
      "name": "python3",
      "display_name": "Python 3"
    },
    "language_info": {
      "name": "python"
    }
  },
  "cells": [
    {
      "cell_type": "code",
      "execution_count": 1,
      "metadata": {
        "colab": {
          "base_uri": "https://localhost:8080/"
        },
        "id": "ulm9pxu_xsNB",
        "outputId": "da944390-8fef-46e3-d0f1-97bfcef777ca"
      },
      "outputs": [
        {
          "output_type": "stream",
          "name": "stdout",
          "text": [
            "Looking in indexes: https://pypi.org/simple, https://us-python.pkg.dev/colab-wheels/public/simple/\n",
            "Collecting matplotlib_inline\n",
            "  Downloading matplotlib_inline-0.1.6-py3-none-any.whl (9.4 kB)\n",
            "Requirement already satisfied: traitlets in /usr/local/lib/python3.7/dist-packages (from matplotlib_inline) (5.1.1)\n",
            "Installing collected packages: matplotlib-inline\n",
            "Successfully installed matplotlib-inline-0.1.6\n"
          ]
        }
      ],
      "source": [
        "!pip install matplotlib_inline"
      ]
    },
    {
      "cell_type": "code",
      "source": [
        "import numpy as np\n",
        "import matplotlib\n",
        "from matplotlib import pyplot as plt\n",
        "from matplotlib_inline.backend_inline import set_matplotlib_formats\n",
        "set_matplotlib_formats('svg')\n",
        "import scipy.stats as ss\n",
        "from scipy import optimize\n",
        "from scipy.optimize import minimize, LinearConstraint, NonlinearConstraint\n",
        "import pandas as pd"
      ],
      "metadata": {
        "id": "ugSvX2V1xuVl"
      },
      "execution_count": 2,
      "outputs": []
    },
    {
      "cell_type": "markdown",
      "source": [
        "**Задача 1**"
      ],
      "metadata": {
        "id": "a6OCAJyrHU0A"
      }
    },
    {
      "cell_type": "code",
      "source": [
        "alpha = 0.95\n",
        "z1 = ss.norm().ppf((1 - alpha)/2)\n",
        "z2 = ss.norm().ppf((1 + alpha)/2)\n",
        "n = 20\n",
        "x = 3/20\n",
        "\n",
        "def g(p):\n",
        "  return -2*np.arcsin(np.sqrt(1- p))\n",
        "\n",
        "def inv_g(t):\n",
        "  return np.cos(-t/2)**2\n",
        "\n",
        "\n",
        "\n",
        "interval = np.array([g(x) + z1/(np.sqrt(n)), g(x) + z2/(np.sqrt(n))])\n",
        "inv_g(interval)"
      ],
      "metadata": {
        "colab": {
          "base_uri": "https://localhost:8080/"
        },
        "id": "bFDEb520xwc5",
        "outputId": "c52aeb96-423a-43ef-a430-5621a1f7f561"
      },
      "execution_count": 15,
      "outputs": [
        {
          "output_type": "execute_result",
          "data": {
            "text/plain": [
              "array([0.03154932, 0.33460705])"
            ]
          },
          "metadata": {},
          "execution_count": 15
        }
      ]
    },
    {
      "cell_type": "markdown",
      "source": [
        "**Задача 3**\n",
        "\n",
        "$U(0, θ)$ где $θ \\in [1,+∞) $\n",
        "\n",
        "Функция распределения $x_{(n)}$: $F(t) = \\frac{t^n}{θ^n}$ при $t \\in [0;θ]$.\n",
        "\n",
        "Соответсвенно плотность: $F'(t) = p(t) = n\\frac{ t^{n-1} }{θ^n} $\n",
        "\n",
        "Тогда \n",
        "\n",
        "$$\n",
        "E(g(x_{(n)})) = \\int_0^{θ}g(t)n\\frac{ t^{n-1} }{θ^n} dt\n",
        "$$\n",
        "\n",
        "Можно взять, например, измеримую функцию $g(t) = \\frac{1 - 2t}{t^{n-1}}$ при $t \\in (0,1]$ (иначе 0) и получить:\n",
        "\n",
        "\n",
        "$$\n",
        "E(g(x_{(n)})) = \\int_0^{θ}g(t)n\\frac{ t^{n-1} }{θ^n} dt = \\int_0^1 (1 - 2t) \\frac{n}{θ^n} + 0 = 0\n",
        "$$\n",
        "\n",
        "В итоге, получили g = 0 (п.в.) - ложь, такую что $\\forall θ \\geq 1 E(g(x_{(n)})) = 0$, что противоречит полноте $x{(n)}$."
      ],
      "metadata": {
        "id": "6Y_xCZ03-qdd"
      }
    },
    {
      "cell_type": "markdown",
      "source": [
        "**Задача 4**\n",
        "\n",
        "Полной и достаточной статистикой будет: $max(1, x_{(n)}) = y$\n",
        "\n",
        "Полнота:\n",
        "\n",
        "для t > 1\n",
        "$$\n",
        "P(y \\leq t) = P(x_{(n)} < 1)P(y < t) + P(1 \\leq x_{(n)} \\leq t) = \\frac{1}{θ^n}1 + \\int_1^t  n\\frac{ t^{n-1} }{θ^n} dt =  \\frac{t^n}{θ^n}\n",
        "$$ \n",
        "\n",
        "Значит плотность: $p(t) = n\\frac{ t^{n-1} }{θ^n}$ при $t \\in (1, \\theta]$  и ноль иначе.\n",
        "\n",
        "Тогда  $\\forall θ \\in [1, \\infty)$\n",
        "$$\n",
        "E(g(x_{(n)})) = \\int_1^{θ}g(t)n\\frac{ t^{n-1} }{θ^n} dt = 0 \\Rightarrow g(t) = 0 \\text(п.в.) \\forall t \\in (1, \\infty) \n",
        "$$\n",
        "\n",
        "т.к.\n",
        "$$\n",
        "\\forall θ \\in [1, \\infty) \\int_1^{θ}g(t)n\\frac{ t^{n-1} }{θ^n} dt = 0 ⇔ \\forall t \\in [1, \\infty) g(t)t^{n-1} ⇒ \\forall t \\in [1, \\infty) g(t) = 0\n",
        "$$\n",
        "($\\forall t \\in \\dots$ - значит почти всюду)\n",
        "\n",
        "Значит у нас есть достаточность.\n",
        "\n",
        "Достаточность:\n",
        "\n",
        "Заметим, что так как $θ \\geq 1$, то \n",
        "$\\mathbb{I}(0 \\leq x_{(n)} \\leq θ) = \\mathbb{I}(0 \\leq max(x_{(n)}, 1) \\leq θ)$\n",
        "\n",
        "Тогда:\n",
        "$$\n",
        "p(x_1, \\dots, x_n) = \\prod_1^n x_i (\\frac{1}{θ})^n \\mathbb{I}(0 \\leq x_{(n)} \\leq θ) = [(\\frac{1}{θ})^n \\mathbb{I}(0 \\leq max(x_{(n)}, 1) \\leq θ)] * [\\prod_1^n x_i]\n",
        "$$\n",
        "\n",
        "$h(x_{[n]}) = \\prod_1^n x_i$\n",
        "\n",
        "$g(max(x_{(n)}, 1), θ) = (\\frac{1}{θ})^n \\mathbb{I}(0 \\leq max(x_{(n)}, 1) \\leq θ)$"
      ],
      "metadata": {
        "id": "w7iKJOeMCcqc"
      }
    },
    {
      "cell_type": "markdown",
      "source": [
        "**Задача 5**\n",
        "\n",
        "По теореме Лемана—Шеффе $E(\\frac{n+1}{n}x_{(n)} | max(x_{(n)}, 1))$ - эффективна в классе несмещенных оценок $θ$ ($\\frac{n+1}{n}x_{(n)}$ - несмещенная)\n",
        "\n",
        "$$\n",
        "E(\\frac{n+1}{n}x_{(n)}| max(x_{(n)}, 1)) = \\frac{n + 1}{n} E(x_{(n)}| max(x_{(n)}, 1))\n",
        "$$\n",
        "\n",
        "\n",
        "$$\n",
        "E(x_{(n)}| max(x_{(n)}, 1)) = \\mathbb{I}(max(x_{(n)}, 1) > 1) E(x_{(n)}| x_{(n)}) + \\mathbb{I}(max(x_{(n)}, 1) = 1) E(x_{(n)} | 0 \\leq x_{(n)} \\leq 1)\n",
        "$$\n",
        "\n",
        "$$\n",
        "E(x_{(n)} | 0 \\leq x_{(n)} \\leq 1) = \\frac{\\int_0^1 t n\\frac{t^{n -1}}{\\theta^n}  dt}{\\int_0^1 n\\frac{t^{n -1}}{\\theta^n}  dt} = \\frac{\\int_0^1 t n\\frac{t^{n -1}}{\\theta^n}  dt}{\\frac{1}{θ^n}} = \\int_0^1 nt^{n}  dt = \\frac{n}{n + 1}\n",
        "$$\n",
        "\n",
        "Итого получаем:\n",
        "\n",
        "$$\n",
        "E(\\frac{n+1}{n}x_{(n)}| max(x_{(n)}, 1)) = \\frac{n+1}{n}E(x_{(n)}| max(x_{(n)}, 1)) = \\mathbb{I}(max(x_{(n)}, 1) > 1)\\frac{n+1}{n}x_{(n)} + \\mathbb{I}(max(x_{(n)}, 1) = 1)\n",
        "$$\n",
        "\\- эффективная оценка в классе несмещенных.\n"
      ],
      "metadata": {
        "id": "nukMN9G1Ktug"
      }
    }
  ]
}